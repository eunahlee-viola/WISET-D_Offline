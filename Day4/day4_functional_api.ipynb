{
  "nbformat": 4,
  "nbformat_minor": 0,
  "metadata": {
    "colab": {
      "name": "functional_api.ipynb",
      "provenance": [],
      "collapsed_sections": [],
      "toc_visible": true
    },
    "kernelspec": {
      "name": "python3",
      "display_name": "Python 3"
    },
    "accelerator": "GPU"
  },
  "cells": [
    {
      "cell_type": "code",
      "metadata": {
        "id": "I2JyIr3sIRIy",
        "colab_type": "code",
        "colab": {
          "base_uri": "https://localhost:8080/",
          "height": 35
        },
        "outputId": "0651876c-aca5-4d9f-dddf-646a389bd7d3"
      },
      "source": [
        "%tensorflow_version 1.x"
      ],
      "execution_count": 1,
      "outputs": [
        {
          "output_type": "stream",
          "text": [
            "TensorFlow 1.x selected.\n"
          ],
          "name": "stdout"
        }
      ]
    },
    {
      "cell_type": "markdown",
      "metadata": {
        "id": "c503DSvxvOU5",
        "colab_type": "text"
      },
      "source": [
        "# 이전 CNN MNIST\n"
      ]
    },
    {
      "cell_type": "code",
      "metadata": {
        "id": "fYlMkT8axIoi",
        "colab_type": "code",
        "colab": {}
      },
      "source": [
        "import numpy as np\n",
        "import matplotlib.pyplot as plt\n",
        "\n",
        "import tensorflow as tf\n",
        "from tensorflow import keras\n",
        "from tensorflow.keras import optimizers\n",
        "from tensorflow.keras.layers import Dense, Flatten, Conv2D, MaxPooling2D, Input\n",
        "\n",
        "import time"
      ],
      "execution_count": 2,
      "outputs": []
    },
    {
      "cell_type": "code",
      "metadata": {
        "id": "puN5QRLz2toU",
        "colab_type": "code",
        "colab": {
          "base_uri": "https://localhost:8080/",
          "height": 52
        },
        "outputId": "e4fa8fce-2876-4519-f21c-b486d6122668"
      },
      "source": [
        "(raw_train_x, raw_train_y), (raw_test_x, raw_test_y) = tf.keras.datasets.mnist.load_data()\n",
        "\n",
        "train_x = raw_train_x/255\n",
        "test_x = raw_test_x/255\n",
        "\n",
        "train_x = train_x.reshape((60000, 28, 28, 1))\n",
        "test_x = test_x.reshape((10000, 28, 28, 1))\n",
        "\n",
        "train_y = raw_train_y\n",
        "test_y = raw_test_y"
      ],
      "execution_count": 3,
      "outputs": [
        {
          "output_type": "stream",
          "text": [
            "Downloading data from https://storage.googleapis.com/tensorflow/tf-keras-datasets/mnist.npz\n",
            "11493376/11490434 [==============================] - 0s 0us/step\n"
          ],
          "name": "stdout"
        }
      ]
    },
    {
      "cell_type": "code",
      "metadata": {
        "id": "kkrsyGy2Ixk2",
        "colab_type": "code",
        "colab": {
          "base_uri": "https://localhost:8080/",
          "height": 87
        },
        "outputId": "5ce27d48-76b0-4603-e2e9-40183e6b6d6e"
      },
      "source": [
        "model = keras.Sequential()\n",
        "model.add(Input((28,28,1)))\n",
        "model.add(Conv2D(32, (3, 3)))\n",
        "model.add(MaxPooling2D((2, 2)))\n",
        "model.add(Conv2D(64, (3, 3)))\n",
        "model.add(MaxPooling2D((2, 2)))\n",
        "model.add(Flatten())\n",
        "model.add(Dense(10, activation='relu'))\n",
        "model.add(Dense(10, activation='relu'))\n",
        "model.add(Dense(10, activation='softmax'))"
      ],
      "execution_count": null,
      "outputs": [
        {
          "output_type": "stream",
          "text": [
            "WARNING:tensorflow:From /tensorflow-1.15.2/python3.6/tensorflow_core/python/ops/resource_variable_ops.py:1630: calling BaseResourceVariable.__init__ (from tensorflow.python.ops.resource_variable_ops) with constraint is deprecated and will be removed in a future version.\n",
            "Instructions for updating:\n",
            "If using Keras pass *_constraint arguments to layers.\n"
          ],
          "name": "stdout"
        }
      ]
    },
    {
      "cell_type": "code",
      "metadata": {
        "id": "cuW2ftNT2trB",
        "colab_type": "code",
        "colab": {
          "base_uri": "https://localhost:8080/",
          "height": 672
        },
        "outputId": "5d0a5788-792d-4134-98b3-97501e0f9888"
      },
      "source": [
        "model.compile(optimizer=\"adam\", loss=\"sparse_categorical_crossentropy\", metrics=[\"accuracy\"])\n",
        "model.summary()\n",
        "\n",
        "\n",
        "model.fit(train_x, train_y, epochs=5, verbose=1, batch_size=128)\n",
        "\n",
        "\n",
        "loss, acc = model.evaluate(test_x, test_y)\n",
        "print(\"loss=\",loss)\n",
        "print(\"acc=\",acc)\n",
        "\n",
        "y_ = model.predict(test_x)\n",
        "predicted = np.argmax(y_, axis=1)\n",
        "\n",
        "print(predicted)\n"
      ],
      "execution_count": null,
      "outputs": [
        {
          "output_type": "stream",
          "text": [
            "Model: \"sequential\"\n",
            "_________________________________________________________________\n",
            "Layer (type)                 Output Shape              Param #   \n",
            "=================================================================\n",
            "conv2d (Conv2D)              (None, 26, 26, 32)        320       \n",
            "_________________________________________________________________\n",
            "max_pooling2d (MaxPooling2D) (None, 13, 13, 32)        0         \n",
            "_________________________________________________________________\n",
            "conv2d_1 (Conv2D)            (None, 11, 11, 64)        18496     \n",
            "_________________________________________________________________\n",
            "max_pooling2d_1 (MaxPooling2 (None, 5, 5, 64)          0         \n",
            "_________________________________________________________________\n",
            "flatten (Flatten)            (None, 1600)              0         \n",
            "_________________________________________________________________\n",
            "dense (Dense)                (None, 10)                16010     \n",
            "_________________________________________________________________\n",
            "dense_1 (Dense)              (None, 10)                110       \n",
            "_________________________________________________________________\n",
            "dense_2 (Dense)              (None, 10)                110       \n",
            "=================================================================\n",
            "Total params: 35,046\n",
            "Trainable params: 35,046\n",
            "Non-trainable params: 0\n",
            "_________________________________________________________________\n",
            "Train on 60000 samples\n",
            "Epoch 1/5\n",
            "60000/60000 [==============================] - 8s 130us/sample - loss: 0.6969 - acc: 0.7809\n",
            "Epoch 2/5\n",
            "60000/60000 [==============================] - 2s 26us/sample - loss: 0.1832 - acc: 0.9474\n",
            "Epoch 3/5\n",
            "60000/60000 [==============================] - 2s 27us/sample - loss: 0.1316 - acc: 0.9618\n",
            "Epoch 4/5\n",
            "60000/60000 [==============================] - 2s 27us/sample - loss: 0.1102 - acc: 0.9674\n",
            "Epoch 5/5\n",
            "60000/60000 [==============================] - 2s 27us/sample - loss: 0.0931 - acc: 0.9720\n",
            "10000/10000 [==============================] - 0s 49us/sample - loss: 0.1082 - acc: 0.9678\n",
            "loss= 0.10819497306905687\n",
            "acc= 0.9678\n",
            "[7 2 1 ... 4 5 6]\n"
          ],
          "name": "stdout"
        }
      ]
    },
    {
      "cell_type": "markdown",
      "metadata": {
        "id": "_6yj3_5GI064",
        "colab_type": "text"
      },
      "source": [
        "# Functional API 타입 CNN MNIST"
      ]
    },
    {
      "cell_type": "code",
      "metadata": {
        "id": "nRkSjvdSkgfc",
        "colab_type": "code",
        "colab": {}
      },
      "source": [
        "import numpy as np\n",
        "import matplotlib.pyplot as plt\n",
        "\n",
        "import tensorflow as tf\n",
        "from tensorflow import keras\n",
        "from tensorflow.keras import optimizers\n",
        "from tensorflow.keras.layers import Dense, Flatten, Conv2D, MaxPooling2D, Input\n",
        "\n",
        "import time"
      ],
      "execution_count": null,
      "outputs": []
    },
    {
      "cell_type": "code",
      "metadata": {
        "id": "H1C6Ev9hI7JD",
        "colab_type": "code",
        "colab": {}
      },
      "source": [
        "# model = keras.Sequential()\n",
        "# model.add(Input((28,28,1)))\n",
        "# model.add(Conv2D(32, (3, 3)))\n",
        "# model.add(MaxPooling2D((2, 2)))\n",
        "# model.add(Conv2D(64, (3, 3)))\n",
        "# model.add(MaxPooling2D((2, 2)))\n",
        "# model.add(Flatten())\n",
        "# model.add(Dense(10, activation='relu'))\n",
        "# model.add(Dense(10, activation='relu'))\n",
        "# model.add(Dense(10, activation='softmax'))\n",
        "\n",
        "from tensorflow.keras import Model\n",
        "\n",
        "input = Input((28,28,1))\n",
        "x = Conv2D(32, (3,3))(input)\n",
        "x = MaxPooling2D((2,2))(x)\n",
        "x = Conv2D(32, (3,3))(x)\n",
        "x = MaxPooling2D((2,2))(x)\n",
        "x = Flatten()(x)\n",
        "x = Dense(10, activation='relu')(x)\n",
        "x = Dense(10, activation='relu')(x)\n",
        "output = Dense(10, activation='softmax')(x)\n",
        "\n",
        "model = Model(input, output)"
      ],
      "execution_count": 5,
      "outputs": []
    },
    {
      "cell_type": "code",
      "metadata": {
        "id": "SH90FFocI7GG",
        "colab_type": "code",
        "colab": {
          "base_uri": "https://localhost:8080/",
          "height": 746
        },
        "outputId": "c6c373d5-0251-4c97-a9fd-c0e03b7291a8"
      },
      "source": [
        "model.compile(optimizer=\"adam\", loss=\"sparse_categorical_crossentropy\", metrics=[\"accuracy\"])\n",
        "model.summary()\n",
        "\n",
        "\n",
        "model.fit(train_x, train_y, epochs=5, verbose=1, batch_size=128)\n",
        "\n",
        "\n",
        "loss, acc = model.evaluate(test_x, test_y)\n",
        "print(\"loss=\",loss)\n",
        "print(\"acc=\",acc)\n",
        "\n",
        "y_ = model.predict(test_x)\n",
        "predicted = np.argmax(y_, axis=1)\n",
        "\n",
        "print(predicted)"
      ],
      "execution_count": 6,
      "outputs": [
        {
          "output_type": "stream",
          "text": [
            "Model: \"model_1\"\n",
            "_________________________________________________________________\n",
            "Layer (type)                 Output Shape              Param #   \n",
            "=================================================================\n",
            "input_2 (InputLayer)         [(None, 28, 28, 1)]       0         \n",
            "_________________________________________________________________\n",
            "conv2d_2 (Conv2D)            (None, 26, 26, 32)        320       \n",
            "_________________________________________________________________\n",
            "max_pooling2d_2 (MaxPooling2 (None, 13, 13, 32)        0         \n",
            "_________________________________________________________________\n",
            "conv2d_3 (Conv2D)            (None, 11, 11, 32)        9248      \n",
            "_________________________________________________________________\n",
            "max_pooling2d_3 (MaxPooling2 (None, 5, 5, 32)          0         \n",
            "_________________________________________________________________\n",
            "flatten_1 (Flatten)          (None, 800)               0         \n",
            "_________________________________________________________________\n",
            "dense_3 (Dense)              (None, 10)                8010      \n",
            "_________________________________________________________________\n",
            "dense_4 (Dense)              (None, 10)                110       \n",
            "_________________________________________________________________\n",
            "dense_5 (Dense)              (None, 10)                110       \n",
            "=================================================================\n",
            "Total params: 17,798\n",
            "Trainable params: 17,798\n",
            "Non-trainable params: 0\n",
            "_________________________________________________________________\n",
            "Train on 60000 samples\n",
            "Epoch 1/5\n",
            "60000/60000 [==============================] - 9s 156us/sample - loss: 0.6458 - acc: 0.7976\n",
            "Epoch 2/5\n",
            "60000/60000 [==============================] - 3s 54us/sample - loss: 0.1747 - acc: 0.9511\n",
            "Epoch 3/5\n",
            "60000/60000 [==============================] - 3s 54us/sample - loss: 0.1171 - acc: 0.9668\n",
            "Epoch 4/5\n",
            "60000/60000 [==============================] - 3s 54us/sample - loss: 0.0914 - acc: 0.9734\n",
            "Epoch 5/5\n",
            "60000/60000 [==============================] - 3s 55us/sample - loss: 0.0804 - acc: 0.9764\n",
            "10000/10000 [==============================] - 1s 83us/sample - loss: 0.0705 - acc: 0.9796\n",
            "loss= 0.0705301325852517\n",
            "acc= 0.9796\n",
            "[7 2 1 ... 4 5 6]\n"
          ],
          "name": "stdout"
        }
      ]
    },
    {
      "cell_type": "markdown",
      "metadata": {
        "id": "WRB8AVGJK_Iz",
        "colab_type": "text"
      },
      "source": [
        "# 다중 입력\n",
        "\n",
        "copy from https://www.pyimagesearch.com/2019/02/04/keras-multiple-inputs-and-mixed-data/\n"
      ]
    },
    {
      "cell_type": "markdown",
      "metadata": {
        "id": "aR8fS0GoE3m_",
        "colab_type": "text"
      },
      "source": [
        "## 데이터 준비"
      ]
    },
    {
      "cell_type": "code",
      "metadata": {
        "id": "w6UWmnjzI7DS",
        "colab_type": "code",
        "colab": {
          "base_uri": "https://localhost:8080/",
          "height": 106
        },
        "outputId": "c07a6e01-5fd1-4cb7-98c4-d9eded03d30c"
      },
      "source": [
        "!git clone https://github.com/emanhamed/Houses-dataset"
      ],
      "execution_count": 7,
      "outputs": [
        {
          "output_type": "stream",
          "text": [
            "Cloning into 'Houses-dataset'...\n",
            "remote: Enumerating objects: 2166, done.\u001b[K\n",
            "remote: Total 2166 (delta 0), reused 0 (delta 0), pack-reused 2166\u001b[K\n",
            "Receiving objects: 100% (2166/2166), 176.26 MiB | 11.49 MiB/s, done.\n",
            "Resolving deltas: 100% (20/20), done.\n"
          ],
          "name": "stdout"
        }
      ]
    },
    {
      "cell_type": "markdown",
      "metadata": {
        "id": "tgLmgfnJFJkR",
        "colab_type": "text"
      },
      "source": [
        "```\n",
        "Houses-dataset/\n",
        "  Houses Dataset\n",
        "    100_bathroom.jpg\n",
        "    100_bedroom.jpg\n",
        "    ...\n",
        "    HousesInfo.txt\n",
        "```"
      ]
    },
    {
      "cell_type": "code",
      "metadata": {
        "id": "LnppMLOAFgtQ",
        "colab_type": "code",
        "colab": {
          "base_uri": "https://localhost:8080/",
          "height": 195
        },
        "outputId": "17dc790d-f11a-498f-de61-01d1f5a9a627"
      },
      "source": [
        "!head 'Houses-dataset/Houses Dataset/HousesInfo.txt'"
      ],
      "execution_count": 8,
      "outputs": [
        {
          "output_type": "stream",
          "text": [
            "4 4 4053 85255 869500\n",
            "4 3 3343 36372 865200\n",
            "3 4 3923 85266 889000\n",
            "5 5 4022 85262 910000\n",
            "3 4 4116 85266 971226\n",
            "4 5 4581 85266 1249000\n",
            "3 4 2544 85262 799000\n",
            "4 5 5524 85266 1698000\n",
            "3 4 4229 85255 1749000\n",
            "4 5 3550 85262 1500000\n"
          ],
          "name": "stdout"
        }
      ]
    },
    {
      "cell_type": "code",
      "metadata": {
        "id": "FEteIEtNFwvP",
        "colab_type": "code",
        "colab": {}
      },
      "source": [
        "# import the necessary packages\n",
        "from sklearn.preprocessing import LabelBinarizer\n",
        "from sklearn.preprocessing import MinMaxScaler\n",
        "import pandas as pd\n",
        "import numpy as np\n",
        "import glob\n",
        "import cv2\n",
        "import os\n",
        "\n",
        "def load_house_attributes(inputPath):\n",
        "\n",
        "\tcols = [\"bedrooms\", \"bathrooms\", \"area\", \"zipcode\", \"price\"]\n",
        "\tdf = pd.read_csv(inputPath, sep=\" \", header=None, names=cols)\n",
        " \n",
        "\t# determine (1) the unique zip codes and (2) the number of data\n",
        "\t# points with each zip code\n",
        "\tzipcodes = df[\"zipcode\"].value_counts().keys().tolist()\n",
        "\tcounts = df[\"zipcode\"].value_counts().tolist()\n",
        " \n",
        "\t# loop over each of the unique zip codes and their corresponding\n",
        "\t# count\n",
        "\tfor (zipcode, count) in zip(zipcodes, counts):\n",
        "\t\t# the zip code counts for our housing dataset is *extremely*\n",
        "\t\t# unbalanced (some only having 1 or 2 houses per zip code)\n",
        "\t\t# so let's sanitize our data by removing any houses with less\n",
        "\t\t# than 25 houses per zip code\n",
        "\t\tif count < 25:\n",
        "\t\t\tidxs = df[df[\"zipcode\"] == zipcode].index\n",
        "\t\t\tdf.drop(idxs, inplace=True)\n",
        "   \n",
        "\t# return the data frame\n",
        "\treturn df\n",
        "\n",
        "def process_house_attributes(df, train, test):\n",
        "\t# initialize the column names of the continuous data\n",
        "\tcontinuous = [\"bedrooms\", \"bathrooms\", \"area\"]\n",
        "\n",
        "\t# performin min-max scaling each continuous feature column to\n",
        "\t# the range [0, 1]\n",
        "\tcs = MinMaxScaler()\n",
        "\ttrainContinuous = cs.fit_transform(train[continuous])\n",
        "\ttestContinuous = cs.transform(test[continuous])\n",
        " \n",
        "\t# one-hot encode the zip code categorical data (by definition of\n",
        "\t# one-hot encoding, all output features are now in the range [0, 1])\n",
        "\tzipBinarizer = LabelBinarizer().fit(df[\"zipcode\"])\n",
        "\ttrainCategorical = zipBinarizer.transform(train[\"zipcode\"])\n",
        "\ttestCategorical = zipBinarizer.transform(test[\"zipcode\"])\n",
        " \n",
        "\t# construct our training and testing data points by concatenating\n",
        "\t# the categorical features with the continuous features\n",
        "\ttrainX = np.hstack([trainCategorical, trainContinuous])\n",
        "\ttestX = np.hstack([testCategorical, testContinuous])\n",
        " \n",
        "\t# return the concatenated training and testing data\n",
        "\treturn (trainX, testX)  "
      ],
      "execution_count": 9,
      "outputs": []
    },
    {
      "cell_type": "code",
      "metadata": {
        "id": "_I8GQV4mFwrk",
        "colab_type": "code",
        "colab": {}
      },
      "source": [
        "def load_house_images(df, inputPath):\n",
        "\n",
        "\t# initialize our images array (i.e., the house images themselves)\n",
        "\timages = []\n",
        "\n",
        "\t# loop over the indexes of the houses\n",
        "\tfor i in df.index.values:\n",
        "\t\t# find the four images for the house and sort the file paths,\n",
        "\t\t# ensuring the four are always in the *same order*\n",
        "\t\tbasePath = os.path.sep.join([inputPath, \"{}_*\".format(i + 1)])\n",
        "\t\thousePaths = sorted(list(glob.glob(basePath)))\n",
        "  \n",
        "\t\t# initialize our list of input images along with the output image\n",
        "\t\t# after *combining* the four input images\n",
        "\t\tinputImages = []\n",
        "\t\toutputImage = np.zeros((64, 64, 3), dtype=\"uint8\")\n",
        "  \n",
        "\t\t# loop over the input house paths\n",
        "\t\tfor housePath in housePaths:\n",
        "\t\t\t# load the input image, resize it to be 32 32, and then\n",
        "\t\t\t# update the list of input images\n",
        "\t\t\timage = cv2.imread(housePath)\n",
        "\t\t\timage = cv2.resize(image, (32, 32))\n",
        "\t\t\tinputImages.append(image)\n",
        "   \n",
        "\t\t# tile the four input images in the output image such the first\n",
        "\t\t# image goes in the top-right corner, the second image in the\n",
        "\t\t# top-left corner, the third image in the bottom-right corner,\n",
        "\t\t# and the final image in the bottom-left corner\n",
        "\t\toutputImage[0:32, 0:32] = inputImages[0]\n",
        "\t\toutputImage[0:32, 32:64] = inputImages[1]\n",
        "\t\toutputImage[32:64, 32:64] = inputImages[2]\n",
        "\t\toutputImage[32:64, 0:32] = inputImages[3]\n",
        "\n",
        "\t\t# add the tiled image to our set of images the network will be\n",
        "\t\t# trained on\n",
        "\t\timages.append(outputImage)\n",
        "  \n",
        "\t# return our set of images\n",
        "\treturn np.array(images)  "
      ],
      "execution_count": 10,
      "outputs": []
    },
    {
      "cell_type": "markdown",
      "metadata": {
        "id": "HEJ6Gp0qHVi6",
        "colab_type": "text"
      },
      "source": [
        "### 값 정보 읽기"
      ]
    },
    {
      "cell_type": "code",
      "metadata": {
        "id": "Ke6Xu-5PGdkr",
        "colab_type": "code",
        "colab": {}
      },
      "source": [
        "df = load_house_attributes(\"Houses-dataset/Houses Dataset/HousesInfo.txt\")"
      ],
      "execution_count": 11,
      "outputs": []
    },
    {
      "cell_type": "code",
      "metadata": {
        "id": "ouQ27yABHR2w",
        "colab_type": "code",
        "colab": {
          "base_uri": "https://localhost:8080/",
          "height": 194
        },
        "outputId": "724f76b3-0fb6-4928-abcb-2e2bfc8857a5"
      },
      "source": [
        "df.head()"
      ],
      "execution_count": 12,
      "outputs": [
        {
          "output_type": "execute_result",
          "data": {
            "text/html": [
              "<div>\n",
              "<style scoped>\n",
              "    .dataframe tbody tr th:only-of-type {\n",
              "        vertical-align: middle;\n",
              "    }\n",
              "\n",
              "    .dataframe tbody tr th {\n",
              "        vertical-align: top;\n",
              "    }\n",
              "\n",
              "    .dataframe thead th {\n",
              "        text-align: right;\n",
              "    }\n",
              "</style>\n",
              "<table border=\"1\" class=\"dataframe\">\n",
              "  <thead>\n",
              "    <tr style=\"text-align: right;\">\n",
              "      <th></th>\n",
              "      <th>bedrooms</th>\n",
              "      <th>bathrooms</th>\n",
              "      <th>area</th>\n",
              "      <th>zipcode</th>\n",
              "      <th>price</th>\n",
              "    </tr>\n",
              "  </thead>\n",
              "  <tbody>\n",
              "    <tr>\n",
              "      <th>30</th>\n",
              "      <td>5</td>\n",
              "      <td>3.0</td>\n",
              "      <td>2520</td>\n",
              "      <td>93446</td>\n",
              "      <td>789000</td>\n",
              "    </tr>\n",
              "    <tr>\n",
              "      <th>32</th>\n",
              "      <td>3</td>\n",
              "      <td>2.0</td>\n",
              "      <td>1802</td>\n",
              "      <td>93446</td>\n",
              "      <td>365000</td>\n",
              "    </tr>\n",
              "    <tr>\n",
              "      <th>39</th>\n",
              "      <td>3</td>\n",
              "      <td>3.0</td>\n",
              "      <td>2146</td>\n",
              "      <td>93446</td>\n",
              "      <td>455000</td>\n",
              "    </tr>\n",
              "    <tr>\n",
              "      <th>80</th>\n",
              "      <td>4</td>\n",
              "      <td>2.5</td>\n",
              "      <td>2464</td>\n",
              "      <td>91901</td>\n",
              "      <td>599000</td>\n",
              "    </tr>\n",
              "    <tr>\n",
              "      <th>81</th>\n",
              "      <td>2</td>\n",
              "      <td>2.0</td>\n",
              "      <td>1845</td>\n",
              "      <td>91901</td>\n",
              "      <td>529800</td>\n",
              "    </tr>\n",
              "  </tbody>\n",
              "</table>\n",
              "</div>"
            ],
            "text/plain": [
              "    bedrooms  bathrooms  area  zipcode   price\n",
              "30         5        3.0  2520    93446  789000\n",
              "32         3        2.0  1802    93446  365000\n",
              "39         3        3.0  2146    93446  455000\n",
              "80         4        2.5  2464    91901  599000\n",
              "81         2        2.0  1845    91901  529800"
            ]
          },
          "metadata": {
            "tags": []
          },
          "execution_count": 12
        }
      ]
    },
    {
      "cell_type": "markdown",
      "metadata": {
        "id": "J-xIyIR1HZiE",
        "colab_type": "text"
      },
      "source": [
        "### 영상 데이터 읽기"
      ]
    },
    {
      "cell_type": "code",
      "metadata": {
        "id": "FuZ-lxe_Gde4",
        "colab_type": "code",
        "colab": {}
      },
      "source": [
        "images = load_house_images(df, \"Houses-dataset/Houses Dataset/\")\n",
        "images = images/255."
      ],
      "execution_count": 13,
      "outputs": []
    },
    {
      "cell_type": "code",
      "metadata": {
        "id": "wZhmpoc8HNfQ",
        "colab_type": "code",
        "colab": {
          "base_uri": "https://localhost:8080/",
          "height": 35
        },
        "outputId": "0527a674-a724-4713-cc9c-6a3a626a5990"
      },
      "source": [
        "print(images.shape)"
      ],
      "execution_count": 14,
      "outputs": [
        {
          "output_type": "stream",
          "text": [
            "(362, 64, 64, 3)\n"
          ],
          "name": "stdout"
        }
      ]
    },
    {
      "cell_type": "code",
      "metadata": {
        "id": "ZW9H5fZuHNbW",
        "colab_type": "code",
        "colab": {}
      },
      "source": [
        "from sklearn.model_selection import train_test_split\n",
        "\n",
        "(trainAttrX, testAttrX, trainImagesX, testImagesX) = train_test_split(df, images, test_size=0.25, random_state=42)\n",
        "\n",
        "maxPrice = trainAttrX[\"price\"].max()\n",
        "trainY = trainAttrX[\"price\"] / maxPrice\n",
        "testY = testAttrX[\"price\"] / maxPrice\n",
        "(trainAttrX, testAttrX) = process_house_attributes(df, trainAttrX, testAttrX)"
      ],
      "execution_count": 18,
      "outputs": []
    },
    {
      "cell_type": "code",
      "metadata": {
        "id": "ZoR7qloQHNYn",
        "colab_type": "code",
        "colab": {
          "base_uri": "https://localhost:8080/",
          "height": 124
        },
        "outputId": "0b21b81e-aae6-47e3-9828-753ac45b51f0"
      },
      "source": [
        "print(\"tainAttrX.shape=\", trainAttrX.shape)\n",
        "print(\"trainImagesX.shape=\", trainImagesX.shape)\n",
        "print(\"trainY.shape=\", trainY.shape)\n",
        "print(\"testAttrX.shape=\", testAttrX.shape)\n",
        "print(\"testImageX.shape=\", testImagesX.shape)\n",
        "print(\"testY.shape=\", testY.shape)"
      ],
      "execution_count": 19,
      "outputs": [
        {
          "output_type": "stream",
          "text": [
            "tainAttrX.shape= (271, 10)\n",
            "trainImagesX.shape= (271, 64, 64, 3)\n",
            "trainY.shape= (271,)\n",
            "testAttrX.shape= (91, 10)\n",
            "testImageX.shape= (91, 64, 64, 3)\n",
            "testY.shape= (91,)\n"
          ],
          "name": "stdout"
        }
      ]
    },
    {
      "cell_type": "code",
      "metadata": {
        "id": "aZclMyzHFwpA",
        "colab_type": "code",
        "colab": {}
      },
      "source": [
        "# import the necessary packages\n",
        "from tensorflow.keras.models import Sequential\n",
        "from tensorflow.keras.layers import BatchNormalization\n",
        "from tensorflow.keras.layers import Conv2D\n",
        "from tensorflow.keras.layers import MaxPooling2D\n",
        "from tensorflow.keras.layers import Activation\n",
        "from tensorflow.keras.layers import Dropout\n",
        "from tensorflow.keras.layers import Dense\n",
        "from tensorflow.keras.layers import Flatten\n",
        "from tensorflow.keras.layers import Input\n",
        "from tensorflow.keras.models import Model\n",
        "from tensorflow.keras.layers import concatenate"
      ],
      "execution_count": 21,
      "outputs": []
    },
    {
      "cell_type": "markdown",
      "metadata": {
        "id": "kow-UjvTIlO7",
        "colab_type": "text"
      },
      "source": [
        "## 개별 모델로 학습 실행"
      ]
    },
    {
      "cell_type": "markdown",
      "metadata": {
        "id": "rMiM6S1aJDdi",
        "colab_type": "text"
      },
      "source": [
        "### 속성 모델"
      ]
    },
    {
      "cell_type": "code",
      "metadata": {
        "id": "a7ABhyiqFwj7",
        "colab_type": "code",
        "colab": {}
      },
      "source": [
        "input = Input(trainAttrX[0].shape)\n",
        "x = Dense(10, activation='relu')(input)\n",
        "x = Dense(10, activation='relu')(x)\n",
        "output = Dense(1)(x)\n",
        "\n",
        "attr_model = Model(input, output)"
      ],
      "execution_count": 22,
      "outputs": []
    },
    {
      "cell_type": "code",
      "metadata": {
        "id": "roratdC_JdVs",
        "colab_type": "code",
        "colab": {
          "base_uri": "https://localhost:8080/",
          "height": 319
        },
        "outputId": "e6c89d6d-ed30-44b6-a64c-b0d430bf8c9d"
      },
      "source": [
        "attr_model.compile(optimizer=\"adam\", loss=\"mse\")\n",
        "attr_model.summary()\n",
        "\n",
        "attr_model.fit(trainAttrX, trainY, epochs=100, verbose=0, batch_size=128)"
      ],
      "execution_count": 23,
      "outputs": [
        {
          "output_type": "stream",
          "text": [
            "Model: \"model_2\"\n",
            "_________________________________________________________________\n",
            "Layer (type)                 Output Shape              Param #   \n",
            "=================================================================\n",
            "input_3 (InputLayer)         [(None, 10)]              0         \n",
            "_________________________________________________________________\n",
            "dense_6 (Dense)              (None, 10)                110       \n",
            "_________________________________________________________________\n",
            "dense_7 (Dense)              (None, 10)                110       \n",
            "_________________________________________________________________\n",
            "dense_8 (Dense)              (None, 1)                 11        \n",
            "=================================================================\n",
            "Total params: 231\n",
            "Trainable params: 231\n",
            "Non-trainable params: 0\n",
            "_________________________________________________________________\n"
          ],
          "name": "stdout"
        },
        {
          "output_type": "execute_result",
          "data": {
            "text/plain": [
              "<tensorflow.python.keras.callbacks.History at 0x7f6968f44ac8>"
            ]
          },
          "metadata": {
            "tags": []
          },
          "execution_count": 23
        }
      ]
    },
    {
      "cell_type": "code",
      "metadata": {
        "id": "Hk5WagwnJdTO",
        "colab_type": "code",
        "colab": {
          "base_uri": "https://localhost:8080/",
          "height": 35
        },
        "outputId": "7bde7d5b-be4f-45b5-94d6-626f92c4683e"
      },
      "source": [
        "preds = attr_model.predict(testAttrX)\n",
        "\n",
        "diff = preds.flatten() - testY\n",
        "percentDiff = (diff / testY) * 100\n",
        "absPercentDiff = np.abs(percentDiff)\n",
        "\n",
        "mean = np.mean(absPercentDiff)\n",
        "std = np.std(absPercentDiff)\n",
        "\n",
        "print(\"[INFO] mean: {:.2f}%, std: {:.2f}\".format(mean, std))"
      ],
      "execution_count": 24,
      "outputs": [
        {
          "output_type": "stream",
          "text": [
            "[INFO] mean: 32.87%, std: 44.22\n"
          ],
          "name": "stdout"
        }
      ]
    },
    {
      "cell_type": "code",
      "metadata": {
        "id": "3L6Nr-1ZJdP_",
        "colab_type": "code",
        "colab": {}
      },
      "source": [
        ""
      ],
      "execution_count": null,
      "outputs": []
    },
    {
      "cell_type": "markdown",
      "metadata": {
        "id": "EY4cMiohJFKc",
        "colab_type": "text"
      },
      "source": [
        "### 영상 모델"
      ]
    },
    {
      "cell_type": "code",
      "metadata": {
        "id": "JEbOBK0ULRlT",
        "colab_type": "code",
        "colab": {}
      },
      "source": [
        "input = Input(trainImagesX[0].shape)\n",
        "x = Conv2D(32, (3,3))(input) #EunAh: CNN\n",
        "x = MaxPooling2D((2,2))(x)\n",
        "x = Conv2D(32, (3,3))(x)\n",
        "x = MaxPooling2D((2,2))(x)\n",
        "x = Flatten()(x)\n",
        "x = Dense(10, activation='relu')(x)\n",
        "x = Dense(10, activation='relu')(x)\n",
        "output = Dense(1)(x)\n",
        "\n",
        "image_model = Model(input, output)"
      ],
      "execution_count": 25,
      "outputs": []
    },
    {
      "cell_type": "code",
      "metadata": {
        "id": "jprcg41pLRhL",
        "colab_type": "code",
        "colab": {
          "base_uri": "https://localhost:8080/",
          "height": 497
        },
        "outputId": "5673b384-83d6-4a05-8a80-59fc61896be1"
      },
      "source": [
        "image_model.compile(optimizer=\"adam\", loss=\"mse\")\n",
        "image_model.summary()\n",
        "\n",
        "image_model.fit(trainImagesX, trainY, epochs=100, verbose=0, batch_size=128)"
      ],
      "execution_count": 26,
      "outputs": [
        {
          "output_type": "stream",
          "text": [
            "Model: \"model_3\"\n",
            "_________________________________________________________________\n",
            "Layer (type)                 Output Shape              Param #   \n",
            "=================================================================\n",
            "input_4 (InputLayer)         [(None, 64, 64, 3)]       0         \n",
            "_________________________________________________________________\n",
            "conv2d_4 (Conv2D)            (None, 62, 62, 32)        896       \n",
            "_________________________________________________________________\n",
            "max_pooling2d_4 (MaxPooling2 (None, 31, 31, 32)        0         \n",
            "_________________________________________________________________\n",
            "conv2d_5 (Conv2D)            (None, 29, 29, 32)        9248      \n",
            "_________________________________________________________________\n",
            "max_pooling2d_5 (MaxPooling2 (None, 14, 14, 32)        0         \n",
            "_________________________________________________________________\n",
            "flatten_2 (Flatten)          (None, 6272)              0         \n",
            "_________________________________________________________________\n",
            "dense_9 (Dense)              (None, 10)                62730     \n",
            "_________________________________________________________________\n",
            "dense_10 (Dense)             (None, 10)                110       \n",
            "_________________________________________________________________\n",
            "dense_11 (Dense)             (None, 1)                 11        \n",
            "=================================================================\n",
            "Total params: 72,995\n",
            "Trainable params: 72,995\n",
            "Non-trainable params: 0\n",
            "_________________________________________________________________\n"
          ],
          "name": "stdout"
        },
        {
          "output_type": "execute_result",
          "data": {
            "text/plain": [
              "<tensorflow.python.keras.callbacks.History at 0x7f6968b85b38>"
            ]
          },
          "metadata": {
            "tags": []
          },
          "execution_count": 26
        }
      ]
    },
    {
      "cell_type": "code",
      "metadata": {
        "id": "OROOOvr9LRet",
        "colab_type": "code",
        "colab": {
          "base_uri": "https://localhost:8080/",
          "height": 35
        },
        "outputId": "3aea601e-cc3e-4fbc-fe0c-bb89c7a113c8"
      },
      "source": [
        "preds = image_model.predict(testImagesX)\n",
        "\n",
        "diff = preds.flatten() - testY\n",
        "percentDiff = (diff / testY) * 100\n",
        "absPercentDiff = np.abs(percentDiff)\n",
        "\n",
        "mean = np.mean(absPercentDiff)\n",
        "std = np.std(absPercentDiff)\n",
        "\n",
        "print(\"[INFO] mean: {:.2f}%, std: {:.2f}\".format(mean, std))"
      ],
      "execution_count": 27,
      "outputs": [
        {
          "output_type": "stream",
          "text": [
            "[INFO] mean: 109.29%, std: 178.77\n"
          ],
          "name": "stdout"
        }
      ]
    },
    {
      "cell_type": "markdown",
      "metadata": {
        "id": "k7DX0yusIn78",
        "colab_type": "text"
      },
      "source": [
        "## 다중 입력 모델로 학습 실행"
      ]
    },
    {
      "cell_type": "code",
      "metadata": {
        "id": "P7iDDfb-LRb6",
        "colab_type": "code",
        "colab": {}
      },
      "source": [
        "attr_input = Input(trainAttrX[0].shape)\n",
        "x = Dense(10, activation='relu')(attr_input)\n",
        "attr_out = Dense(10, activation='linear')(x) #출력만 없음 두개를 합친것\n",
        "\n",
        "image_input = Input(trainImagesX[0].shape)\n",
        "x = Conv2D(32, (3,3))(image_input)\n",
        "x = MaxPooling2D((2,2))(x)\n",
        "x = Conv2D(32, (3,3))(x)\n",
        "x = MaxPooling2D((2,2))(x)\n",
        "x = Flatten()(x)\n",
        "x = Dense(10, activation='relu')(x)\n",
        "image_output = Dense(10, activation='linear')(x)\n",
        "\n",
        "combined_input = concatenate([attr_out, image_output]) #두개를 붙이고 \n",
        "\n",
        "x = Dense(4, activation=\"relu\")(combined_input) #히든레이어4개에 아랫칸에 출력\n",
        "output = Dense(1)(x)\n",
        "\n",
        "\n",
        "combined_model = Model([attr_input, image_input], output)"
      ],
      "execution_count": 28,
      "outputs": []
    },
    {
      "cell_type": "code",
      "metadata": {
        "id": "2fVpru2CLRYu",
        "colab_type": "code",
        "colab": {
          "base_uri": "https://localhost:8080/",
          "height": 692
        },
        "outputId": "5bf5f55b-38df-43c3-c1d6-f28b0ec7d4d4"
      },
      "source": [
        "combined_model.compile(optimizer=\"adam\", loss=\"mse\")\n",
        "combined_model.summary()\n",
        "\n",
        "combined_model.fit([trainAttrX, trainImagesX], trainY, epochs=100, verbose=0, batch_size=128)"
      ],
      "execution_count": 29,
      "outputs": [
        {
          "output_type": "stream",
          "text": [
            "Model: \"model_4\"\n",
            "__________________________________________________________________________________________________\n",
            "Layer (type)                    Output Shape         Param #     Connected to                     \n",
            "==================================================================================================\n",
            "input_6 (InputLayer)            [(None, 64, 64, 3)]  0                                            \n",
            "__________________________________________________________________________________________________\n",
            "conv2d_6 (Conv2D)               (None, 62, 62, 32)   896         input_6[0][0]                    \n",
            "__________________________________________________________________________________________________\n",
            "max_pooling2d_6 (MaxPooling2D)  (None, 31, 31, 32)   0           conv2d_6[0][0]                   \n",
            "__________________________________________________________________________________________________\n",
            "conv2d_7 (Conv2D)               (None, 29, 29, 32)   9248        max_pooling2d_6[0][0]            \n",
            "__________________________________________________________________________________________________\n",
            "max_pooling2d_7 (MaxPooling2D)  (None, 14, 14, 32)   0           conv2d_7[0][0]                   \n",
            "__________________________________________________________________________________________________\n",
            "input_5 (InputLayer)            [(None, 10)]         0                                            \n",
            "__________________________________________________________________________________________________\n",
            "flatten_3 (Flatten)             (None, 6272)         0           max_pooling2d_7[0][0]            \n",
            "__________________________________________________________________________________________________\n",
            "dense_12 (Dense)                (None, 10)           110         input_5[0][0]                    \n",
            "__________________________________________________________________________________________________\n",
            "dense_14 (Dense)                (None, 10)           62730       flatten_3[0][0]                  \n",
            "__________________________________________________________________________________________________\n",
            "dense_13 (Dense)                (None, 10)           110         dense_12[0][0]                   \n",
            "__________________________________________________________________________________________________\n",
            "dense_15 (Dense)                (None, 10)           110         dense_14[0][0]                   \n",
            "__________________________________________________________________________________________________\n",
            "concatenate (Concatenate)       (None, 20)           0           dense_13[0][0]                   \n",
            "                                                                 dense_15[0][0]                   \n",
            "__________________________________________________________________________________________________\n",
            "dense_16 (Dense)                (None, 4)            84          concatenate[0][0]                \n",
            "__________________________________________________________________________________________________\n",
            "dense_17 (Dense)                (None, 1)            5           dense_16[0][0]                   \n",
            "==================================================================================================\n",
            "Total params: 73,293\n",
            "Trainable params: 73,293\n",
            "Non-trainable params: 0\n",
            "__________________________________________________________________________________________________\n"
          ],
          "name": "stdout"
        },
        {
          "output_type": "execute_result",
          "data": {
            "text/plain": [
              "<tensorflow.python.keras.callbacks.History at 0x7f6968ab6c50>"
            ]
          },
          "metadata": {
            "tags": []
          },
          "execution_count": 29
        }
      ]
    },
    {
      "cell_type": "code",
      "metadata": {
        "id": "cdJXO5maFwh0",
        "colab_type": "code",
        "colab": {
          "base_uri": "https://localhost:8080/",
          "height": 35
        },
        "outputId": "56c3a6f0-546f-468a-a2c5-fc682c9d60af"
      },
      "source": [
        "preds = combined_model.predict([testAttrX, testImagesX])\n",
        "\n",
        "diff = preds.flatten() - testY\n",
        "percentDiff = (diff / testY) * 100\n",
        "absPercentDiff = np.abs(percentDiff)\n",
        "\n",
        "mean = np.mean(absPercentDiff)\n",
        "std = np.std(absPercentDiff)\n",
        "\n",
        "print(\"[INFO] mean: {:.2f}%, std: {:.2f}\".format(mean, std))"
      ],
      "execution_count": 30,
      "outputs": [
        {
          "output_type": "stream",
          "text": [
            "[INFO] mean: 114.92%, std: 188.19\n"
          ],
          "name": "stdout"
        }
      ]
    },
    {
      "cell_type": "code",
      "metadata": {
        "id": "ZAh3boxuFwez",
        "colab_type": "code",
        "colab": {}
      },
      "source": [
        ""
      ],
      "execution_count": null,
      "outputs": []
    },
    {
      "cell_type": "markdown",
      "metadata": {
        "id": "ejOg9i5KMU28",
        "colab_type": "text"
      },
      "source": [
        "# 다중 출력\n",
        "\n",
        "copy from https://www.pyimagesearch.com/2018/06/04/keras-multiple-outputs-and-multiple-losses/"
      ]
    },
    {
      "cell_type": "markdown",
      "metadata": {
        "id": "oLnb63o5ottv",
        "colab_type": "text"
      },
      "source": [
        "## 데이터 준비"
      ]
    },
    {
      "cell_type": "code",
      "metadata": {
        "id": "FBXMpbDn76uf",
        "colab_type": "code",
        "colab": {
          "base_uri": "https://localhost:8080/",
          "height": 301
        },
        "outputId": "170d552a-73e0-488f-cddb-1fe5df34eacf"
      },
      "source": [
        "!wget https://github.com/dhrim/wiset_2020_06/raw/master/material/deep_learning/fashion_dataset.zip"
      ],
      "execution_count": 31,
      "outputs": [
        {
          "output_type": "stream",
          "text": [
            "--2020-06-24 05:34:57--  https://github.com/dhrim/wiset_2020_06/raw/master/material/deep_learning/fashion_dataset.zip\n",
            "Resolving github.com (github.com)... 140.82.113.3\n",
            "Connecting to github.com (github.com)|140.82.113.3|:443... connected.\n",
            "HTTP request sent, awaiting response... 302 Found\n",
            "Location: https://raw.githubusercontent.com/dhrim/wiset_2020_06/master/material/deep_learning/fashion_dataset.zip [following]\n",
            "--2020-06-24 05:34:58--  https://raw.githubusercontent.com/dhrim/wiset_2020_06/master/material/deep_learning/fashion_dataset.zip\n",
            "Resolving raw.githubusercontent.com (raw.githubusercontent.com)... 151.101.0.133, 151.101.64.133, 151.101.128.133, ...\n",
            "Connecting to raw.githubusercontent.com (raw.githubusercontent.com)|151.101.0.133|:443... connected.\n",
            "HTTP request sent, awaiting response... 200 OK\n",
            "Length: 26991216 (26M) [application/zip]\n",
            "Saving to: ‘fashion_dataset.zip’\n",
            "\n",
            "fashion_dataset.zip 100%[===================>]  25.74M  34.4MB/s    in 0.7s    \n",
            "\n",
            "2020-06-24 05:34:59 (34.4 MB/s) - ‘fashion_dataset.zip’ saved [26991216/26991216]\n",
            "\n"
          ],
          "name": "stdout"
        }
      ]
    },
    {
      "cell_type": "code",
      "metadata": {
        "id": "mFt96FMqvjah",
        "colab_type": "code",
        "colab": {
          "base_uri": "https://localhost:8080/",
          "height": 177
        },
        "outputId": "5c64cdb0-2dba-40a2-9130-d5b4fcb09297"
      },
      "source": [
        "!ls -alh"
      ],
      "execution_count": 34,
      "outputs": [
        {
          "output_type": "stream",
          "text": [
            "total 26M\n",
            "drwxr-xr-x 1 root root 4.0K Jun 24 05:35 .\n",
            "drwxr-xr-x 1 root root 4.0K Jun 24 05:04 ..\n",
            "drwxr-xr-x 1 root root 4.0K Jun 19 16:15 .config\n",
            "drwxr-xr-x 9 root root 4.0K Jun 23 11:22 fashion_dataset\n",
            "-rw-r--r-- 1 root root  26M Jun 24 05:34 fashion_dataset.zip\n",
            "drwxr-xr-x 4 root root 4.0K Jun 24 05:19 Houses-dataset\n",
            "drwxrwxr-x 3 root root 4.0K Jun 23 11:27 __MACOSX\n",
            "drwxr-xr-x 1 root root 4.0K Jun 17 16:18 sample_data\n"
          ],
          "name": "stdout"
        }
      ]
    },
    {
      "cell_type": "code",
      "metadata": {
        "id": "zYCavDIjh5RK",
        "colab_type": "code",
        "colab": {
          "base_uri": "https://localhost:8080/",
          "height": 1000
        },
        "outputId": "062bade0-788b-49c6-ab8d-934167db417d"
      },
      "source": [
        "!unzip fashion_dataset.zip"
      ],
      "execution_count": 32,
      "outputs": [
        {
          "output_type": "stream",
          "text": [
            "Archive:  fashion_dataset.zip\n",
            "   creating: fashion_dataset/\n",
            "   creating: fashion_dataset/black_jeans/\n",
            "  inflating: fashion_dataset/black_jeans/00000000.jpg  \n",
            "   creating: __MACOSX/\n",
            "   creating: __MACOSX/fashion_dataset/\n",
            "   creating: __MACOSX/fashion_dataset/black_jeans/\n",
            "  inflating: __MACOSX/fashion_dataset/black_jeans/._00000000.jpg  \n",
            "  inflating: fashion_dataset/black_jeans/00000004.jpg  \n",
            "  inflating: __MACOSX/fashion_dataset/black_jeans/._00000004.jpg  \n",
            "  inflating: fashion_dataset/black_jeans/00000006.jpg  \n",
            "  inflating: __MACOSX/fashion_dataset/black_jeans/._00000006.jpg  \n",
            "  inflating: fashion_dataset/black_jeans/00000007.jpg  \n",
            "  inflating: __MACOSX/fashion_dataset/black_jeans/._00000007.jpg  \n",
            "  inflating: fashion_dataset/black_jeans/00000009.jpg  \n",
            "  inflating: __MACOSX/fashion_dataset/black_jeans/._00000009.jpg  \n",
            "  inflating: fashion_dataset/black_jeans/00000010.jpg  \n",
            "  inflating: __MACOSX/fashion_dataset/black_jeans/._00000010.jpg  \n",
            "  inflating: fashion_dataset/black_jeans/00000011.jpg  \n",
            "  inflating: __MACOSX/fashion_dataset/black_jeans/._00000011.jpg  \n",
            "  inflating: fashion_dataset/black_jeans/00000014.jpg  \n",
            "  inflating: __MACOSX/fashion_dataset/black_jeans/._00000014.jpg  \n",
            "  inflating: fashion_dataset/black_jeans/00000015.jpg  \n",
            "  inflating: __MACOSX/fashion_dataset/black_jeans/._00000015.jpg  \n",
            "  inflating: fashion_dataset/black_jeans/00000016.jpg  \n",
            "  inflating: __MACOSX/fashion_dataset/black_jeans/._00000016.jpg  \n",
            "  inflating: fashion_dataset/black_jeans/00000017.jpg  \n",
            "  inflating: __MACOSX/fashion_dataset/black_jeans/._00000017.jpg  \n",
            "  inflating: fashion_dataset/black_jeans/00000018.jpg  \n",
            "  inflating: __MACOSX/fashion_dataset/black_jeans/._00000018.jpg  \n",
            "  inflating: fashion_dataset/black_jeans/00000019.jpg  \n",
            "  inflating: __MACOSX/fashion_dataset/black_jeans/._00000019.jpg  \n",
            "  inflating: fashion_dataset/black_jeans/00000040.jpg  \n",
            "  inflating: __MACOSX/fashion_dataset/black_jeans/._00000040.jpg  \n",
            "  inflating: fashion_dataset/black_jeans/00000041.jpg  \n",
            "  inflating: __MACOSX/fashion_dataset/black_jeans/._00000041.jpg  \n",
            "  inflating: fashion_dataset/black_jeans/00000047.jpg  \n",
            "  inflating: __MACOSX/fashion_dataset/black_jeans/._00000047.jpg  \n",
            "  inflating: fashion_dataset/black_jeans/00000048.jpg  \n",
            "  inflating: __MACOSX/fashion_dataset/black_jeans/._00000048.jpg  \n",
            "  inflating: fashion_dataset/black_jeans/00000049.jpg  \n",
            "  inflating: __MACOSX/fashion_dataset/black_jeans/._00000049.jpg  \n",
            "  inflating: fashion_dataset/black_jeans/00000051.jpg  \n",
            "  inflating: __MACOSX/fashion_dataset/black_jeans/._00000051.jpg  \n",
            "  inflating: fashion_dataset/black_jeans/00000054.jpg  \n",
            "  inflating: __MACOSX/fashion_dataset/black_jeans/._00000054.jpg  \n",
            "  inflating: fashion_dataset/black_jeans/00000055.jpg  \n",
            "  inflating: __MACOSX/fashion_dataset/black_jeans/._00000055.jpg  \n",
            "  inflating: fashion_dataset/black_jeans/00000056.jpg  \n",
            "  inflating: __MACOSX/fashion_dataset/black_jeans/._00000056.jpg  \n",
            "  inflating: fashion_dataset/black_jeans/00000057.jpg  \n",
            "  inflating: __MACOSX/fashion_dataset/black_jeans/._00000057.jpg  \n",
            "  inflating: fashion_dataset/black_jeans/00000060.jpg  \n",
            "  inflating: __MACOSX/fashion_dataset/black_jeans/._00000060.jpg  \n",
            "  inflating: fashion_dataset/black_jeans/00000061.jpg  \n",
            "  inflating: __MACOSX/fashion_dataset/black_jeans/._00000061.jpg  \n",
            "  inflating: fashion_dataset/black_jeans/00000064.jpg  \n",
            "  inflating: __MACOSX/fashion_dataset/black_jeans/._00000064.jpg  \n",
            "  inflating: fashion_dataset/black_jeans/00000065.jpg  \n",
            "  inflating: __MACOSX/fashion_dataset/black_jeans/._00000065.jpg  \n",
            "  inflating: fashion_dataset/black_jeans/00000066.jpg  \n",
            "  inflating: __MACOSX/fashion_dataset/black_jeans/._00000066.jpg  \n",
            "  inflating: fashion_dataset/black_jeans/00000067.jpg  \n",
            "  inflating: __MACOSX/fashion_dataset/black_jeans/._00000067.jpg  \n",
            "  inflating: fashion_dataset/black_jeans/00000068.jpg  \n",
            "  inflating: __MACOSX/fashion_dataset/black_jeans/._00000068.jpg  \n",
            "  inflating: fashion_dataset/black_jeans/00000071.jpg  \n",
            "  inflating: __MACOSX/fashion_dataset/black_jeans/._00000071.jpg  \n",
            "  inflating: fashion_dataset/black_jeans/00000074.jpg  \n",
            "  inflating: __MACOSX/fashion_dataset/black_jeans/._00000074.jpg  \n",
            "  inflating: fashion_dataset/black_jeans/00000075.jpg  \n",
            "  inflating: __MACOSX/fashion_dataset/black_jeans/._00000075.jpg  \n",
            "  inflating: fashion_dataset/black_jeans/00000076.jpg  \n",
            "  inflating: __MACOSX/fashion_dataset/black_jeans/._00000076.jpg  \n",
            "  inflating: fashion_dataset/black_jeans/00000078.jpg  \n",
            "  inflating: __MACOSX/fashion_dataset/black_jeans/._00000078.jpg  \n",
            "  inflating: fashion_dataset/black_jeans/00000079.png  \n",
            "  inflating: __MACOSX/fashion_dataset/black_jeans/._00000079.png  \n",
            "  inflating: fashion_dataset/black_jeans/00000080.jpg  \n",
            "  inflating: __MACOSX/fashion_dataset/black_jeans/._00000080.jpg  \n",
            "  inflating: fashion_dataset/black_jeans/00000081.jpg  \n",
            "  inflating: __MACOSX/fashion_dataset/black_jeans/._00000081.jpg  \n",
            "  inflating: fashion_dataset/black_jeans/00000084.jpg  \n",
            "  inflating: __MACOSX/fashion_dataset/black_jeans/._00000084.jpg  \n",
            "  inflating: fashion_dataset/black_jeans/00000085.jpg  \n",
            "  inflating: __MACOSX/fashion_dataset/black_jeans/._00000085.jpg  \n",
            "  inflating: fashion_dataset/black_jeans/00000086.jpg  \n",
            "  inflating: __MACOSX/fashion_dataset/black_jeans/._00000086.jpg  \n",
            "  inflating: fashion_dataset/black_jeans/00000088.jpg  \n",
            "  inflating: __MACOSX/fashion_dataset/black_jeans/._00000088.jpg  \n",
            "  inflating: fashion_dataset/black_jeans/00000089.jpg  \n",
            "  inflating: __MACOSX/fashion_dataset/black_jeans/._00000089.jpg  \n",
            "  inflating: fashion_dataset/black_jeans/00000090.jpg  \n",
            "  inflating: __MACOSX/fashion_dataset/black_jeans/._00000090.jpg  \n",
            "  inflating: fashion_dataset/black_jeans/00000094.jpg  \n",
            "  inflating: __MACOSX/fashion_dataset/black_jeans/._00000094.jpg  \n",
            "  inflating: fashion_dataset/black_jeans/00000095.jpg  \n",
            "  inflating: __MACOSX/fashion_dataset/black_jeans/._00000095.jpg  \n",
            "  inflating: fashion_dataset/black_jeans/00000096.jpg  \n",
            "  inflating: __MACOSX/fashion_dataset/black_jeans/._00000096.jpg  \n",
            "  inflating: fashion_dataset/black_jeans/00000097.jpg  \n",
            "  inflating: __MACOSX/fashion_dataset/black_jeans/._00000097.jpg  \n",
            "  inflating: fashion_dataset/black_jeans/00000098.jpg  \n",
            "  inflating: __MACOSX/fashion_dataset/black_jeans/._00000098.jpg  \n",
            "  inflating: fashion_dataset/black_jeans/00000100.jpg  \n",
            "  inflating: __MACOSX/fashion_dataset/black_jeans/._00000100.jpg  \n",
            "  inflating: fashion_dataset/black_jeans/00000101.jpg  \n",
            "  inflating: __MACOSX/fashion_dataset/black_jeans/._00000101.jpg  \n",
            "  inflating: fashion_dataset/black_jeans/00000104.jpg  \n",
            "  inflating: __MACOSX/fashion_dataset/black_jeans/._00000104.jpg  \n",
            "  inflating: fashion_dataset/black_jeans/00000105.jpg  \n",
            "  inflating: __MACOSX/fashion_dataset/black_jeans/._00000105.jpg  \n",
            "  inflating: fashion_dataset/black_jeans/00000107.jpg  \n",
            "  inflating: __MACOSX/fashion_dataset/black_jeans/._00000107.jpg  \n",
            "  inflating: fashion_dataset/black_jeans/00000108.jpg  \n",
            "  inflating: __MACOSX/fashion_dataset/black_jeans/._00000108.jpg  \n",
            "  inflating: fashion_dataset/black_jeans/00000110.jpg  \n",
            "  inflating: __MACOSX/fashion_dataset/black_jeans/._00000110.jpg  \n",
            "  inflating: fashion_dataset/black_jeans/00000111.jpg  \n",
            "  inflating: __MACOSX/fashion_dataset/black_jeans/._00000111.jpg  \n",
            "  inflating: fashion_dataset/black_jeans/00000117.jpg  \n",
            "  inflating: __MACOSX/fashion_dataset/black_jeans/._00000117.jpg  \n",
            "  inflating: fashion_dataset/black_jeans/00000118.jpg  \n",
            "  inflating: __MACOSX/fashion_dataset/black_jeans/._00000118.jpg  \n",
            "  inflating: fashion_dataset/black_jeans/00000140.jpg  \n",
            "  inflating: __MACOSX/fashion_dataset/black_jeans/._00000140.jpg  \n",
            "  inflating: fashion_dataset/black_jeans/00000141.jpg  \n",
            "  inflating: __MACOSX/fashion_dataset/black_jeans/._00000141.jpg  \n",
            "  inflating: fashion_dataset/black_jeans/00000144.jpg  \n",
            "  inflating: __MACOSX/fashion_dataset/black_jeans/._00000144.jpg  \n",
            "  inflating: fashion_dataset/black_jeans/00000145.jpg  \n",
            "  inflating: __MACOSX/fashion_dataset/black_jeans/._00000145.jpg  \n",
            "  inflating: fashion_dataset/black_jeans/00000146.jpg  \n",
            "  inflating: __MACOSX/fashion_dataset/black_jeans/._00000146.jpg  \n",
            "  inflating: fashion_dataset/black_jeans/00000148.jpg  \n",
            "  inflating: __MACOSX/fashion_dataset/black_jeans/._00000148.jpg  \n",
            "  inflating: fashion_dataset/black_jeans/00000149.jpg  \n",
            "  inflating: __MACOSX/fashion_dataset/black_jeans/._00000149.jpg  \n",
            "  inflating: fashion_dataset/black_jeans/00000150.jpg  \n",
            "  inflating: __MACOSX/fashion_dataset/black_jeans/._00000150.jpg  \n",
            "  inflating: fashion_dataset/black_jeans/00000151.jpg  \n",
            "  inflating: __MACOSX/fashion_dataset/black_jeans/._00000151.jpg  \n",
            "  inflating: fashion_dataset/black_jeans/00000155.jpg  \n",
            "  inflating: __MACOSX/fashion_dataset/black_jeans/._00000155.jpg  \n",
            "  inflating: fashion_dataset/black_jeans/00000156.jpg  \n",
            "  inflating: __MACOSX/fashion_dataset/black_jeans/._00000156.jpg  \n",
            "  inflating: fashion_dataset/black_jeans/00000157.jpg  \n",
            "  inflating: __MACOSX/fashion_dataset/black_jeans/._00000157.jpg  \n",
            "  inflating: fashion_dataset/black_jeans/00000159.jpg  \n",
            "  inflating: __MACOSX/fashion_dataset/black_jeans/._00000159.jpg  \n",
            "  inflating: fashion_dataset/black_jeans/00000160.jpg  \n",
            "  inflating: __MACOSX/fashion_dataset/black_jeans/._00000160.jpg  \n",
            "  inflating: fashion_dataset/black_jeans/00000164.JPG  \n",
            "  inflating: __MACOSX/fashion_dataset/black_jeans/._00000164.JPG  \n",
            "  inflating: fashion_dataset/black_jeans/00000166.jpg  \n",
            "  inflating: __MACOSX/fashion_dataset/black_jeans/._00000166.jpg  \n",
            "  inflating: fashion_dataset/black_jeans/00000167.jpg  \n",
            "  inflating: __MACOSX/fashion_dataset/black_jeans/._00000167.jpg  \n",
            "  inflating: fashion_dataset/black_jeans/00000168.jpg  \n",
            "  inflating: __MACOSX/fashion_dataset/black_jeans/._00000168.jpg  \n",
            "  inflating: fashion_dataset/black_jeans/00000169.png  \n",
            "  inflating: __MACOSX/fashion_dataset/black_jeans/._00000169.png  \n",
            "  inflating: fashion_dataset/black_jeans/00000171.jpg  \n",
            "  inflating: __MACOSX/fashion_dataset/black_jeans/._00000171.jpg  \n",
            "  inflating: fashion_dataset/black_jeans/00000176.jpg  \n",
            "  inflating: __MACOSX/fashion_dataset/black_jeans/._00000176.jpg  \n",
            "  inflating: fashion_dataset/black_jeans/00000177.jpg  \n",
            "  inflating: __MACOSX/fashion_dataset/black_jeans/._00000177.jpg  \n",
            "  inflating: fashion_dataset/black_jeans/00000184.jpg  \n",
            "  inflating: __MACOSX/fashion_dataset/black_jeans/._00000184.jpg  \n",
            "  inflating: fashion_dataset/black_jeans/00000185.jpg  \n",
            "  inflating: __MACOSX/fashion_dataset/black_jeans/._00000185.jpg  \n",
            "  inflating: fashion_dataset/black_jeans/00000186.jpg  \n",
            "  inflating: __MACOSX/fashion_dataset/black_jeans/._00000186.jpg  \n",
            "  inflating: fashion_dataset/black_jeans/00000189.jpg  \n",
            "  inflating: __MACOSX/fashion_dataset/black_jeans/._00000189.jpg  \n",
            "  inflating: fashion_dataset/black_jeans/00000190.jpg  \n",
            "  inflating: __MACOSX/fashion_dataset/black_jeans/._00000190.jpg  \n",
            "  inflating: fashion_dataset/black_jeans/00000191.jpg  \n",
            "  inflating: __MACOSX/fashion_dataset/black_jeans/._00000191.jpg  \n",
            "  inflating: fashion_dataset/black_jeans/00000194.jpg  \n",
            "  inflating: __MACOSX/fashion_dataset/black_jeans/._00000194.jpg  \n",
            "  inflating: fashion_dataset/black_jeans/00000195.jpg  \n",
            "  inflating: __MACOSX/fashion_dataset/black_jeans/._00000195.jpg  \n",
            "  inflating: fashion_dataset/black_jeans/00000196.jpg  \n",
            "  inflating: __MACOSX/fashion_dataset/black_jeans/._00000196.jpg  \n",
            "  inflating: fashion_dataset/black_jeans/00000197.jpg  \n",
            "  inflating: __MACOSX/fashion_dataset/black_jeans/._00000197.jpg  \n",
            "  inflating: fashion_dataset/black_jeans/00000198.jpg  \n",
            "  inflating: __MACOSX/fashion_dataset/black_jeans/._00000198.jpg  \n",
            "  inflating: fashion_dataset/black_jeans/00000199.jpg  \n",
            "  inflating: __MACOSX/fashion_dataset/black_jeans/._00000199.jpg  \n",
            "   creating: fashion_dataset/black_shoes/\n",
            "  inflating: fashion_dataset/black_shoes/00000000.jpg  \n",
            "  inflating: fashion_dataset/black_shoes/00000001.jpg  \n",
            "  inflating: fashion_dataset/black_shoes/00000004.jpg  \n",
            "  inflating: fashion_dataset/black_shoes/00000005.jpg  \n",
            "  inflating: fashion_dataset/black_shoes/00000006.jpg  \n",
            "  inflating: fashion_dataset/black_shoes/00000007.jpg  \n",
            "  inflating: fashion_dataset/black_shoes/00000008.jpg  \n",
            "  inflating: fashion_dataset/black_shoes/00000009.jpg  \n",
            "  inflating: fashion_dataset/black_shoes/00000010.jpg  \n",
            "  inflating: fashion_dataset/black_shoes/00000011.jpg  \n",
            "  inflating: fashion_dataset/black_shoes/00000015.jpg  \n",
            "  inflating: fashion_dataset/black_shoes/00000016.jpg  \n",
            "  inflating: fashion_dataset/black_shoes/00000017.jpg  \n",
            "  inflating: fashion_dataset/black_shoes/00000018.jpg  \n",
            "  inflating: fashion_dataset/black_shoes/00000019.jpg  \n",
            "  inflating: fashion_dataset/black_shoes/00000040.jpg  \n",
            "  inflating: fashion_dataset/black_shoes/00000041.jpg  \n",
            "  inflating: fashion_dataset/black_shoes/00000044.jpg  \n",
            "  inflating: fashion_dataset/black_shoes/00000045.jpg  \n",
            "  inflating: fashion_dataset/black_shoes/00000048.jpg  \n",
            "  inflating: fashion_dataset/black_shoes/00000049.jpg  \n",
            "  inflating: fashion_dataset/black_shoes/00000051.jpg  \n",
            "  inflating: fashion_dataset/black_shoes/00000054.jpg  \n",
            "  inflating: fashion_dataset/black_shoes/00000055.jpg  \n",
            "  inflating: fashion_dataset/black_shoes/00000056.jpg  \n",
            "  inflating: fashion_dataset/black_shoes/00000057.jpg  \n",
            "  inflating: fashion_dataset/black_shoes/00000059.jpg  \n",
            "  inflating: fashion_dataset/black_shoes/00000060.jpg  \n",
            "  inflating: fashion_dataset/black_shoes/00000061.jpg  \n",
            "  inflating: fashion_dataset/black_shoes/00000064.jpg  \n",
            "  inflating: fashion_dataset/black_shoes/00000065.jpg  \n",
            "  inflating: fashion_dataset/black_shoes/00000066.jpg  \n",
            "  inflating: fashion_dataset/black_shoes/00000067.png  \n",
            "  inflating: fashion_dataset/black_shoes/00000068.jpg  \n",
            "  inflating: fashion_dataset/black_shoes/00000069.jpg  \n",
            "  inflating: fashion_dataset/black_shoes/00000070.jpg  \n",
            "  inflating: fashion_dataset/black_shoes/00000071.jpg  \n",
            "  inflating: fashion_dataset/black_shoes/00000075.jpg  \n",
            "  inflating: fashion_dataset/black_shoes/00000076.jpg  \n",
            "  inflating: fashion_dataset/black_shoes/00000078.jpg  \n",
            "  inflating: fashion_dataset/black_shoes/00000079.jpg  \n",
            "  inflating: fashion_dataset/black_shoes/00000080.jpg  \n",
            "  inflating: fashion_dataset/black_shoes/00000081.jpg  \n",
            "  inflating: fashion_dataset/black_shoes/00000084.JPG  \n",
            "  inflating: fashion_dataset/black_shoes/00000086.jpg  \n",
            "  inflating: fashion_dataset/black_shoes/00000087.jpg  \n",
            "  inflating: fashion_dataset/black_shoes/00000088.jpg  \n",
            "  inflating: fashion_dataset/black_shoes/00000089.jpg  \n",
            "  inflating: fashion_dataset/black_shoes/00000090.jpg  \n",
            "  inflating: fashion_dataset/black_shoes/00000091.jpg  \n",
            "  inflating: fashion_dataset/black_shoes/00000094.jpg  \n",
            "  inflating: fashion_dataset/black_shoes/00000095.jpg  \n",
            "  inflating: fashion_dataset/black_shoes/00000096.jpg  \n",
            "  inflating: fashion_dataset/black_shoes/00000097.jpg  \n",
            "  inflating: fashion_dataset/black_shoes/00000098.jpg  \n",
            "  inflating: fashion_dataset/black_shoes/00000099.jpg  \n",
            "  inflating: fashion_dataset/black_shoes/00000100.jpg  \n",
            "  inflating: fashion_dataset/black_shoes/00000104.jpg  \n",
            "  inflating: fashion_dataset/black_shoes/00000105.jpg  \n",
            "  inflating: fashion_dataset/black_shoes/00000106.jpg  \n",
            "  inflating: fashion_dataset/black_shoes/00000107.jpg  \n",
            "  inflating: fashion_dataset/black_shoes/00000108.jpg  \n",
            "  inflating: fashion_dataset/black_shoes/00000109.jpg  \n",
            "  inflating: fashion_dataset/black_shoes/00000110.jpg  \n",
            "  inflating: fashion_dataset/black_shoes/00000111.jpg  \n",
            "  inflating: fashion_dataset/black_shoes/00000114.jpg  \n",
            "  inflating: fashion_dataset/black_shoes/00000115.jpg  \n",
            "  inflating: fashion_dataset/black_shoes/00000116.png  \n",
            "  inflating: fashion_dataset/black_shoes/00000117.jpg  \n",
            "  inflating: fashion_dataset/black_shoes/00000118.jpg  \n",
            "  inflating: fashion_dataset/black_shoes/00000119.jpg  \n",
            "  inflating: fashion_dataset/black_shoes/00000140.jpg  \n",
            "  inflating: fashion_dataset/black_shoes/00000141.jpg  \n",
            "  inflating: fashion_dataset/black_shoes/00000144.jpg  \n",
            "  inflating: fashion_dataset/black_shoes/00000145.JPG  \n",
            "  inflating: fashion_dataset/black_shoes/00000146.jpg  \n",
            "  inflating: fashion_dataset/black_shoes/00000147.jpg  \n",
            "  inflating: fashion_dataset/black_shoes/00000148.jpg  \n",
            "  inflating: fashion_dataset/black_shoes/00000149.jpg  \n",
            "  inflating: fashion_dataset/black_shoes/00000150.jpg  \n",
            "  inflating: fashion_dataset/black_shoes/00000151.jpg  \n",
            "  inflating: fashion_dataset/black_shoes/00000154.jpg  \n",
            "  inflating: fashion_dataset/black_shoes/00000156.JPG  \n",
            "  inflating: fashion_dataset/black_shoes/00000157.jpg  \n",
            "  inflating: fashion_dataset/black_shoes/00000158.jpg  \n",
            "  inflating: fashion_dataset/black_shoes/00000159.jpg  \n",
            "  inflating: fashion_dataset/black_shoes/00000160.jpg  \n",
            "  inflating: fashion_dataset/black_shoes/00000161.jpg  \n",
            "  inflating: fashion_dataset/black_shoes/00000165.jpg  \n",
            "  inflating: fashion_dataset/black_shoes/00000166.jpg  \n",
            "  inflating: fashion_dataset/black_shoes/00000168.jpg  \n",
            "  inflating: fashion_dataset/black_shoes/00000169.jpg  \n",
            "  inflating: fashion_dataset/black_shoes/00000170.jpg  \n",
            "  inflating: fashion_dataset/black_shoes/00000171.jpg  \n",
            "  inflating: fashion_dataset/black_shoes/00000174.jpg  \n",
            "  inflating: fashion_dataset/black_shoes/00000175.jpg  \n",
            "  inflating: fashion_dataset/black_shoes/00000176.jpg  \n",
            "  inflating: fashion_dataset/black_shoes/00000177.jpg  \n",
            "  inflating: fashion_dataset/black_shoes/00000179.jpg  \n",
            "  inflating: fashion_dataset/black_shoes/00000180.jpg  \n",
            "  inflating: fashion_dataset/black_shoes/00000181.jpg  \n",
            "  inflating: fashion_dataset/black_shoes/00000185.jpg  \n",
            "  inflating: fashion_dataset/black_shoes/00000186.jpg  \n",
            "  inflating: fashion_dataset/black_shoes/00000187.jpg  \n",
            "  inflating: fashion_dataset/black_shoes/00000188.jpg  \n",
            "  inflating: fashion_dataset/black_shoes/00000189.jpg  \n",
            "  inflating: fashion_dataset/black_shoes/00000190.jpg  \n",
            "  inflating: fashion_dataset/black_shoes/00000191.jpg  \n",
            "  inflating: fashion_dataset/black_shoes/00000194.jpg  \n",
            "  inflating: fashion_dataset/black_shoes/00000195.jpg  \n",
            "  inflating: fashion_dataset/black_shoes/00000196.jpg  \n",
            "  inflating: fashion_dataset/black_shoes/00000198.jpg  \n",
            "  inflating: fashion_dataset/black_shoes/00000199.gif  \n",
            "   creating: fashion_dataset/blue_dress/\n",
            "  inflating: fashion_dataset/blue_dress/00000000.jpg  \n",
            "  inflating: fashion_dataset/blue_dress/00000001.jpg  \n",
            "  inflating: fashion_dataset/blue_dress/00000004.jpg  \n",
            "  inflating: fashion_dataset/blue_dress/00000005.jpg  \n",
            "  inflating: fashion_dataset/blue_dress/00000007.jpg  \n",
            "  inflating: fashion_dataset/blue_dress/00000008.jpg  \n",
            "  inflating: fashion_dataset/blue_dress/00000009.jpg  \n",
            "  inflating: fashion_dataset/blue_dress/00000010.jpg  \n",
            "  inflating: fashion_dataset/blue_dress/00000011.jpg  \n",
            "  inflating: fashion_dataset/blue_dress/00000014.jpg  \n",
            "  inflating: fashion_dataset/blue_dress/00000015.jpg  \n",
            "  inflating: fashion_dataset/blue_dress/00000016.jpg  \n",
            "  inflating: fashion_dataset/blue_dress/00000017.jpg  \n",
            "  inflating: fashion_dataset/blue_dress/00000018.jpg  \n",
            "  inflating: fashion_dataset/blue_dress/00000019.jpg  \n",
            "  inflating: fashion_dataset/blue_dress/00000040.jpg  \n",
            "  inflating: fashion_dataset/blue_dress/00000044.jpg  \n",
            "  inflating: fashion_dataset/blue_dress/00000045.jpg  \n",
            "  inflating: fashion_dataset/blue_dress/00000046.jpg  \n",
            "  inflating: fashion_dataset/blue_dress/00000047.jpg  \n",
            "  inflating: fashion_dataset/blue_dress/00000048.jpg  \n",
            "  inflating: fashion_dataset/blue_dress/00000049.jpg  \n",
            "  inflating: fashion_dataset/blue_dress/00000050.jpg  \n",
            "  inflating: fashion_dataset/blue_dress/00000051.jpg  \n",
            "  inflating: fashion_dataset/blue_dress/00000054.jpg  \n",
            "  inflating: fashion_dataset/blue_dress/00000056.jpg  \n",
            "  inflating: fashion_dataset/blue_dress/00000057.jpg  \n",
            "  inflating: fashion_dataset/blue_dress/00000058.jpg  \n",
            "  inflating: fashion_dataset/blue_dress/00000059.jpg  \n",
            "  inflating: fashion_dataset/blue_dress/00000060.jpg  \n",
            "  inflating: fashion_dataset/blue_dress/00000061.jpg  \n",
            "  inflating: fashion_dataset/blue_dress/00000064.jpg  \n",
            "  inflating: fashion_dataset/blue_dress/00000065.jpg  \n",
            "  inflating: fashion_dataset/blue_dress/00000066.jpg  \n",
            "  inflating: fashion_dataset/blue_dress/00000067.jpg  \n",
            "  inflating: fashion_dataset/blue_dress/00000068.jpg  \n",
            "  inflating: fashion_dataset/blue_dress/00000069.jpg  \n",
            "  inflating: fashion_dataset/blue_dress/00000071.jpg  \n",
            "  inflating: fashion_dataset/blue_dress/00000074.jpg  \n",
            "  inflating: fashion_dataset/blue_dress/00000075.jpg  \n",
            "  inflating: fashion_dataset/blue_dress/00000076.jpg  \n",
            "  inflating: fashion_dataset/blue_dress/00000077.jpg  \n",
            "  inflating: fashion_dataset/blue_dress/00000079.jpg  \n",
            "  inflating: fashion_dataset/blue_dress/00000080.jpg  \n",
            "  inflating: fashion_dataset/blue_dress/00000081.jpg  \n",
            "  inflating: fashion_dataset/blue_dress/00000084.jpg  \n",
            "  inflating: fashion_dataset/blue_dress/00000085.jpg  \n",
            "  inflating: fashion_dataset/blue_dress/00000086.jpg  \n",
            "  inflating: fashion_dataset/blue_dress/00000087.jpg  \n",
            "  inflating: fashion_dataset/blue_dress/00000088.jpg  \n",
            "  inflating: fashion_dataset/blue_dress/00000089.jpg  \n",
            "  inflating: fashion_dataset/blue_dress/00000090.jpg  \n",
            "  inflating: fashion_dataset/blue_dress/00000091.jpg  \n",
            "  inflating: fashion_dataset/blue_dress/00000094.jpg  \n",
            "  inflating: fashion_dataset/blue_dress/00000095.jpg  \n",
            "  inflating: fashion_dataset/blue_dress/00000097.jpg  \n",
            "  inflating: fashion_dataset/blue_dress/00000100.jpg  \n",
            "  inflating: fashion_dataset/blue_dress/00000101.jpg  \n",
            "  inflating: fashion_dataset/blue_dress/00000104.jpg  \n",
            "  inflating: fashion_dataset/blue_dress/00000105.jpg  \n",
            "  inflating: fashion_dataset/blue_dress/00000106.jpg  \n",
            "  inflating: fashion_dataset/blue_dress/00000107.jpg  \n",
            "  inflating: fashion_dataset/blue_dress/00000108.jpg  \n",
            "  inflating: fashion_dataset/blue_dress/00000109.jpg  \n",
            "  inflating: fashion_dataset/blue_dress/00000110.jpg  \n",
            "  inflating: fashion_dataset/blue_dress/00000111.jpg  \n",
            "  inflating: fashion_dataset/blue_dress/00000114.jpg  \n",
            "  inflating: fashion_dataset/blue_dress/00000115.jpg  \n",
            "  inflating: fashion_dataset/blue_dress/00000116.jpg  \n",
            "  inflating: fashion_dataset/blue_dress/00000117.jpg  \n",
            "  inflating: fashion_dataset/blue_dress/00000118.jpg  \n",
            "  inflating: fashion_dataset/blue_dress/00000119.jpg  \n",
            "  inflating: fashion_dataset/blue_dress/00000141.jpg  \n",
            "  inflating: fashion_dataset/blue_dress/00000144.jpg  \n",
            "  inflating: fashion_dataset/blue_dress/00000146.jpg  \n",
            "  inflating: fashion_dataset/blue_dress/00000147.jpg  \n",
            "  inflating: fashion_dataset/blue_dress/00000148.jpg  \n",
            "  inflating: fashion_dataset/blue_dress/00000149.jpg  \n",
            "  inflating: fashion_dataset/blue_dress/00000150.jpg  \n",
            "  inflating: fashion_dataset/blue_dress/00000155.jpg  \n",
            "  inflating: fashion_dataset/blue_dress/00000156.jpg  \n",
            "  inflating: fashion_dataset/blue_dress/00000157.jpg  \n",
            "  inflating: fashion_dataset/blue_dress/00000158.jpg  \n",
            "  inflating: fashion_dataset/blue_dress/00000159.jpg  \n",
            "  inflating: fashion_dataset/blue_dress/00000160.jpg  \n",
            "  inflating: fashion_dataset/blue_dress/00000161.jpg  \n",
            "  inflating: fashion_dataset/blue_dress/00000164.jpg  \n",
            "  inflating: fashion_dataset/blue_dress/00000166.jpg  \n",
            "  inflating: fashion_dataset/blue_dress/00000167.jpg  \n",
            "  inflating: fashion_dataset/blue_dress/00000168.jpg  \n",
            "  inflating: fashion_dataset/blue_dress/00000169.jpg  \n",
            "  inflating: fashion_dataset/blue_dress/00000170.jpg  \n",
            "  inflating: fashion_dataset/blue_dress/00000171.jpg  \n",
            "  inflating: fashion_dataset/blue_dress/00000174.jpg  \n",
            "  inflating: fashion_dataset/blue_dress/00000176.jpg  \n",
            "  inflating: fashion_dataset/blue_dress/00000177.jpg  \n",
            "  inflating: fashion_dataset/blue_dress/00000178.jpg  \n",
            "  inflating: fashion_dataset/blue_dress/00000179.jpg  \n",
            "  inflating: fashion_dataset/blue_dress/00000180.jpg  \n",
            "  inflating: fashion_dataset/blue_dress/00000181.jpg  \n",
            "  inflating: fashion_dataset/blue_dress/00000184.jpg  \n",
            "  inflating: fashion_dataset/blue_dress/00000185.jpg  \n",
            "  inflating: fashion_dataset/blue_dress/00000186.jpg  \n",
            "  inflating: fashion_dataset/blue_dress/00000187.jpg  \n",
            "  inflating: fashion_dataset/blue_dress/00000188.jpg  \n",
            "  inflating: fashion_dataset/blue_dress/00000189.jpg  \n",
            "  inflating: fashion_dataset/blue_dress/00000190.jpg  \n",
            "  inflating: fashion_dataset/blue_dress/00000191.jpg  \n",
            "  inflating: fashion_dataset/blue_dress/00000194.jpg  \n",
            "  inflating: fashion_dataset/blue_dress/00000195.jpg  \n",
            "  inflating: fashion_dataset/blue_dress/00000196.jpg  \n",
            "  inflating: fashion_dataset/blue_dress/00000197.jpg  \n",
            "  inflating: fashion_dataset/blue_dress/00000198.jpg  \n",
            "  inflating: fashion_dataset/blue_dress/00000199.jpg  \n",
            "   creating: fashion_dataset/blue_jeans/\n",
            "  inflating: fashion_dataset/blue_jeans/00000000.jpg  \n",
            "  inflating: fashion_dataset/blue_jeans/00000004.jpg  \n",
            "  inflating: fashion_dataset/blue_jeans/00000005.jpg  \n",
            "  inflating: fashion_dataset/blue_jeans/00000006.jpg  \n",
            "  inflating: fashion_dataset/blue_jeans/00000007.jpg  \n",
            "  inflating: fashion_dataset/blue_jeans/00000009.jpg  \n",
            "  inflating: fashion_dataset/blue_jeans/00000010.jpg  \n",
            "  inflating: fashion_dataset/blue_jeans/00000011.jpg  \n",
            "  inflating: fashion_dataset/blue_jeans/00000014.jpg  \n",
            "  inflating: fashion_dataset/blue_jeans/00000015.jpg  \n",
            "  inflating: fashion_dataset/blue_jeans/00000016.jpg  \n",
            "  inflating: fashion_dataset/blue_jeans/00000017.jpg  \n",
            "  inflating: fashion_dataset/blue_jeans/00000019.jpg  \n",
            "  inflating: fashion_dataset/blue_jeans/00000040.jpg  \n",
            "  inflating: fashion_dataset/blue_jeans/00000041.jpg  \n",
            "  inflating: fashion_dataset/blue_jeans/00000044.jpg  \n",
            "  inflating: fashion_dataset/blue_jeans/00000045.jpg  \n",
            "  inflating: fashion_dataset/blue_jeans/00000046.jpg  \n",
            "  inflating: fashion_dataset/blue_jeans/00000047.jpg  \n",
            "  inflating: fashion_dataset/blue_jeans/00000049.jpg  \n",
            "  inflating: fashion_dataset/blue_jeans/00000050.jpg  \n",
            "  inflating: fashion_dataset/blue_jeans/00000051.jpg  \n",
            "  inflating: fashion_dataset/blue_jeans/00000054.jpg  \n",
            "  inflating: fashion_dataset/blue_jeans/00000055.jpg  \n",
            "  inflating: fashion_dataset/blue_jeans/00000056.jpg  \n",
            "  inflating: fashion_dataset/blue_jeans/00000057.jpg  \n",
            "  inflating: fashion_dataset/blue_jeans/00000058.jpg  \n",
            "  inflating: fashion_dataset/blue_jeans/00000059.jpg  \n",
            "  inflating: fashion_dataset/blue_jeans/00000061.jpg  \n",
            "  inflating: fashion_dataset/blue_jeans/00000064.jpg  \n",
            "  inflating: fashion_dataset/blue_jeans/00000065.jpg  \n",
            "  inflating: fashion_dataset/blue_jeans/00000067.jpg  \n",
            "  inflating: fashion_dataset/blue_jeans/00000069.jpg  \n",
            "  inflating: fashion_dataset/blue_jeans/00000071.jpg  \n",
            "  inflating: fashion_dataset/blue_jeans/00000074.jpg  \n",
            "  inflating: fashion_dataset/blue_jeans/00000077.jpg  \n",
            "  inflating: fashion_dataset/blue_jeans/00000080.jpg  \n",
            "  inflating: fashion_dataset/blue_jeans/00000081.jpg  \n",
            "  inflating: fashion_dataset/blue_jeans/00000084.jpg  \n",
            "  inflating: fashion_dataset/blue_jeans/00000086.jpg  \n",
            "  inflating: fashion_dataset/blue_jeans/00000087.jpg  \n",
            "  inflating: fashion_dataset/blue_jeans/00000088.jpg  \n",
            "  inflating: fashion_dataset/blue_jeans/00000089.jpg  \n",
            "  inflating: fashion_dataset/blue_jeans/00000090.jpg  \n",
            "  inflating: fashion_dataset/blue_jeans/00000091.jpg  \n",
            "  inflating: fashion_dataset/blue_jeans/00000094.jpg  \n",
            "  inflating: fashion_dataset/blue_jeans/00000095.jpg  \n",
            "  inflating: fashion_dataset/blue_jeans/00000096.jpg  \n",
            "  inflating: fashion_dataset/blue_jeans/00000097.jpg  \n",
            "  inflating: fashion_dataset/blue_jeans/00000098.jpg  \n",
            "  inflating: fashion_dataset/blue_jeans/00000099.jpg  \n",
            "  inflating: fashion_dataset/blue_jeans/00000100.jpg  \n",
            "  inflating: fashion_dataset/blue_jeans/00000104.jpg  \n",
            "  inflating: fashion_dataset/blue_jeans/00000105.jpg  \n",
            "  inflating: fashion_dataset/blue_jeans/00000106.jpg  \n",
            "  inflating: fashion_dataset/blue_jeans/00000108.jpg  \n",
            "  inflating: fashion_dataset/blue_jeans/00000109.jpg  \n",
            "  inflating: fashion_dataset/blue_jeans/00000110.jpg  \n",
            "  inflating: fashion_dataset/blue_jeans/00000111.jpg  \n",
            "  inflating: fashion_dataset/blue_jeans/00000117.jpg  \n",
            "  inflating: fashion_dataset/blue_jeans/00000118.jpg  \n",
            "  inflating: fashion_dataset/blue_jeans/00000119.jpg  \n",
            "  inflating: fashion_dataset/blue_jeans/00000140.jpg  \n",
            "  inflating: fashion_dataset/blue_jeans/00000141.jpg  \n",
            "  inflating: fashion_dataset/blue_jeans/00000144.jpg  \n",
            "  inflating: fashion_dataset/blue_jeans/00000146.jpg  \n",
            "  inflating: fashion_dataset/blue_jeans/00000148.jpg  \n",
            "  inflating: fashion_dataset/blue_jeans/00000149.jpg  \n",
            "  inflating: fashion_dataset/blue_jeans/00000150.jpg  \n",
            "  inflating: fashion_dataset/blue_jeans/00000151.jpg  \n",
            "  inflating: fashion_dataset/blue_jeans/00000154.jpg  \n",
            "  inflating: fashion_dataset/blue_jeans/00000155.jpg  \n",
            "  inflating: fashion_dataset/blue_jeans/00000156.jpg  \n",
            "  inflating: fashion_dataset/blue_jeans/00000157.jpg  \n",
            "  inflating: fashion_dataset/blue_jeans/00000158.jpg  \n",
            "  inflating: fashion_dataset/blue_jeans/00000159.jpg  \n",
            "  inflating: fashion_dataset/blue_jeans/00000160.jpg  \n",
            "  inflating: fashion_dataset/blue_jeans/00000161.jpg  \n",
            "  inflating: fashion_dataset/blue_jeans/00000164.jpg  \n",
            "  inflating: fashion_dataset/blue_jeans/00000165.png  \n",
            "  inflating: fashion_dataset/blue_jeans/00000167.jpg  \n",
            "  inflating: fashion_dataset/blue_jeans/00000168.jpg  \n",
            "  inflating: fashion_dataset/blue_jeans/00000169.jpg  \n",
            "  inflating: fashion_dataset/blue_jeans/00000170.jpg  \n",
            "  inflating: fashion_dataset/blue_jeans/00000171.png  \n",
            "  inflating: fashion_dataset/blue_jeans/00000174.jpg  \n",
            "  inflating: fashion_dataset/blue_jeans/00000175.jpg  \n",
            "  inflating: fashion_dataset/blue_jeans/00000177.jpg  \n",
            "  inflating: fashion_dataset/blue_jeans/00000180.jpg  \n",
            "  inflating: fashion_dataset/blue_jeans/00000186.jpg  \n",
            "  inflating: fashion_dataset/blue_jeans/00000187.jpg  \n",
            "  inflating: fashion_dataset/blue_jeans/00000188.jpg  \n",
            "  inflating: fashion_dataset/blue_jeans/00000189.jpg  \n",
            "  inflating: fashion_dataset/blue_jeans/00000190.jpg  \n",
            "  inflating: fashion_dataset/blue_jeans/00000194.jpg  \n",
            "  inflating: fashion_dataset/blue_jeans/00000195.png  \n",
            "  inflating: fashion_dataset/blue_jeans/00000196.jpg  \n",
            "  inflating: fashion_dataset/blue_jeans/00000198.jpg  \n",
            "   creating: fashion_dataset/blue_shirt/\n",
            "  inflating: fashion_dataset/blue_shirt/00000000.jpg  \n",
            "  inflating: fashion_dataset/blue_shirt/00000001.jpg  \n",
            "  inflating: fashion_dataset/blue_shirt/00000004.jpg  \n",
            "  inflating: fashion_dataset/blue_shirt/00000005.jpg  \n",
            "  inflating: fashion_dataset/blue_shirt/00000006.jpg  \n",
            "  inflating: fashion_dataset/blue_shirt/00000007.jpg  \n",
            "  inflating: fashion_dataset/blue_shirt/00000008.jpg  \n",
            "  inflating: fashion_dataset/blue_shirt/00000009.JPG  \n",
            "  inflating: fashion_dataset/blue_shirt/00000010.jpg  \n",
            "  inflating: fashion_dataset/blue_shirt/00000011.jpg  \n",
            "  inflating: fashion_dataset/blue_shirt/00000014.jpg  \n",
            "  inflating: fashion_dataset/blue_shirt/00000015.jpg  \n",
            "  inflating: fashion_dataset/blue_shirt/00000016.jpg  \n",
            "  inflating: fashion_dataset/blue_shirt/00000017.jpg  \n",
            "  inflating: fashion_dataset/blue_shirt/00000018.jpg  \n",
            "  inflating: fashion_dataset/blue_shirt/00000019.jpg  \n",
            "  inflating: fashion_dataset/blue_shirt/00000040.png  \n",
            "  inflating: fashion_dataset/blue_shirt/00000041.jpg  \n",
            "  inflating: fashion_dataset/blue_shirt/00000044.jpg  \n",
            "  inflating: fashion_dataset/blue_shirt/00000045.jpg  \n",
            "  inflating: fashion_dataset/blue_shirt/00000046.jpg  \n",
            "  inflating: fashion_dataset/blue_shirt/00000049.jpg  \n",
            "  inflating: fashion_dataset/blue_shirt/00000050.jpg  \n",
            "  inflating: fashion_dataset/blue_shirt/00000051.jpg  \n",
            "  inflating: fashion_dataset/blue_shirt/00000054.jpg  \n",
            "  inflating: fashion_dataset/blue_shirt/00000055.jpg  \n",
            "  inflating: fashion_dataset/blue_shirt/00000056.png  \n",
            "  inflating: fashion_dataset/blue_shirt/00000057.jpg  \n",
            "  inflating: fashion_dataset/blue_shirt/00000058.jpg  \n",
            "  inflating: fashion_dataset/blue_shirt/00000060.jpg  \n",
            "  inflating: fashion_dataset/blue_shirt/00000061.jpg  \n",
            "  inflating: fashion_dataset/blue_shirt/00000064.jpg  \n",
            "  inflating: fashion_dataset/blue_shirt/00000065.jpg  \n",
            "  inflating: fashion_dataset/blue_shirt/00000067.jpg  \n",
            "  inflating: fashion_dataset/blue_shirt/00000068.jpg  \n",
            "  inflating: fashion_dataset/blue_shirt/00000069.jpg  \n",
            "  inflating: fashion_dataset/blue_shirt/00000070.jpg  \n",
            "  inflating: fashion_dataset/blue_shirt/00000071.jpg  \n",
            "  inflating: fashion_dataset/blue_shirt/00000074.jpg  \n",
            "  inflating: fashion_dataset/blue_shirt/00000075.jpg  \n",
            "  inflating: fashion_dataset/blue_shirt/00000078.jpg  \n",
            "  inflating: fashion_dataset/blue_shirt/00000079.jpg  \n",
            "  inflating: fashion_dataset/blue_shirt/00000080.jpg  \n",
            "  inflating: fashion_dataset/blue_shirt/00000081.jpg  \n",
            "  inflating: fashion_dataset/blue_shirt/00000084.jpg  \n",
            "  inflating: fashion_dataset/blue_shirt/00000085.jpg  \n",
            "  inflating: fashion_dataset/blue_shirt/00000086.jpg  \n",
            "  inflating: fashion_dataset/blue_shirt/00000088.jpg  \n",
            "  inflating: fashion_dataset/blue_shirt/00000089.jpg  \n",
            "  inflating: fashion_dataset/blue_shirt/00000090.jpg  \n",
            "  inflating: fashion_dataset/blue_shirt/00000091.png  \n",
            "  inflating: fashion_dataset/blue_shirt/00000094.jpg  \n",
            "  inflating: fashion_dataset/blue_shirt/00000095.jpg  \n",
            "  inflating: fashion_dataset/blue_shirt/00000096.jpg  \n",
            "  inflating: fashion_dataset/blue_shirt/00000097.jpg  \n",
            "  inflating: fashion_dataset/blue_shirt/00000098.jpg  \n",
            "  inflating: fashion_dataset/blue_shirt/00000099.png  \n",
            "  inflating: fashion_dataset/blue_shirt/00000100.png  \n",
            "  inflating: fashion_dataset/blue_shirt/00000101.jpg  \n",
            "  inflating: fashion_dataset/blue_shirt/00000104.jpg  \n",
            "  inflating: fashion_dataset/blue_shirt/00000105.jpg  \n",
            "  inflating: fashion_dataset/blue_shirt/00000106.png  \n",
            "  inflating: fashion_dataset/blue_shirt/00000107.jpg  \n",
            "  inflating: fashion_dataset/blue_shirt/00000108.jpg  \n",
            "  inflating: fashion_dataset/blue_shirt/00000109.jpg  \n",
            "  inflating: fashion_dataset/blue_shirt/00000110.jpg  \n",
            "  inflating: fashion_dataset/blue_shirt/00000111.jpg  \n",
            "  inflating: fashion_dataset/blue_shirt/00000114.jpg  \n",
            "  inflating: fashion_dataset/blue_shirt/00000115.jpg  \n",
            "  inflating: fashion_dataset/blue_shirt/00000116.jpg  \n",
            "  inflating: fashion_dataset/blue_shirt/00000117.jpg  \n",
            "  inflating: fashion_dataset/blue_shirt/00000118.jpg  \n",
            "  inflating: fashion_dataset/blue_shirt/00000119.jpg  \n",
            "  inflating: fashion_dataset/blue_shirt/00000140.jpg  \n",
            "  inflating: fashion_dataset/blue_shirt/00000141.jpg  \n",
            "  inflating: fashion_dataset/blue_shirt/00000144.JPG  \n",
            "  inflating: fashion_dataset/blue_shirt/00000146.jpg  \n",
            "  inflating: fashion_dataset/blue_shirt/00000147.jpg  \n",
            "  inflating: fashion_dataset/blue_shirt/00000148.jpg  \n",
            "  inflating: fashion_dataset/blue_shirt/00000149.jpg  \n",
            "  inflating: fashion_dataset/blue_shirt/00000151.jpg  \n",
            "  inflating: fashion_dataset/blue_shirt/00000154.jpg  \n",
            "  inflating: fashion_dataset/blue_shirt/00000155.jpg  \n",
            "  inflating: fashion_dataset/blue_shirt/00000156.JPG  \n",
            "  inflating: fashion_dataset/blue_shirt/00000157.jpg  \n",
            "  inflating: fashion_dataset/blue_shirt/00000158.jpg  \n",
            "  inflating: fashion_dataset/blue_shirt/00000159.jpg  \n",
            "  inflating: fashion_dataset/blue_shirt/00000160.jpg  \n",
            "  inflating: fashion_dataset/blue_shirt/00000161.jpg  \n",
            "  inflating: fashion_dataset/blue_shirt/00000164.jpg  \n",
            "  inflating: fashion_dataset/blue_shirt/00000165.jpg  \n",
            "  inflating: fashion_dataset/blue_shirt/00000166.jpg  \n",
            "  inflating: fashion_dataset/blue_shirt/00000167.jpg  \n",
            "  inflating: fashion_dataset/blue_shirt/00000168.jpg  \n",
            "  inflating: fashion_dataset/blue_shirt/00000169.png  \n",
            "  inflating: fashion_dataset/blue_shirt/00000171.jpg  \n",
            "  inflating: fashion_dataset/blue_shirt/00000174.jpg  \n",
            "  inflating: fashion_dataset/blue_shirt/00000175.jpg  \n",
            "  inflating: fashion_dataset/blue_shirt/00000178.jpg  \n",
            "  inflating: fashion_dataset/blue_shirt/00000179.jpg  \n",
            "  inflating: fashion_dataset/blue_shirt/00000180.jpg  \n",
            "  inflating: fashion_dataset/blue_shirt/00000181.png  \n",
            "  inflating: fashion_dataset/blue_shirt/00000184.jpg  \n",
            "  inflating: fashion_dataset/blue_shirt/00000185.jpg  \n",
            "  inflating: fashion_dataset/blue_shirt/00000186.jpg  \n",
            "  inflating: fashion_dataset/blue_shirt/00000187.jpg  \n",
            "  inflating: fashion_dataset/blue_shirt/00000190.jpg  \n",
            "  inflating: fashion_dataset/blue_shirt/00000191.jpg  \n",
            "  inflating: fashion_dataset/blue_shirt/00000194.jpg  \n",
            "  inflating: fashion_dataset/blue_shirt/00000195.jpg  \n",
            "  inflating: fashion_dataset/blue_shirt/00000196.jpg  \n",
            "  inflating: fashion_dataset/blue_shirt/00000197.jpg  \n",
            "  inflating: fashion_dataset/blue_shirt/00000198.jpg  \n",
            "   creating: fashion_dataset/red_dress/\n",
            "  inflating: fashion_dataset/red_dress/00000000.jpg  \n",
            "  inflating: fashion_dataset/red_dress/00000001.jpg  \n",
            "  inflating: fashion_dataset/red_dress/00000004.jpg  \n",
            "  inflating: fashion_dataset/red_dress/00000005.jpg  \n",
            "  inflating: fashion_dataset/red_dress/00000006.jpg  \n",
            "  inflating: fashion_dataset/red_dress/00000007.jpg  \n",
            "  inflating: fashion_dataset/red_dress/00000008.jpg  \n",
            "  inflating: fashion_dataset/red_dress/00000009.JPG  \n",
            "  inflating: fashion_dataset/red_dress/00000010.jpg  \n",
            "  inflating: fashion_dataset/red_dress/00000011.jpg  \n",
            "  inflating: fashion_dataset/red_dress/00000014.jpg  \n",
            "  inflating: fashion_dataset/red_dress/00000015.jpg  \n",
            "  inflating: fashion_dataset/red_dress/00000016.jpg  \n",
            "  inflating: fashion_dataset/red_dress/00000017.jpg  \n",
            "  inflating: fashion_dataset/red_dress/00000018.jpg  \n",
            "  inflating: fashion_dataset/red_dress/00000019.jpg  \n",
            "  inflating: fashion_dataset/red_dress/00000040.jpg  \n",
            "  inflating: fashion_dataset/red_dress/00000041.jpg  \n",
            "  inflating: fashion_dataset/red_dress/00000044.jpg  \n",
            "  inflating: fashion_dataset/red_dress/00000045.jpg  \n",
            "  inflating: fashion_dataset/red_dress/00000046.jpg  \n",
            "  inflating: fashion_dataset/red_dress/00000047.png  \n",
            "  inflating: fashion_dataset/red_dress/00000048.jpg  \n",
            "  inflating: fashion_dataset/red_dress/00000049.png  \n",
            "  inflating: fashion_dataset/red_dress/00000050.jpg  \n",
            "  inflating: fashion_dataset/red_dress/00000051.jpg  \n",
            "  inflating: fashion_dataset/red_dress/00000054.jpg  \n",
            "  inflating: fashion_dataset/red_dress/00000055.jpg  \n",
            "  inflating: fashion_dataset/red_dress/00000056.png  \n",
            "  inflating: fashion_dataset/red_dress/00000057.jpg  \n",
            "  inflating: fashion_dataset/red_dress/00000058.jpg  \n",
            "  inflating: fashion_dataset/red_dress/00000059.jpg  \n",
            "  inflating: fashion_dataset/red_dress/00000060.jpg  \n",
            "  inflating: fashion_dataset/red_dress/00000061.jpg  \n",
            "  inflating: fashion_dataset/red_dress/00000064.jpg  \n",
            "  inflating: fashion_dataset/red_dress/00000065.jpg  \n",
            "  inflating: fashion_dataset/red_dress/00000066.jpg  \n",
            "  inflating: fashion_dataset/red_dress/00000067.jpg  \n",
            "  inflating: fashion_dataset/red_dress/00000069.jpg  \n",
            "  inflating: fashion_dataset/red_dress/00000071.jpg  \n",
            "  inflating: fashion_dataset/red_dress/00000074.jpg  \n",
            "  inflating: fashion_dataset/red_dress/00000075.jpg  \n",
            "  inflating: fashion_dataset/red_dress/00000076.jpg  \n",
            "  inflating: fashion_dataset/red_dress/00000077.jpg  \n",
            "  inflating: fashion_dataset/red_dress/00000078.jpg  \n",
            "  inflating: fashion_dataset/red_dress/00000079.jpg  \n",
            "  inflating: fashion_dataset/red_dress/00000080.JPG  \n",
            "  inflating: fashion_dataset/red_dress/00000081.jpg  \n",
            "  inflating: fashion_dataset/red_dress/00000085.jpg  \n",
            "  inflating: fashion_dataset/red_dress/00000086.jpg  \n",
            "  inflating: fashion_dataset/red_dress/00000087.jpg  \n",
            "  inflating: fashion_dataset/red_dress/00000088.jpg  \n",
            "  inflating: fashion_dataset/red_dress/00000089.jpg  \n",
            "  inflating: fashion_dataset/red_dress/00000090.jpg  \n",
            "  inflating: fashion_dataset/red_dress/00000094.jpg  \n",
            "  inflating: fashion_dataset/red_dress/00000095.jpg  \n",
            "  inflating: fashion_dataset/red_dress/00000096.jpg  \n",
            "  inflating: fashion_dataset/red_dress/00000097.jpg  \n",
            "  inflating: fashion_dataset/red_dress/00000098.jpg  \n",
            "  inflating: fashion_dataset/red_dress/00000099.jpg  \n",
            "  inflating: fashion_dataset/red_dress/00000100.jpg  \n",
            "  inflating: fashion_dataset/red_dress/00000101.jpg  \n",
            "  inflating: fashion_dataset/red_dress/00000104.jpg  \n",
            "  inflating: fashion_dataset/red_dress/00000105.jpg  \n",
            "  inflating: fashion_dataset/red_dress/00000106.jpg  \n",
            "  inflating: fashion_dataset/red_dress/00000107.jpg  \n",
            "  inflating: fashion_dataset/red_dress/00000108.jpg  \n",
            "  inflating: fashion_dataset/red_dress/00000109.jpg  \n",
            "  inflating: fashion_dataset/red_dress/00000110.jpg  \n",
            "  inflating: fashion_dataset/red_dress/00000111.jpg  \n",
            "  inflating: fashion_dataset/red_dress/00000114.jpg  \n",
            "  inflating: fashion_dataset/red_dress/00000115.jpg  \n",
            "  inflating: fashion_dataset/red_dress/00000116.gif  \n",
            "  inflating: fashion_dataset/red_dress/00000117.jpg  \n",
            "  inflating: fashion_dataset/red_dress/00000118.jpg  \n",
            "  inflating: fashion_dataset/red_dress/00000140.jpg  \n",
            "  inflating: fashion_dataset/red_dress/00000141.jpg  \n",
            "  inflating: fashion_dataset/red_dress/00000146.jpg  \n",
            "  inflating: fashion_dataset/red_dress/00000147.jpg  \n",
            "  inflating: fashion_dataset/red_dress/00000148.jpg  \n",
            "  inflating: fashion_dataset/red_dress/00000149.jpg  \n",
            "  inflating: fashion_dataset/red_dress/00000151.jpg  \n",
            "  inflating: fashion_dataset/red_dress/00000154.jpg  \n",
            "  inflating: fashion_dataset/red_dress/00000155.jpg  \n",
            "  inflating: fashion_dataset/red_dress/00000156.jpg  \n",
            "  inflating: fashion_dataset/red_dress/00000158.jpg  \n",
            "  inflating: fashion_dataset/red_dress/00000159.jpg  \n",
            "  inflating: fashion_dataset/red_dress/00000160.jpg  \n",
            "  inflating: fashion_dataset/red_dress/00000161.jpg  \n",
            "  inflating: fashion_dataset/red_dress/00000164.jpg  \n",
            "  inflating: fashion_dataset/red_dress/00000165.jpg  \n",
            "  inflating: fashion_dataset/red_dress/00000166.jpg  \n",
            "  inflating: fashion_dataset/red_dress/00000167.jpg  \n",
            "  inflating: fashion_dataset/red_dress/00000168.jpg  \n",
            "  inflating: fashion_dataset/red_dress/00000169.jpg  \n",
            "  inflating: fashion_dataset/red_dress/00000170.jpg  \n",
            "  inflating: fashion_dataset/red_dress/00000174.jpg  \n",
            "  inflating: fashion_dataset/red_dress/00000175.jpg  \n",
            "  inflating: fashion_dataset/red_dress/00000176.jpg  \n",
            "  inflating: fashion_dataset/red_dress/00000177.jpg  \n",
            "  inflating: fashion_dataset/red_dress/00000178.jpg  \n",
            "  inflating: fashion_dataset/red_dress/00000179.jpg  \n",
            "  inflating: fashion_dataset/red_dress/00000181.jpg  \n",
            "  inflating: fashion_dataset/red_dress/00000184.jpg  \n",
            "  inflating: fashion_dataset/red_dress/00000185.jpg  \n",
            "  inflating: fashion_dataset/red_dress/00000186.jpg  \n",
            "  inflating: fashion_dataset/red_dress/00000187.jpg  \n",
            "  inflating: fashion_dataset/red_dress/00000188.jpg  \n",
            "  inflating: fashion_dataset/red_dress/00000189.jpg  \n",
            "  inflating: fashion_dataset/red_dress/00000190.jpg  \n",
            "  inflating: fashion_dataset/red_dress/00000191.jpg  \n",
            "  inflating: fashion_dataset/red_dress/00000194.jpg  \n",
            "  inflating: fashion_dataset/red_dress/00000195.jpg  \n",
            "  inflating: fashion_dataset/red_dress/00000196.jpg  \n",
            "  inflating: fashion_dataset/red_dress/00000197.jpg  \n",
            "  inflating: fashion_dataset/red_dress/00000198.jpg  \n",
            "  inflating: fashion_dataset/red_dress/00000199.jpg  \n",
            "   creating: fashion_dataset/red_shirt/\n",
            "  inflating: fashion_dataset/red_shirt/00000000.jpg  \n",
            "  inflating: fashion_dataset/red_shirt/00000001.png  \n",
            "  inflating: fashion_dataset/red_shirt/00000004.jpg  \n",
            "  inflating: fashion_dataset/red_shirt/00000005.png  \n",
            "  inflating: fashion_dataset/red_shirt/00000006.png  \n",
            "  inflating: fashion_dataset/red_shirt/00000007.png  \n",
            "  inflating: fashion_dataset/red_shirt/00000008.png  \n",
            "  inflating: fashion_dataset/red_shirt/00000011.jpg  \n",
            "  inflating: fashion_dataset/red_shirt/00000014.jpg  \n",
            "  inflating: fashion_dataset/red_shirt/00000015.jpg  \n",
            "  inflating: fashion_dataset/red_shirt/00000016.jpg  \n",
            "  inflating: fashion_dataset/red_shirt/00000018.jpg  \n",
            "  inflating: fashion_dataset/red_shirt/00000019.png  \n",
            "  inflating: fashion_dataset/red_shirt/00000040.png  \n",
            "  inflating: fashion_dataset/red_shirt/00000041.jpg  \n",
            "  inflating: fashion_dataset/red_shirt/00000044.png  \n",
            "  inflating: fashion_dataset/red_shirt/00000045.jpg  \n",
            "  inflating: fashion_dataset/red_shirt/00000046.jpg  \n",
            "  inflating: fashion_dataset/red_shirt/00000047.jpg  \n",
            "  inflating: fashion_dataset/red_shirt/00000048.jpg  \n",
            "  inflating: fashion_dataset/red_shirt/00000049.jpg  \n",
            "  inflating: fashion_dataset/red_shirt/00000050.jpg  \n",
            "  inflating: fashion_dataset/red_shirt/00000051.jpg  \n",
            "  inflating: fashion_dataset/red_shirt/00000054.jpg  \n",
            "  inflating: fashion_dataset/red_shirt/00000055.jpg  \n",
            "  inflating: fashion_dataset/red_shirt/00000056.jpg  \n",
            "  inflating: fashion_dataset/red_shirt/00000057.jpg  \n",
            "  inflating: fashion_dataset/red_shirt/00000058.png  \n",
            "  inflating: fashion_dataset/red_shirt/00000059.jpg  \n",
            "  inflating: fashion_dataset/red_shirt/00000060.jpg  \n",
            "  inflating: fashion_dataset/red_shirt/00000064.jpg  \n",
            "  inflating: fashion_dataset/red_shirt/00000065.jpg  \n",
            "  inflating: fashion_dataset/red_shirt/00000066.jpg  \n",
            "  inflating: fashion_dataset/red_shirt/00000067.jpg  \n",
            "  inflating: fashion_dataset/red_shirt/00000068.jpg  \n",
            "  inflating: fashion_dataset/red_shirt/00000069.jpg  \n",
            "  inflating: fashion_dataset/red_shirt/00000070.jpg  \n",
            "  inflating: fashion_dataset/red_shirt/00000071.jpg  \n",
            "  inflating: fashion_dataset/red_shirt/00000074.jpg  \n",
            "  inflating: fashion_dataset/red_shirt/00000075.jpg  \n",
            "  inflating: fashion_dataset/red_shirt/00000076.png  \n",
            "  inflating: fashion_dataset/red_shirt/00000077.jpg  \n",
            "  inflating: fashion_dataset/red_shirt/00000078.jpg  \n",
            "  inflating: fashion_dataset/red_shirt/00000079.jpg  \n",
            "  inflating: fashion_dataset/red_shirt/00000080.jpg  \n",
            "  inflating: fashion_dataset/red_shirt/00000081.png  \n",
            "  inflating: fashion_dataset/red_shirt/00000084.jpg  \n",
            "  inflating: fashion_dataset/red_shirt/00000085.jpg  \n",
            "  inflating: fashion_dataset/red_shirt/00000089.jpg  \n",
            "  inflating: fashion_dataset/red_shirt/00000091.jpg  \n",
            "  inflating: fashion_dataset/red_shirt/00000094.jpg  \n",
            "  inflating: fashion_dataset/red_shirt/00000095.jpg  \n",
            "  inflating: fashion_dataset/red_shirt/00000096.jpg  \n",
            "  inflating: fashion_dataset/red_shirt/00000097.jpg  \n",
            "  inflating: fashion_dataset/red_shirt/00000098.jpg  \n",
            "  inflating: fashion_dataset/red_shirt/00000099.jpg  \n",
            "  inflating: fashion_dataset/red_shirt/00000100.jpg  \n",
            "  inflating: fashion_dataset/red_shirt/00000101.jpg  \n",
            "  inflating: fashion_dataset/red_shirt/00000105.jpg  \n",
            "  inflating: fashion_dataset/red_shirt/00000106.jpg  \n",
            "  inflating: fashion_dataset/red_shirt/00000107.jpg  \n",
            "  inflating: fashion_dataset/red_shirt/00000108.jpg  \n",
            "  inflating: fashion_dataset/red_shirt/00000110.jpg  \n",
            "  inflating: fashion_dataset/red_shirt/00000111.jpg  \n",
            "  inflating: fashion_dataset/red_shirt/00000114.jpg  \n",
            "  inflating: fashion_dataset/red_shirt/00000115.jpg  \n",
            "  inflating: fashion_dataset/red_shirt/00000116.jpg  \n",
            "  inflating: fashion_dataset/red_shirt/00000117.jpg  \n",
            "  inflating: fashion_dataset/red_shirt/00000140.jpg  \n",
            "  inflating: fashion_dataset/red_shirt/00000141.jpg  \n",
            "  inflating: fashion_dataset/red_shirt/00000144.jpg  \n",
            "  inflating: fashion_dataset/red_shirt/00000145.jpg  \n",
            "  inflating: fashion_dataset/red_shirt/00000146.jpg  \n",
            "  inflating: fashion_dataset/red_shirt/00000147.jpg  \n",
            "  inflating: fashion_dataset/red_shirt/00000149.jpg  \n",
            "  inflating: fashion_dataset/red_shirt/00000150.jpg  \n",
            "  inflating: fashion_dataset/red_shirt/00000151.jpg  \n",
            "  inflating: fashion_dataset/red_shirt/00000154.jpg  \n",
            "  inflating: fashion_dataset/red_shirt/00000155.jpg  \n",
            "  inflating: fashion_dataset/red_shirt/00000156.jpg  \n",
            "  inflating: fashion_dataset/red_shirt/00000157.jpg  \n",
            "  inflating: fashion_dataset/red_shirt/00000158.jpg  \n",
            "  inflating: fashion_dataset/red_shirt/00000159.jpg  \n",
            "  inflating: fashion_dataset/red_shirt/00000160.jpg  \n",
            "  inflating: fashion_dataset/red_shirt/00000161.jpg  \n",
            "  inflating: fashion_dataset/red_shirt/00000164.jpg  \n",
            "  inflating: fashion_dataset/red_shirt/00000165.jpg  \n",
            "  inflating: fashion_dataset/red_shirt/00000167.jpg  \n",
            "  inflating: fashion_dataset/red_shirt/00000168.jpg  \n",
            "  inflating: fashion_dataset/red_shirt/00000169.jpg  \n",
            "  inflating: fashion_dataset/red_shirt/00000170.jpg  \n",
            "  inflating: fashion_dataset/red_shirt/00000171.jpg  \n",
            "  inflating: fashion_dataset/red_shirt/00000174.jpg  \n",
            "  inflating: fashion_dataset/red_shirt/00000175.jpg  \n",
            "  inflating: fashion_dataset/red_shirt/00000176.jpg  \n",
            "  inflating: fashion_dataset/red_shirt/00000177.jpg  \n",
            "  inflating: fashion_dataset/red_shirt/00000178.jpg  \n",
            "  inflating: fashion_dataset/red_shirt/00000180.jpg  \n",
            "  inflating: fashion_dataset/red_shirt/00000181.jpg  \n",
            "  inflating: fashion_dataset/red_shirt/00000184.jpg  \n",
            "  inflating: fashion_dataset/red_shirt/00000187.jpg  \n",
            "  inflating: fashion_dataset/red_shirt/00000188.jpg  \n",
            "  inflating: fashion_dataset/red_shirt/00000190.jpg  \n",
            "  inflating: fashion_dataset/red_shirt/00000191.jpg  \n",
            "  inflating: fashion_dataset/red_shirt/00000195.jpg  \n",
            "  inflating: fashion_dataset/red_shirt/00000196.jpg  \n",
            "  inflating: fashion_dataset/red_shirt/00000197.jpg  \n",
            "  inflating: fashion_dataset/red_shirt/00000198.jpg  \n",
            "  inflating: fashion_dataset/red_shirt/00000199.jpg  \n"
          ],
          "name": "stdout"
        }
      ]
    },
    {
      "cell_type": "code",
      "metadata": {
        "id": "8dodBjvth_d-",
        "colab_type": "code",
        "colab": {
          "base_uri": "https://localhost:8080/",
          "height": 35
        },
        "outputId": "bbc7a2c8-9d5d-4ae8-e06b-6079e44ecd31"
      },
      "source": [
        "import matplotlib\n",
        "\n",
        "from keras.optimizers import Adam\n",
        "from keras.preprocessing.image import img_to_array\n",
        "from sklearn.preprocessing import LabelBinarizer\n",
        "from sklearn.model_selection import train_test_split\n",
        "\n",
        "from imutils import paths\n",
        "import matplotlib.pyplot as plt\n",
        "import numpy as np\n",
        "import argparse\n",
        "import random\n",
        "import pickle\n",
        "import cv2\n",
        "import os"
      ],
      "execution_count": 35,
      "outputs": [
        {
          "output_type": "stream",
          "text": [
            "Using TensorFlow backend.\n"
          ],
          "name": "stderr"
        }
      ]
    },
    {
      "cell_type": "code",
      "metadata": {
        "id": "pD_ONY_4jtzK",
        "colab_type": "code",
        "colab": {}
      },
      "source": [
        "IMAGE_DIMS = (96, 96, 3)"
      ],
      "execution_count": 36,
      "outputs": []
    },
    {
      "cell_type": "markdown",
      "metadata": {
        "id": "XTw_iOmOizug",
        "colab_type": "text"
      },
      "source": [
        "### 영상 파일이름 읽기"
      ]
    },
    {
      "cell_type": "code",
      "metadata": {
        "id": "w_f5QIPziT6R",
        "colab_type": "code",
        "colab": {
          "base_uri": "https://localhost:8080/",
          "height": 52
        },
        "outputId": "2fd86e62-fadb-4c51-e5f2-b1aa2324db17"
      },
      "source": [
        "imagePaths = sorted(list(paths.list_images('fashion_dataset')))\n",
        "random.shuffle(imagePaths)\n",
        "print(len(imagePaths))\n",
        "print(imagePaths[:3])"
      ],
      "execution_count": 37,
      "outputs": [
        {
          "output_type": "stream",
          "text": [
            "755\n",
            "['fashion_dataset/red_dress/00000181.jpg', 'fashion_dataset/black_shoes/00000019.jpg', 'fashion_dataset/blue_dress/00000088.jpg']\n"
          ],
          "name": "stdout"
        }
      ]
    },
    {
      "cell_type": "markdown",
      "metadata": {
        "id": "4gIJx0rTjdMj",
        "colab_type": "text"
      },
      "source": [
        "### 영상 읽기, 카테고리와 컬러 읽기"
      ]
    },
    {
      "cell_type": "code",
      "metadata": {
        "id": "0cKf7OqHjXq-",
        "colab_type": "code",
        "colab": {}
      },
      "source": [
        "data = []\n",
        "categoryLabels = []\n",
        "colorLabels = []\n",
        "\n",
        "for imagePath in imagePaths:\n",
        "\timage = cv2.imread(imagePath)\n",
        "\timage = cv2.resize(image, (IMAGE_DIMS[1], IMAGE_DIMS[0]))\n",
        "\timage = cv2.cvtColor(image, cv2.COLOR_BGR2RGB)\n",
        "\timage = img_to_array(image)\n",
        "\tdata.append(image)\n",
        "\n",
        "\t(color, cat) = imagePath.split(os.path.sep)[-2].split(\"_\")\n",
        "  # imagePath = 'fashion_dataset/black_shoes/00000048.jpg'\n",
        "  # color = 'black'\n",
        "  # cat = 'shoes'\n",
        "\tcategoryLabels.append(cat)\n",
        "\tcolorLabels.append(color)"
      ],
      "execution_count": 38,
      "outputs": []
    },
    {
      "cell_type": "code",
      "metadata": {
        "id": "FHIVMXWyjxov",
        "colab_type": "code",
        "colab": {
          "base_uri": "https://localhost:8080/",
          "height": 601
        },
        "outputId": "ec052c67-aa57-4fab-f666-8ba82a47363e"
      },
      "source": [
        "from IPython.display import Image, display\n",
        "\n",
        "print(len(data), len(categoryLabels), len(colorLabels))\n",
        "print(\"iamgePaths[0]=\", imagePaths[0])\n",
        "display(Image(imagePaths[0]))\n",
        "\n",
        "print(\"data[0]=\", data[0].shape)\n",
        "plt.imshow(data[0]/255)\n",
        "print(\"categoryLabels[0]=\", categoryLabels[0])\n",
        "print(\"colorLabels[0]=\", colorLabels[0])"
      ],
      "execution_count": 39,
      "outputs": [
        {
          "output_type": "stream",
          "text": [
            "755 755 755\n",
            "iamgePaths[0]= fashion_dataset/red_dress/00000181.jpg\n"
          ],
          "name": "stdout"
        },
        {
          "output_type": "display_data",
          "data": {
            "image/jpeg": "[encoded data removed]",
            "text/plain": [
              "<IPython.core.display.Image object>"
            ]
          },
          "metadata": {
            "tags": []
          }
        },
        {
          "output_type": "stream",
          "text": [
            "data[0]= (96, 96, 3)\n",
            "categoryLabels[0]= dress\n",
            "colorLabels[0]= red\n"
          ],
          "name": "stdout"
        },
        {
          "output_type": "display_data",
          "data": {
            "image/png": "[encoded data removed]",
            "text/plain": [
              "<Figure size 432x288 with 1 Axes>"
            ]
          },
          "metadata": {
            "tags": [],
            "needs_background": "light"
          }
        }
      ]
    },
    {
      "cell_type": "markdown",
      "metadata": {
        "id": "4CcZd2FUnTAb",
        "colab_type": "text"
      },
      "source": [
        "### numpy로 변환"
      ]
    },
    {
      "cell_type": "code",
      "metadata": {
        "id": "CFPjrQRCnSSb",
        "colab_type": "code",
        "colab": {
          "base_uri": "https://localhost:8080/",
          "height": 35
        },
        "outputId": "3a531740-e25b-4f4a-871d-4b51b99b5ba0"
      },
      "source": [
        "data = np.array(data, dtype=\"float\")\n",
        "print(\"[INFO] data matrix: {} images ({:.2f}MB)\".format(len(imagePaths), data.nbytes / (1024 * 1000.0)))\n",
        "\n",
        "# convert the label lists to NumPy arrays prior to binarization\n",
        "categoryLabels = np.array(categoryLabels)\n",
        "colorLabels = np.array(colorLabels)"
      ],
      "execution_count": 40,
      "outputs": [
        {
          "output_type": "stream",
          "text": [
            "[INFO] data matrix: 755 images (163.08MB)\n"
          ],
          "name": "stdout"
        }
      ]
    },
    {
      "cell_type": "markdown",
      "metadata": {
        "id": "wJEmMrAXrmDP",
        "colab_type": "text"
      },
      "source": [
        "## normalization"
      ]
    },
    {
      "cell_type": "code",
      "metadata": {
        "id": "r8Xeo-Rorjwd",
        "colab_type": "code",
        "colab": {}
      },
      "source": [
        "data = data/255."
      ],
      "execution_count": 41,
      "outputs": []
    },
    {
      "cell_type": "markdown",
      "metadata": {
        "id": "3G8ZqLqfnYRy",
        "colab_type": "text"
      },
      "source": [
        "### 레이블 데이터를 one-hot 인코딩"
      ]
    },
    {
      "cell_type": "code",
      "metadata": {
        "id": "m2KnUkTEieV5",
        "colab_type": "code",
        "colab": {
          "base_uri": "https://localhost:8080/",
          "height": 159
        },
        "outputId": "c8dc2fc0-b2b5-468f-be2f-b10b7befaa6f"
      },
      "source": [
        "print(categoryLabels[:5])\n",
        "print(colorLabels[:5])\n",
        "\n",
        "categoryLB = LabelBinarizer()\n",
        "categoryLabels = categoryLB.fit_transform(categoryLabels)\n",
        "\n",
        "colorLB = LabelBinarizer()\n",
        "colorLabels = colorLB.fit_transform(colorLabels)\n",
        "\n",
        "print(categoryLabels[:3])\n",
        "print(colorLabels[:3])"
      ],
      "execution_count": 42,
      "outputs": [
        {
          "output_type": "stream",
          "text": [
            "['dress' 'shoes' 'dress' 'jeans' 'shirt']\n",
            "['red' 'black' 'blue' 'black' 'blue']\n",
            "[[1 0 0 0]\n",
            " [0 0 0 1]\n",
            " [1 0 0 0]]\n",
            "[[0 0 1]\n",
            " [1 0 0]\n",
            " [0 1 0]]\n"
          ],
          "name": "stdout"
        }
      ]
    },
    {
      "cell_type": "markdown",
      "metadata": {
        "id": "AXcJIhU1noje",
        "colab_type": "text"
      },
      "source": [
        "### 데이터 분리"
      ]
    },
    {
      "cell_type": "code",
      "metadata": {
        "id": "H6H1tL3unAOv",
        "colab_type": "code",
        "colab": {
          "base_uri": "https://localhost:8080/",
          "height": 124
        },
        "outputId": "e533ccdc-c232-4e87-c00f-3699f6cb91e4"
      },
      "source": [
        "(trainX, testX, trainCategoryY, testCategoryY, trainColorY, testColorY) = train_test_split(data, categoryLabels, colorLabels, test_size=0.2, random_state=42)\n",
        "\n",
        "print(trainX.shape)\n",
        "print(trainCategoryY.shape)\n",
        "print(trainColorY.shape)\n",
        "\n",
        "print(testX.shape)\n",
        "print(testCategoryY.shape)\n",
        "print(testColorY.shape)"
      ],
      "execution_count": 43,
      "outputs": [
        {
          "output_type": "stream",
          "text": [
            "(604, 96, 96, 3)\n",
            "(604, 4)\n",
            "(604, 3)\n",
            "(151, 96, 96, 3)\n",
            "(151, 4)\n",
            "(151, 3)\n"
          ],
          "name": "stdout"
        }
      ]
    },
    {
      "cell_type": "code",
      "metadata": {
        "id": "_vHgevIupt6_",
        "colab_type": "code",
        "colab": {
          "base_uri": "https://localhost:8080/",
          "height": 52
        },
        "outputId": "01c18a1d-d9b0-4483-a1ad-73009456e3cc"
      },
      "source": [
        "CATEGORY_COUNT = categoryLabels.shape[-1]\n",
        "COLOR_COUNT = colorLabels.shape[-1]\n",
        "\n",
        "print(CATEGORY_COUNT)\n",
        "print(COLOR_COUNT)"
      ],
      "execution_count": 44,
      "outputs": [
        {
          "output_type": "stream",
          "text": [
            "4\n",
            "3\n"
          ],
          "name": "stdout"
        }
      ]
    },
    {
      "cell_type": "markdown",
      "metadata": {
        "id": "dAcKr4uko_51",
        "colab_type": "text"
      },
      "source": [
        "## 개별 모델로 학습 실행"
      ]
    },
    {
      "cell_type": "code",
      "metadata": {
        "id": "X3gbBIm7oBMX",
        "colab_type": "code",
        "colab": {}
      },
      "source": [
        "import numpy as np\n",
        "import matplotlib.pyplot as plt\n",
        "\n",
        "import tensorflow as tf\n",
        "from tensorflow import keras\n",
        "from tensorflow.keras import optimizers\n",
        "from tensorflow.keras.layers import Dense, Flatten, Conv2D, MaxPooling2D, Input\n",
        "\n",
        "\n",
        "def build_category_model():\n",
        "\n",
        "  model = keras.Sequential()\n",
        "  model.add(Input(IMAGE_DIMS))\n",
        "  model.add(Conv2D(32, (3, 3)))\n",
        "  model.add(MaxPooling2D((2, 2)))\n",
        "  model.add(Conv2D(64, (3, 3)))\n",
        "  model.add(MaxPooling2D((2, 2)))\n",
        "  model.add(Flatten())\n",
        "  model.add(Dense(10, activation='relu'))\n",
        "  model.add(Dense(10, activation='relu'))\n",
        "  model.add(Dense(CATEGORY_COUNT, activation='softmax'))\n",
        "\n",
        "  return model\n",
        "\n",
        "def build_color_model():\n",
        "\n",
        "  model = keras.Sequential()\n",
        "  model.add(Input(IMAGE_DIMS))\n",
        "  model.add(Conv2D(32, (3, 3)))\n",
        "  model.add(MaxPooling2D((2, 2)))\n",
        "  model.add(Conv2D(64, (3, 3)))\n",
        "  model.add(MaxPooling2D((2, 2)))\n",
        "  model.add(Flatten())\n",
        "  model.add(Dense(10, activation='relu'))\n",
        "  model.add(Dense(10, activation='relu'))\n",
        "  model.add(Dense(COLOR_COUNT, activation='softmax'))\n",
        "\n",
        "  return model  "
      ],
      "execution_count": 45,
      "outputs": []
    },
    {
      "cell_type": "code",
      "metadata": {
        "id": "Vh-cWdnw9YIM",
        "colab_type": "code",
        "colab": {
          "base_uri": "https://localhost:8080/",
          "height": 70
        },
        "outputId": "9f20ab45-6f47-4d4b-9de5-a93927b4595f"
      },
      "source": [
        "print(trainX.shape)\n",
        "print(trainCategoryY.shape)\n",
        "print(CATEGORY_COUNT)"
      ],
      "execution_count": 46,
      "outputs": [
        {
          "output_type": "stream",
          "text": [
            "(604, 96, 96, 3)\n",
            "(604, 4)\n",
            "4\n"
          ],
          "name": "stdout"
        }
      ]
    },
    {
      "cell_type": "markdown",
      "metadata": {
        "id": "DnwbSGt4I5Er",
        "colab_type": "text"
      },
      "source": [
        "### 카테고리 모델"
      ]
    },
    {
      "cell_type": "code",
      "metadata": {
        "id": "O0CE4sh2pXrm",
        "colab_type": "code",
        "colab": {
          "base_uri": "https://localhost:8080/",
          "height": 692
        },
        "outputId": "3a5d454e-885b-420f-dd4a-1cf05793f00e"
      },
      "source": [
        "category_model = build_category_model()\n",
        "\n",
        "category_model.compile(optimizer=\"adam\", loss=\"categorical_crossentropy\", metrics=[\"accuracy\"])\n",
        "category_model.summary()\n",
        "\n",
        "\n",
        "category_model.fit(trainX, trainCategoryY, epochs=5, verbose=1, batch_size=128)\n",
        "\n",
        "\n",
        "loss, acc = category_model.evaluate(testX, testCategoryY)\n",
        "print(\"loss=\",loss)\n",
        "print(\"acc=\",acc)\n"
      ],
      "execution_count": 47,
      "outputs": [
        {
          "output_type": "stream",
          "text": [
            "Model: \"sequential\"\n",
            "_________________________________________________________________\n",
            "Layer (type)                 Output Shape              Param #   \n",
            "=================================================================\n",
            "conv2d_8 (Conv2D)            (None, 94, 94, 32)        896       \n",
            "_________________________________________________________________\n",
            "max_pooling2d_8 (MaxPooling2 (None, 47, 47, 32)        0         \n",
            "_________________________________________________________________\n",
            "conv2d_9 (Conv2D)            (None, 45, 45, 64)        18496     \n",
            "_________________________________________________________________\n",
            "max_pooling2d_9 (MaxPooling2 (None, 22, 22, 64)        0         \n",
            "_________________________________________________________________\n",
            "flatten_4 (Flatten)          (None, 30976)             0         \n",
            "_________________________________________________________________\n",
            "dense_18 (Dense)             (None, 10)                309770    \n",
            "_________________________________________________________________\n",
            "dense_19 (Dense)             (None, 10)                110       \n",
            "_________________________________________________________________\n",
            "dense_20 (Dense)             (None, 4)                 44        \n",
            "=================================================================\n",
            "Total params: 329,316\n",
            "Trainable params: 329,316\n",
            "Non-trainable params: 0\n",
            "_________________________________________________________________\n",
            "Train on 604 samples\n",
            "Epoch 1/5\n",
            "604/604 [==============================] - 1s 2ms/sample - loss: 1.5820 - acc: 0.3295\n",
            "Epoch 2/5\n",
            "604/604 [==============================] - 0s 485us/sample - loss: 1.3677 - acc: 0.3179\n",
            "Epoch 3/5\n",
            "604/604 [==============================] - 0s 491us/sample - loss: 1.3459 - acc: 0.3444\n",
            "Epoch 4/5\n",
            "604/604 [==============================] - 0s 482us/sample - loss: 1.3057 - acc: 0.3477\n",
            "Epoch 5/5\n",
            "604/604 [==============================] - 0s 477us/sample - loss: 1.2776 - acc: 0.3940\n",
            "151/151 [==============================] - 0s 1ms/sample - loss: 1.2437 - acc: 0.3510\n",
            "loss= 1.243658602632434\n",
            "acc= 0.35099337\n"
          ],
          "name": "stdout"
        }
      ]
    },
    {
      "cell_type": "markdown",
      "metadata": {
        "id": "g_h8W_oHI_CZ",
        "colab_type": "text"
      },
      "source": [
        "### 컬러 모델"
      ]
    },
    {
      "cell_type": "code",
      "metadata": {
        "id": "Z-p1AcRT-IMJ",
        "colab_type": "code",
        "colab": {
          "base_uri": "https://localhost:8080/",
          "height": 70
        },
        "outputId": "7e685ea5-8565-4545-ca74-97442d13343c"
      },
      "source": [
        "print(trainX.shape)\n",
        "print(trainColorY.shape)\n",
        "print(COLOR_COUNT)"
      ],
      "execution_count": 48,
      "outputs": [
        {
          "output_type": "stream",
          "text": [
            "(604, 96, 96, 3)\n",
            "(604, 3)\n",
            "3\n"
          ],
          "name": "stdout"
        }
      ]
    },
    {
      "cell_type": "code",
      "metadata": {
        "id": "Qgm2tq2I-Sym",
        "colab_type": "code",
        "colab": {
          "base_uri": "https://localhost:8080/",
          "height": 692
        },
        "outputId": "825f0f0a-27de-4cac-9b01-b18e3a65f431"
      },
      "source": [
        "color_model = build_color_model()\n",
        "\n",
        "color_model.compile(optimizer=\"adam\", loss=\"categorical_crossentropy\", metrics=[\"accuracy\"])\n",
        "color_model.summary()\n",
        "\n",
        "\n",
        "color_model.fit(trainX, trainColorY, epochs=5, verbose=1, batch_size=128)\n",
        "\n",
        "\n",
        "loss, acc = color_model.evaluate(testX, testColorY)\n",
        "print(\"loss=\",loss)\n",
        "print(\"acc=\",acc)\n"
      ],
      "execution_count": 49,
      "outputs": [
        {
          "output_type": "stream",
          "text": [
            "Model: \"sequential_1\"\n",
            "_________________________________________________________________\n",
            "Layer (type)                 Output Shape              Param #   \n",
            "=================================================================\n",
            "conv2d_10 (Conv2D)           (None, 94, 94, 32)        896       \n",
            "_________________________________________________________________\n",
            "max_pooling2d_10 (MaxPooling (None, 47, 47, 32)        0         \n",
            "_________________________________________________________________\n",
            "conv2d_11 (Conv2D)           (None, 45, 45, 64)        18496     \n",
            "_________________________________________________________________\n",
            "max_pooling2d_11 (MaxPooling (None, 22, 22, 64)        0         \n",
            "_________________________________________________________________\n",
            "flatten_5 (Flatten)          (None, 30976)             0         \n",
            "_________________________________________________________________\n",
            "dense_21 (Dense)             (None, 10)                309770    \n",
            "_________________________________________________________________\n",
            "dense_22 (Dense)             (None, 10)                110       \n",
            "_________________________________________________________________\n",
            "dense_23 (Dense)             (None, 3)                 33        \n",
            "=================================================================\n",
            "Total params: 329,305\n",
            "Trainable params: 329,305\n",
            "Non-trainable params: 0\n",
            "_________________________________________________________________\n",
            "Train on 604 samples\n",
            "Epoch 1/5\n",
            "604/604 [==============================] - 0s 788us/sample - loss: 1.2898 - acc: 0.3626\n",
            "Epoch 2/5\n",
            "604/604 [==============================] - 0s 541us/sample - loss: 1.0158 - acc: 0.5050\n",
            "Epoch 3/5\n",
            "604/604 [==============================] - 0s 501us/sample - loss: 0.9143 - acc: 0.5762\n",
            "Epoch 4/5\n",
            "604/604 [==============================] - 0s 488us/sample - loss: 0.8259 - acc: 0.6010\n",
            "Epoch 5/5\n",
            "604/604 [==============================] - 0s 476us/sample - loss: 0.7414 - acc: 0.6142\n",
            "151/151 [==============================] - 0s 722us/sample - loss: 0.7159 - acc: 0.5960\n",
            "loss= 0.7159096128893214\n",
            "acc= 0.5960265\n"
          ],
          "name": "stdout"
        }
      ]
    },
    {
      "cell_type": "code",
      "metadata": {
        "id": "BlumccIP-YUu",
        "colab_type": "code",
        "colab": {}
      },
      "source": [
        ""
      ],
      "execution_count": null,
      "outputs": []
    },
    {
      "cell_type": "markdown",
      "metadata": {
        "id": "Z1fdpl5c-iW_",
        "colab_type": "text"
      },
      "source": [
        "## 다중 출력 모델로 학습 실행"
      ]
    },
    {
      "cell_type": "code",
      "metadata": {
        "id": "KOyQbsVo-ke8",
        "colab_type": "code",
        "colab": {}
      },
      "source": [
        "import numpy as np\n",
        "import matplotlib.pyplot as plt\n",
        "\n",
        "import tensorflow as tf\n",
        "from tensorflow import keras\n",
        "from tensorflow.keras import optimizers, Model\n",
        "from tensorflow.keras.layers import Dense, Flatten, Conv2D, MaxPooling2D, Input\n",
        "\n",
        "\n",
        "def build_category_branch(input):\n",
        "\n",
        "  x = Conv2D(32, (3, 3))(input)\n",
        "  x = MaxPooling2D((2, 2))(x)\n",
        "  x = Conv2D(64, (3, 3))(x)\n",
        "  x = MaxPooling2D((2, 2))(x)\n",
        "  x = Flatten()(x)\n",
        "  x = Dense(10, activation='relu')(x)\n",
        "  x = Dense(10, activation='relu')(x)\n",
        "  x = Dense(CATEGORY_COUNT, activation='softmax', name='category_output')(x)\n",
        "\n",
        "  return x\n",
        "\n",
        "def build_color_branch(input):\n",
        "\n",
        "  x = Conv2D(32, (3, 3))(input)\n",
        "  x = MaxPooling2D((2, 2))(x)\n",
        "  x = Conv2D(64, (3, 3))(x)\n",
        "  x = MaxPooling2D((2, 2))(x)\n",
        "  x = Flatten()(x)\n",
        "  x = Dense(10, activation='relu')(x)\n",
        "  x = Dense(10, activation='relu')(x)\n",
        "  x = Dense(COLOR_COUNT, activation='softmax', name='color_output')(x)\n",
        "\n",
        "  return x"
      ],
      "execution_count": 50,
      "outputs": []
    },
    {
      "cell_type": "code",
      "metadata": {
        "id": "49vnw8ZSAEYN",
        "colab_type": "code",
        "colab": {
          "base_uri": "https://localhost:8080/",
          "height": 764
        },
        "outputId": "91390bf4-6c22-4810-fdc9-0e4cb09e712a"
      },
      "source": [
        "input = Input(IMAGE_DIMS)\n",
        "\n",
        "category_output = build_category_branch(input)\n",
        "color_output = build_color_branch(input)\n",
        "\n",
        "multi_output_model = Model(input, [category_output, color_output])\n",
        "\n",
        "multi_output_model.summary()"
      ],
      "execution_count": 51,
      "outputs": [
        {
          "output_type": "stream",
          "text": [
            "Model: \"model_5\"\n",
            "__________________________________________________________________________________________________\n",
            "Layer (type)                    Output Shape         Param #     Connected to                     \n",
            "==================================================================================================\n",
            "input_9 (InputLayer)            [(None, 96, 96, 3)]  0                                            \n",
            "__________________________________________________________________________________________________\n",
            "conv2d_12 (Conv2D)              (None, 94, 94, 32)   896         input_9[0][0]                    \n",
            "__________________________________________________________________________________________________\n",
            "conv2d_14 (Conv2D)              (None, 94, 94, 32)   896         input_9[0][0]                    \n",
            "__________________________________________________________________________________________________\n",
            "max_pooling2d_12 (MaxPooling2D) (None, 47, 47, 32)   0           conv2d_12[0][0]                  \n",
            "__________________________________________________________________________________________________\n",
            "max_pooling2d_14 (MaxPooling2D) (None, 47, 47, 32)   0           conv2d_14[0][0]                  \n",
            "__________________________________________________________________________________________________\n",
            "conv2d_13 (Conv2D)              (None, 45, 45, 64)   18496       max_pooling2d_12[0][0]           \n",
            "__________________________________________________________________________________________________\n",
            "conv2d_15 (Conv2D)              (None, 45, 45, 64)   18496       max_pooling2d_14[0][0]           \n",
            "__________________________________________________________________________________________________\n",
            "max_pooling2d_13 (MaxPooling2D) (None, 22, 22, 64)   0           conv2d_13[0][0]                  \n",
            "__________________________________________________________________________________________________\n",
            "max_pooling2d_15 (MaxPooling2D) (None, 22, 22, 64)   0           conv2d_15[0][0]                  \n",
            "__________________________________________________________________________________________________\n",
            "flatten_6 (Flatten)             (None, 30976)        0           max_pooling2d_13[0][0]           \n",
            "__________________________________________________________________________________________________\n",
            "flatten_7 (Flatten)             (None, 30976)        0           max_pooling2d_15[0][0]           \n",
            "__________________________________________________________________________________________________\n",
            "dense_24 (Dense)                (None, 10)           309770      flatten_6[0][0]                  \n",
            "__________________________________________________________________________________________________\n",
            "dense_26 (Dense)                (None, 10)           309770      flatten_7[0][0]                  \n",
            "__________________________________________________________________________________________________\n",
            "dense_25 (Dense)                (None, 10)           110         dense_24[0][0]                   \n",
            "__________________________________________________________________________________________________\n",
            "dense_27 (Dense)                (None, 10)           110         dense_26[0][0]                   \n",
            "__________________________________________________________________________________________________\n",
            "category_output (Dense)         (None, 4)            44          dense_25[0][0]                   \n",
            "__________________________________________________________________________________________________\n",
            "color_output (Dense)            (None, 3)            33          dense_27[0][0]                   \n",
            "==================================================================================================\n",
            "Total params: 658,621\n",
            "Trainable params: 658,621\n",
            "Non-trainable params: 0\n",
            "__________________________________________________________________________________________________\n"
          ],
          "name": "stdout"
        }
      ]
    },
    {
      "cell_type": "code",
      "metadata": {
        "id": "SftqPQsKAHCU",
        "colab_type": "code",
        "colab": {
          "base_uri": "https://localhost:8080/",
          "height": 250
        },
        "outputId": "691d37ed-94e5-4688-ea3c-e5763be9c6ff"
      },
      "source": [
        "losses = { \"category_output\":\"categorical_crossentropy\", \"color_output\":\"categorical_crossentropy\"} #모델에서 define 해준 이름\n",
        "loss_weights = { \"category_output\":1.0, \"color_output\":1.0}\n",
        "\n",
        "# color_model.compile(optimizer=\"adam\", loss=\"categorical_crossentropy\", metrics=[\"accuracy\"])\n",
        "multi_output_model.compile(optimizer=\"adam\", loss=losses, loss_weights=loss_weights, metrics=[\"accuracy\"])\n",
        "\n",
        "\n",
        "# color_model.fit(trainX, trainColorY, epochs=5, verbose=1, batch_size=128)\n",
        "multi_output_model.fit(trainX, {\"category_output\":trainCategoryY, \"color_output\":trainColorY}, epochs=5, verbose=1, batch_size=128)"
      ],
      "execution_count": 52,
      "outputs": [
        {
          "output_type": "stream",
          "text": [
            "Train on 604 samples\n",
            "Epoch 1/5\n",
            "604/604 [==============================] - 1s 1ms/sample - loss: 2.7008 - category_output_loss: 1.4760 - color_output_loss: 1.2068 - category_output_acc: 0.3013 - color_output_acc: 0.4570\n",
            "Epoch 2/5\n",
            "604/604 [==============================] - 1s 838us/sample - loss: 2.1417 - category_output_loss: 1.2778 - color_output_loss: 0.8554 - category_output_acc: 0.3775 - color_output_acc: 0.6076\n",
            "Epoch 3/5\n",
            "604/604 [==============================] - 0s 816us/sample - loss: 1.4901 - category_output_loss: 1.0543 - color_output_loss: 0.4328 - category_output_acc: 0.5050 - color_output_acc: 0.7268\n",
            "Epoch 4/5\n",
            "604/604 [==============================] - 0s 817us/sample - loss: 1.2367 - category_output_loss: 0.8952 - color_output_loss: 0.3298 - category_output_acc: 0.5844 - color_output_acc: 0.8212\n",
            "Epoch 5/5\n",
            "604/604 [==============================] - 0s 810us/sample - loss: 1.0634 - category_output_loss: 0.7912 - color_output_loss: 0.2648 - category_output_acc: 0.6755 - color_output_acc: 0.8609\n"
          ],
          "name": "stdout"
        },
        {
          "output_type": "execute_result",
          "data": {
            "text/plain": [
              "<tensorflow.python.keras.callbacks.History at 0x7f69676a3b70>"
            ]
          },
          "metadata": {
            "tags": []
          },
          "execution_count": 52
        }
      ]
    },
    {
      "cell_type": "code",
      "metadata": {
        "id": "NHH3al7zB4uK",
        "colab_type": "code",
        "colab": {
          "base_uri": "https://localhost:8080/",
          "height": 144
        },
        "outputId": "747fa3b5-b507-4c53-aaf8-9ec82050ee25"
      },
      "source": [
        "loss, category_loss, color_loss, category_acc, color_acc = multi_output_model.evaluate(testX, {\"category_output\":testCategoryY, \"color_output\":testColorY})\n",
        "print(\"loss=\",loss)\n",
        "print(\"categoyr_loss=\", category_loss)\n",
        "print(\"color_loss=\", color_loss)\n",
        "print(\"category_acc=\", category_acc)\n",
        "print(\"color_acc=\", color_acc)"
      ],
      "execution_count": 53,
      "outputs": [
        {
          "output_type": "stream",
          "text": [
            "151/151 [==============================] - 0s 1ms/sample - loss: 1.0310 - category_output_loss: 0.7662 - color_output_loss: 0.2635 - category_output_acc: 0.6225 - color_output_acc: 0.8609\n",
            "loss= 1.0310248957564498\n",
            "categoyr_loss= 0.7661644\n",
            "color_loss= 0.2635234\n",
            "category_acc= 0.6225166\n",
            "color_acc= 0.86092716\n"
          ],
          "name": "stdout"
        }
      ]
    },
    {
      "cell_type": "code",
      "metadata": {
        "id": "nGPuLHteCIso",
        "colab_type": "code",
        "colab": {}
      },
      "source": [
        ""
      ],
      "execution_count": null,
      "outputs": []
    }
  ]
}