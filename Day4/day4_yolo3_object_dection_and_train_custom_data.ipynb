{
  "nbformat": 4,
  "nbformat_minor": 0,
  "metadata": {
    "colab": {
      "name": "yolo3_object_dection_and_train_custom_data.ipynb",
      "provenance": [],
      "toc_visible": true,
      "machine_shape": "hm"
    },
    "kernelspec": {
      "name": "python3",
      "display_name": "Python 3"
    },
    "accelerator": "GPU"
  },
  "cells": [
    {
      "cell_type": "markdown",
      "metadata": {
        "id": "yX78UCk3y6kn",
        "colab_type": "text"
      },
      "source": [
        "based on https://github.com/experiencor/keras-yolo3"
      ]
    },
    {
      "cell_type": "markdown",
      "metadata": {
        "id": "VjIVtPqO0bfj",
        "colab_type": "text"
      },
      "source": [
        "# 설치"
      ]
    },
    {
      "cell_type": "markdown",
      "metadata": {
        "id": "RjicytgqzS44",
        "colab_type": "text"
      },
      "source": [
        "## tensorlfow 1.x 사용 설정"
      ]
    },
    {
      "cell_type": "code",
      "metadata": {
        "id": "RbbFAxbFzR-2",
        "colab_type": "code",
        "colab": {
          "base_uri": "https://localhost:8080/",
          "height": 35
        },
        "outputId": "76f0ef8a-a807-4547-9e18-3040a40cce66"
      },
      "source": [
        "%tensorflow_version 1.x"
      ],
      "execution_count": 1,
      "outputs": [
        {
          "output_type": "stream",
          "text": [
            "TensorFlow 1.x selected.\n"
          ],
          "name": "stdout"
        }
      ]
    },
    {
      "cell_type": "markdown",
      "metadata": {
        "id": "2p3P2_UJzV4S",
        "colab_type": "text"
      },
      "source": [
        "## 프로젝트 다운로드"
      ]
    },
    {
      "cell_type": "code",
      "metadata": {
        "id": "kkv9loXTy0qw",
        "colab_type": "code",
        "colab": {
          "base_uri": "https://localhost:8080/",
          "height": 106
        },
        "outputId": "e09a2b3d-4c5c-42ad-93ba-da3cfead9810"
      },
      "source": [
        "!rm -rf keras-yolo3\n",
        "!git clone https://github.com/experiencor/keras-yolo3"
      ],
      "execution_count": 2,
      "outputs": [
        {
          "output_type": "stream",
          "text": [
            "Cloning into 'keras-yolo3'...\n",
            "remote: Enumerating objects: 220, done.\u001b[K\n",
            "remote: Total 220 (delta 0), reused 0 (delta 0), pack-reused 220\u001b[K\n",
            "Receiving objects: 100% (220/220), 91.27 KiB | 258.00 KiB/s, done.\n",
            "Resolving deltas: 100% (118/118), done.\n"
          ],
          "name": "stdout"
        }
      ]
    },
    {
      "cell_type": "code",
      "metadata": {
        "id": "3-bdG9gVy3Eb",
        "colab_type": "code",
        "colab": {
          "base_uri": "https://localhost:8080/",
          "height": 35
        },
        "outputId": "1341ec21-4930-41ed-ea01-b242cb46c6e4"
      },
      "source": [
        "%cd keras-yolo3"
      ],
      "execution_count": 3,
      "outputs": [
        {
          "output_type": "stream",
          "text": [
            "/content/keras-yolo3\n"
          ],
          "name": "stdout"
        }
      ]
    },
    {
      "cell_type": "markdown",
      "metadata": {
        "id": "85MevrMAzYlG",
        "colab_type": "text"
      },
      "source": [
        "## 필요 라이브러리 설치"
      ]
    },
    {
      "cell_type": "code",
      "metadata": {
        "id": "p3P7HxKty-TT",
        "colab_type": "code",
        "colab": {
          "base_uri": "https://localhost:8080/",
          "height": 1000
        },
        "outputId": "2e86064e-4a73-4ac9-aad2-b621443b28c5"
      },
      "source": [
        "!pip install -r requirements.txt"
      ],
      "execution_count": 4,
      "outputs": [
        {
          "output_type": "stream",
          "text": [
            "Requirement already satisfied: absl-py==0.9.0 in /usr/local/lib/python3.6/dist-packages (from -r requirements.txt (line 1)) (0.9.0)\n",
            "Requirement already satisfied: astor==0.8.1 in /usr/local/lib/python3.6/dist-packages (from -r requirements.txt (line 2)) (0.8.1)\n",
            "Collecting gast==0.2.2\n",
            "  Downloading https://files.pythonhosted.org/packages/4e/35/11749bf99b2d4e3cceb4d55ca22590b0d7c2c62b9de38ac4a4a7f4687421/gast-0.2.2.tar.gz\n",
            "Collecting google-pasta==0.1.8\n",
            "\u001b[?25l  Downloading https://files.pythonhosted.org/packages/c3/fd/1e86bc4837cc9a3a5faf3db9b1854aa04ad35b5f381f9648fbe81a6f94e4/google_pasta-0.1.8-py3-none-any.whl (57kB)\n",
            "\u001b[K     |████████████████████████████████| 61kB 2.9MB/s \n",
            "\u001b[?25hCollecting grpcio==1.26.0\n",
            "\u001b[?25l  Downloading https://files.pythonhosted.org/packages/17/8f/f79c5c174bebece41f824dd7b1ba98da45dc2d4c373b38ac6a7f6a5acb5e/grpcio-1.26.0-cp36-cp36m-manylinux2010_x86_64.whl (2.4MB)\n",
            "\u001b[K     |████████████████████████████████| 2.4MB 8.0MB/s \n",
            "\u001b[?25hRequirement already satisfied: h5py==2.10.0 in /usr/local/lib/python3.6/dist-packages (from -r requirements.txt (line 6)) (2.10.0)\n",
            "Requirement already satisfied: Keras==2.3.1 in /usr/local/lib/python3.6/dist-packages (from -r requirements.txt (line 7)) (2.3.1)\n",
            "Requirement already satisfied: Keras-Applications==1.0.8 in /usr/local/lib/python3.6/dist-packages (from -r requirements.txt (line 8)) (1.0.8)\n",
            "Collecting Keras-Preprocessing==1.1.0\n",
            "\u001b[?25l  Downloading https://files.pythonhosted.org/packages/28/6a/8c1f62c37212d9fc441a7e26736df51ce6f0e38455816445471f10da4f0a/Keras_Preprocessing-1.1.0-py2.py3-none-any.whl (41kB)\n",
            "\u001b[K     |████████████████████████████████| 51kB 8.1MB/s \n",
            "\u001b[?25hCollecting Markdown==3.1.1\n",
            "\u001b[?25l  Downloading https://files.pythonhosted.org/packages/c0/4e/fd492e91abdc2d2fcb70ef453064d980688762079397f779758e055f6575/Markdown-3.1.1-py2.py3-none-any.whl (87kB)\n",
            "\u001b[K     |████████████████████████████████| 92kB 11.2MB/s \n",
            "\u001b[?25hCollecting numpy==1.18.1\n",
            "\u001b[?25l  Downloading https://files.pythonhosted.org/packages/62/20/4d43e141b5bc426ba38274933ef8e76e85c7adea2c321ecf9ebf7421cedf/numpy-1.18.1-cp36-cp36m-manylinux1_x86_64.whl (20.1MB)\n",
            "\u001b[K     |████████████████████████████████| 20.2MB 1.3MB/s \n",
            "\u001b[?25hRequirement already satisfied: opencv-contrib-python==4.1.2.30 in /usr/local/lib/python3.6/dist-packages (from -r requirements.txt (line 12)) (4.1.2.30)\n",
            "Collecting opt-einsum==3.1.0\n",
            "\u001b[?25l  Downloading https://files.pythonhosted.org/packages/b8/83/755bd5324777875e9dff19c2e59daec837d0378c09196634524a3d7269ac/opt_einsum-3.1.0.tar.gz (69kB)\n",
            "\u001b[K     |████████████████████████████████| 71kB 7.8MB/s \n",
            "\u001b[?25hCollecting protobuf==3.11.2\n",
            "\u001b[?25l  Downloading https://files.pythonhosted.org/packages/ca/ac/838c8c8a5f33a58132dd2ad2a30329f6ae1614a9f56ffb79eaaf71a9d156/protobuf-3.11.2-cp36-cp36m-manylinux1_x86_64.whl (1.3MB)\n",
            "\u001b[K     |████████████████████████████████| 1.3MB 55.4MB/s \n",
            "\u001b[?25hCollecting PyYAML==5.3\n",
            "\u001b[?25l  Downloading https://files.pythonhosted.org/packages/3d/d9/ea9816aea31beeadccd03f1f8b625ecf8f645bd66744484d162d84803ce5/PyYAML-5.3.tar.gz (268kB)\n",
            "\u001b[K     |████████████████████████████████| 276kB 58.9MB/s \n",
            "\u001b[?25hRequirement already satisfied: scipy==1.4.1 in /usr/local/lib/python3.6/dist-packages (from -r requirements.txt (line 16)) (1.4.1)\n",
            "Collecting six==1.14.0\n",
            "  Downloading https://files.pythonhosted.org/packages/65/eb/1f97cb97bfc2390a276969c6fae16075da282f5058082d4cb10c6c5c1dba/six-1.14.0-py2.py3-none-any.whl\n",
            "Requirement already satisfied: tensorboard==1.15.0 in /tensorflow-1.15.2/python3.6 (from -r requirements.txt (line 18)) (1.15.0)\n",
            "Collecting tensorflow==1.15.0\n",
            "\u001b[?25l  Downloading https://files.pythonhosted.org/packages/3f/98/5a99af92fb911d7a88a0005ad55005f35b4c1ba8d75fba02df726cd936e6/tensorflow-1.15.0-cp36-cp36m-manylinux2010_x86_64.whl (412.3MB)\n",
            "\u001b[K     |████████████████████████████████| 412.3MB 35kB/s \n",
            "\u001b[?25hRequirement already satisfied: tensorflow-estimator==1.15.1 in /tensorflow-1.15.2/python3.6 (from -r requirements.txt (line 20)) (1.15.1)\n",
            "Requirement already satisfied: termcolor==1.1.0 in /usr/local/lib/python3.6/dist-packages (from -r requirements.txt (line 21)) (1.1.0)\n",
            "Requirement already satisfied: tqdm==4.41.1 in /usr/local/lib/python3.6/dist-packages (from -r requirements.txt (line 22)) (4.41.1)\n",
            "Collecting Werkzeug==0.16.0\n",
            "\u001b[?25l  Downloading https://files.pythonhosted.org/packages/ce/42/3aeda98f96e85fd26180534d36570e4d18108d62ae36f87694b476b83d6f/Werkzeug-0.16.0-py2.py3-none-any.whl (327kB)\n",
            "\u001b[K     |████████████████████████████████| 327kB 36.7MB/s \n",
            "\u001b[?25hCollecting wrapt==1.11.2\n",
            "  Downloading https://files.pythonhosted.org/packages/23/84/323c2415280bc4fc880ac5050dddfb3c8062c2552b34c2e512eb4aa68f79/wrapt-1.11.2.tar.gz\n",
            "Requirement already satisfied: setuptools>=36 in /usr/local/lib/python3.6/dist-packages (from Markdown==3.1.1->-r requirements.txt (line 10)) (47.3.1)\n",
            "Requirement already satisfied: wheel>=0.26; python_version >= \"3\" in /usr/local/lib/python3.6/dist-packages (from tensorboard==1.15.0->-r requirements.txt (line 18)) (0.34.2)\n",
            "Building wheels for collected packages: gast, opt-einsum, PyYAML, wrapt\n",
            "  Building wheel for gast (setup.py) ... \u001b[?25l\u001b[?25hdone\n",
            "  Created wheel for gast: filename=gast-0.2.2-cp36-none-any.whl size=7540 sha256=35d13be303d267957898ad37b9decc3395c9aecd6b9698d6e62db67d77632a18\n",
            "  Stored in directory: /root/.cache/pip/wheels/5c/2e/7e/a1d4d4fcebe6c381f378ce7743a3ced3699feb89bcfbdadadd\n",
            "  Building wheel for opt-einsum (setup.py) ... \u001b[?25l\u001b[?25hdone\n",
            "  Created wheel for opt-einsum: filename=opt_einsum-3.1.0-cp36-none-any.whl size=61682 sha256=7bd12cb0ee9dc4971b9530cb8d7322097bd9c745e2d7a19963bac70bb98aec81\n",
            "  Stored in directory: /root/.cache/pip/wheels/2c/b1/94/43d03e130b929aae7ba3f8d15cbd7bc0d1cb5bb38a5c721833\n",
            "  Building wheel for PyYAML (setup.py) ... \u001b[?25l\u001b[?25hdone\n",
            "  Created wheel for PyYAML: filename=PyYAML-5.3-cp36-cp36m-linux_x86_64.whl size=44229 sha256=7b9fd3ff191cb4bb100d9856bb4dee02564c22e3682928284c9055030198fa13\n",
            "  Stored in directory: /root/.cache/pip/wheels/e4/76/4d/a95b8dd7b452b69e8ed4f68b69e1b55e12c9c9624dd962b191\n",
            "  Building wheel for wrapt (setup.py) ... \u001b[?25l\u001b[?25hdone\n",
            "  Created wheel for wrapt: filename=wrapt-1.11.2-cp36-cp36m-linux_x86_64.whl size=67521 sha256=b33756a58ff89822154c3453577fe1bd3e103c1c073d6686dcc6dbbd5a42b7ac\n",
            "  Stored in directory: /root/.cache/pip/wheels/d7/de/2e/efa132238792efb6459a96e85916ef8597fcb3d2ae51590dfd\n",
            "Successfully built gast opt-einsum PyYAML wrapt\n",
            "\u001b[31mERROR: google-colab 1.0.0 has requirement six~=1.12.0, but you'll have six 1.14.0 which is incompatible.\u001b[0m\n",
            "\u001b[31mERROR: datascience 0.10.6 has requirement folium==0.2.1, but you'll have folium 0.8.3 which is incompatible.\u001b[0m\n",
            "\u001b[31mERROR: albumentations 0.1.12 has requirement imgaug<0.2.7,>=0.2.5, but you'll have imgaug 0.2.9 which is incompatible.\u001b[0m\n",
            "Installing collected packages: gast, six, google-pasta, grpcio, numpy, Keras-Preprocessing, Markdown, opt-einsum, protobuf, PyYAML, wrapt, tensorflow, Werkzeug\n",
            "  Found existing installation: gast 0.3.3\n",
            "    Uninstalling gast-0.3.3:\n",
            "      Successfully uninstalled gast-0.3.3\n",
            "  Found existing installation: six 1.12.0\n",
            "    Uninstalling six-1.12.0:\n",
            "      Successfully uninstalled six-1.12.0\n",
            "  Found existing installation: google-pasta 0.2.0\n",
            "    Uninstalling google-pasta-0.2.0:\n",
            "      Successfully uninstalled google-pasta-0.2.0\n",
            "  Found existing installation: grpcio 1.29.0\n",
            "    Uninstalling grpcio-1.29.0:\n",
            "      Successfully uninstalled grpcio-1.29.0\n",
            "  Found existing installation: numpy 1.18.5\n",
            "    Uninstalling numpy-1.18.5:\n",
            "      Successfully uninstalled numpy-1.18.5\n",
            "  Found existing installation: Keras-Preprocessing 1.1.2\n",
            "    Uninstalling Keras-Preprocessing-1.1.2:\n",
            "      Successfully uninstalled Keras-Preprocessing-1.1.2\n",
            "  Found existing installation: Markdown 3.2.2\n",
            "    Uninstalling Markdown-3.2.2:\n",
            "      Successfully uninstalled Markdown-3.2.2\n",
            "  Found existing installation: opt-einsum 3.2.1\n",
            "    Uninstalling opt-einsum-3.2.1:\n",
            "      Successfully uninstalled opt-einsum-3.2.1\n",
            "  Found existing installation: protobuf 3.10.0\n",
            "    Uninstalling protobuf-3.10.0:\n",
            "      Successfully uninstalled protobuf-3.10.0\n",
            "  Found existing installation: PyYAML 3.13\n",
            "    Uninstalling PyYAML-3.13:\n",
            "      Successfully uninstalled PyYAML-3.13\n",
            "  Found existing installation: wrapt 1.12.1\n",
            "    Uninstalling wrapt-1.12.1:\n",
            "      Successfully uninstalled wrapt-1.12.1\n",
            "  Found existing installation: tensorflow 1.15.2\n",
            "    Uninstalling tensorflow-1.15.2:\n",
            "      Successfully uninstalled tensorflow-1.15.2\n",
            "  Found existing installation: Werkzeug 1.0.1\n",
            "    Uninstalling Werkzeug-1.0.1:\n",
            "      Successfully uninstalled Werkzeug-1.0.1\n",
            "Successfully installed Keras-Preprocessing-1.1.0 Markdown-3.1.1 PyYAML-5.3 Werkzeug-0.16.0 gast-0.2.2 google-pasta-0.1.8 grpcio-1.26.0 numpy-1.18.1 opt-einsum-3.1.0 protobuf-3.11.2 six-1.14.0 tensorflow-2.2.0 wrapt-1.11.2\n"
          ],
          "name": "stdout"
        },
        {
          "output_type": "display_data",
          "data": {
            "application/vnd.colab-display-data+json": {
              "pip_warning": {
                "packages": [
                  "google",
                  "grpc",
                  "numpy",
                  "six"
                ]
              }
            }
          },
          "metadata": {
            "tags": []
          }
        }
      ]
    },
    {
      "cell_type": "markdown",
      "metadata": {
        "id": "dZSmKvPJzoBQ",
        "colab_type": "text"
      },
      "source": [
        "## 모델 파일 다운로드"
      ]
    },
    {
      "cell_type": "code",
      "metadata": {
        "id": "hVV9tfV3zAkE",
        "colab_type": "code",
        "colab": {
          "base_uri": "https://localhost:8080/",
          "height": 212
        },
        "outputId": "ce630022-6b2d-48e2-84cb-55949eaf3f0b"
      },
      "source": [
        "!wget https://pjreddie.com/media/files/yolov3.weights"
      ],
      "execution_count": 5,
      "outputs": [
        {
          "output_type": "stream",
          "text": [
            "--2020-06-24 04:25:25--  https://pjreddie.com/media/files/yolov3.weights\n",
            "Resolving pjreddie.com (pjreddie.com)... 128.208.4.108\n",
            "Connecting to pjreddie.com (pjreddie.com)|128.208.4.108|:443... connected.\n",
            "HTTP request sent, awaiting response... 200 OK\n",
            "Length: 248007048 (237M) [application/octet-stream]\n",
            "Saving to: ‘yolov3.weights’\n",
            "\n",
            "yolov3.weights      100%[===================>] 236.52M   526KB/s    in 9m 28s  \n",
            "\n",
            "2020-06-24 04:34:55 (426 KB/s) - ‘yolov3.weights’ saved [248007048/248007048]\n",
            "\n"
          ],
          "name": "stdout"
        }
      ]
    },
    {
      "cell_type": "markdown",
      "metadata": {
        "id": "cgOD_AVl0hwP",
        "colab_type": "text"
      },
      "source": [
        "# 탐지"
      ]
    },
    {
      "cell_type": "markdown",
      "metadata": {
        "id": "VPLmm-qk0XFV",
        "colab_type": "text"
      },
      "source": [
        "## 대상 이미지 다운로드"
      ]
    },
    {
      "cell_type": "code",
      "metadata": {
        "id": "VAf8u0tP0HTV",
        "colab_type": "code",
        "colab": {
          "base_uri": "https://localhost:8080/",
          "height": 232
        },
        "outputId": "4fcd115e-76b7-4e33-fa83-4d9644e2d74d"
      },
      "source": [
        "!wget -O dog.jpg https://images.squarespace-cdn.com/content/v1/5894986a3e00bef5fa22310e/1570645718385-TMKO7NQKTKMHSGOZ1NKL/ke17ZwdGBToddI8pDm48kP9Invdr3s9hbtnv5vHbyzt7gQa3H78H3Y0txjaiv_0fDoOvxcdMmMKkDsyUqMSsMWxHk725yiiHCCLfrh8O1z5QPOohDIaIeljMHgDF5CVlOqpeNLcJ80NK65_fV7S1UTG8VVHpRe-xI0OO_s6cEC9VLEx2PmUh6Z7HRdaNSVcy1BwhnUnKb_77tZJ4rR3HLQ/golden+huggs.jpg?format=400w"
      ],
      "execution_count": 6,
      "outputs": [
        {
          "output_type": "stream",
          "text": [
            "--2020-06-24 04:36:58--  https://images.squarespace-cdn.com/content/v1/5894986a3e00bef5fa22310e/1570645718385-TMKO7NQKTKMHSGOZ1NKL/ke17ZwdGBToddI8pDm48kP9Invdr3s9hbtnv5vHbyzt7gQa3H78H3Y0txjaiv_0fDoOvxcdMmMKkDsyUqMSsMWxHk725yiiHCCLfrh8O1z5QPOohDIaIeljMHgDF5CVlOqpeNLcJ80NK65_fV7S1UTG8VVHpRe-xI0OO_s6cEC9VLEx2PmUh6Z7HRdaNSVcy1BwhnUnKb_77tZJ4rR3HLQ/golden+huggs.jpg?format=400w\n",
            "Resolving images.squarespace-cdn.com (images.squarespace-cdn.com)... 151.101.0.238, 151.101.64.238, 151.101.128.238, ...\n",
            "Connecting to images.squarespace-cdn.com (images.squarespace-cdn.com)|151.101.0.238|:443... connected.\n",
            "HTTP request sent, awaiting response... 200 OK\n",
            "Length: 57764 (56K) [image/jpeg]\n",
            "Saving to: ‘dog.jpg’\n",
            "\n",
            "\rdog.jpg               0%[                    ]       0  --.-KB/s               \rdog.jpg             100%[===================>]  56.41K  --.-KB/s    in 0.03s   \n",
            "\n",
            "2020-06-24 04:36:58 (2.02 MB/s) - ‘dog.jpg’ saved [57764/57764]\n",
            "\n"
          ],
          "name": "stdout"
        }
      ]
    },
    {
      "cell_type": "code",
      "metadata": {
        "id": "CIGMFg3UAqUR",
        "colab_type": "code",
        "colab": {
          "base_uri": "https://localhost:8080/",
          "height": 300
        },
        "outputId": "b2ce9866-aea3-49de-b174-90ebdca286e7"
      },
      "source": [
        "from IPython.display import Image, display\n",
        "display(Image('dog.jpg'))"
      ],
      "execution_count": 7,
      "outputs": [
        {
          "output_type": "display_data",
          "data": {
            "image/jpeg": "[encoded data removed]",
            "text/plain": [
              "<IPython.core.display.Image object>"
            ]
          },
          "metadata": {
            "tags": []
          }
        }
      ]
    },
    {
      "cell_type": "markdown",
      "metadata": {
        "id": "1kotcyId1t8E",
        "colab_type": "text"
      },
      "source": [
        "## 버그 픽스\n",
        "\n",
        "from https://github.com/experiencor/keras-yolo3/issues/203\n",
        "\n",
        "다음 라인을 커멘트 처리.\n",
        "```\n",
        "np.set_printoptions(threshold=np.nan)\n",
        "```"
      ]
    },
    {
      "cell_type": "code",
      "metadata": {
        "id": "Whf1gwgg20YW",
        "colab_type": "code",
        "colab": {}
      },
      "source": [
        "!sed -i 's/np\\.set_printoptions/\\#np\\.set_printoptions/g' yolo3_one_file_to_detect_them_all.py"
      ],
      "execution_count": 8,
      "outputs": []
    },
    {
      "cell_type": "code",
      "metadata": {
        "id": "ZRmwcE6M4v7t",
        "colab_type": "code",
        "colab": {
          "base_uri": "https://localhost:8080/",
          "height": 372
        },
        "outputId": "94a86704-4d40-4187-fee3-1045949d4027"
      },
      "source": [
        "!head -20 yolo3_one_file_to_detect_them_all.py"
      ],
      "execution_count": 9,
      "outputs": [
        {
          "output_type": "stream",
          "text": [
            "import argparse\n",
            "import os\n",
            "import numpy as np\n",
            "from keras.layers import Conv2D, Input, BatchNormalization, LeakyReLU, ZeroPadding2D, UpSampling2D\n",
            "from keras.layers.merge import add, concatenate\n",
            "from keras.models import Model\n",
            "import struct\n",
            "import cv2\n",
            "\n",
            "#np.set_printoptions(threshold=np.nan)\n",
            "os.environ[\"CUDA_DEVICE_ORDER\"]=\"PCI_BUS_ID\"\n",
            "os.environ[\"CUDA_VISIBLE_DEVICES\"]=\"0\"\n",
            "\n",
            "argparser = argparse.ArgumentParser(\n",
            "    description='test yolov3 network with coco weights')\n",
            "\n",
            "argparser.add_argument(\n",
            "    '-w',\n",
            "    '--weights',\n",
            "    help='path to weights file')\n"
          ],
          "name": "stdout"
        }
      ]
    },
    {
      "cell_type": "markdown",
      "metadata": {
        "id": "qesJLquHzuva",
        "colab_type": "text"
      },
      "source": [
        "## 탐지 실행"
      ]
    },
    {
      "cell_type": "code",
      "metadata": {
        "id": "JYDctF3mzth4",
        "colab_type": "code",
        "colab": {
          "base_uri": "https://localhost:8080/",
          "height": 1000
        },
        "outputId": "1a137df6-6727-4461-bc54-6542be3e8c33"
      },
      "source": [
        "!python yolo3_one_file_to_detect_them_all.py -w yolov3.weights -i dog.jpg"
      ],
      "execution_count": 10,
      "outputs": [
        {
          "output_type": "stream",
          "text": [
            "Using TensorFlow backend.\n",
            "WARNING:tensorflow:From /usr/local/lib/python3.6/dist-packages/tensorflow_core/python/ops/resource_variable_ops.py:1630: calling BaseResourceVariable.__init__ (from tensorflow.python.ops.resource_variable_ops) with constraint is deprecated and will be removed in a future version.\n",
            "Instructions for updating:\n",
            "If using Keras pass *_constraint arguments to layers.\n",
            "2020-06-24 04:37:50.893534: I tensorflow/stream_executor/platform/default/dso_loader.cc:44] Successfully opened dynamic library libcuda.so.1\n",
            "2020-06-24 04:37:50.940411: I tensorflow/stream_executor/cuda/cuda_gpu_executor.cc:983] successful NUMA node read from SysFS had negative value (-1), but there must be at least one NUMA node, so returning NUMA node zero\n",
            "2020-06-24 04:37:50.940957: I tensorflow/core/common_runtime/gpu/gpu_device.cc:1618] Found device 0 with properties: \n",
            "name: Tesla P100-PCIE-16GB major: 6 minor: 0 memoryClockRate(GHz): 1.3285\n",
            "pciBusID: 0000:00:04.0\n",
            "2020-06-24 04:37:50.959427: I tensorflow/stream_executor/platform/default/dso_loader.cc:44] Successfully opened dynamic library libcudart.so.10.0\n",
            "2020-06-24 04:37:51.175951: I tensorflow/stream_executor/platform/default/dso_loader.cc:44] Successfully opened dynamic library libcublas.so.10.0\n",
            "2020-06-24 04:37:51.265064: I tensorflow/stream_executor/platform/default/dso_loader.cc:44] Successfully opened dynamic library libcufft.so.10.0\n",
            "2020-06-24 04:37:51.290911: I tensorflow/stream_executor/platform/default/dso_loader.cc:44] Successfully opened dynamic library libcurand.so.10.0\n",
            "2020-06-24 04:37:51.528393: I tensorflow/stream_executor/platform/default/dso_loader.cc:44] Successfully opened dynamic library libcusolver.so.10.0\n",
            "2020-06-24 04:37:51.677529: I tensorflow/stream_executor/platform/default/dso_loader.cc:44] Successfully opened dynamic library libcusparse.so.10.0\n",
            "2020-06-24 04:37:52.199193: I tensorflow/stream_executor/platform/default/dso_loader.cc:44] Successfully opened dynamic library libcudnn.so.7\n",
            "2020-06-24 04:37:52.199378: I tensorflow/stream_executor/cuda/cuda_gpu_executor.cc:983] successful NUMA node read from SysFS had negative value (-1), but there must be at least one NUMA node, so returning NUMA node zero\n",
            "2020-06-24 04:37:52.199970: I tensorflow/stream_executor/cuda/cuda_gpu_executor.cc:983] successful NUMA node read from SysFS had negative value (-1), but there must be at least one NUMA node, so returning NUMA node zero\n",
            "2020-06-24 04:37:52.200480: I tensorflow/core/common_runtime/gpu/gpu_device.cc:1746] Adding visible gpu devices: 0\n",
            "2020-06-24 04:37:52.200858: I tensorflow/core/platform/cpu_feature_guard.cc:142] Your CPU supports instructions that this TensorFlow binary was not compiled to use: AVX2 FMA\n",
            "2020-06-24 04:37:52.205312: I tensorflow/core/platform/profile_utils/cpu_utils.cc:94] CPU Frequency: 2300000000 Hz\n",
            "2020-06-24 04:37:52.205560: I tensorflow/compiler/xla/service/service.cc:168] XLA service 0x1848a00 initialized for platform Host (this does not guarantee that XLA will be used). Devices:\n",
            "2020-06-24 04:37:52.205596: I tensorflow/compiler/xla/service/service.cc:176]   StreamExecutor device (0): Host, Default Version\n",
            "2020-06-24 04:37:52.321685: I tensorflow/stream_executor/cuda/cuda_gpu_executor.cc:983] successful NUMA node read from SysFS had negative value (-1), but there must be at least one NUMA node, so returning NUMA node zero\n",
            "2020-06-24 04:37:52.322415: I tensorflow/compiler/xla/service/service.cc:168] XLA service 0x1848bc0 initialized for platform CUDA (this does not guarantee that XLA will be used). Devices:\n",
            "2020-06-24 04:37:52.322463: I tensorflow/compiler/xla/service/service.cc:176]   StreamExecutor device (0): Tesla P100-PCIE-16GB, Compute Capability 6.0\n",
            "2020-06-24 04:37:52.323649: I tensorflow/stream_executor/cuda/cuda_gpu_executor.cc:983] successful NUMA node read from SysFS had negative value (-1), but there must be at least one NUMA node, so returning NUMA node zero\n",
            "2020-06-24 04:37:52.324185: I tensorflow/core/common_runtime/gpu/gpu_device.cc:1618] Found device 0 with properties: \n",
            "name: Tesla P100-PCIE-16GB major: 6 minor: 0 memoryClockRate(GHz): 1.3285\n",
            "pciBusID: 0000:00:04.0\n",
            "2020-06-24 04:37:52.324258: I tensorflow/stream_executor/platform/default/dso_loader.cc:44] Successfully opened dynamic library libcudart.so.10.0\n",
            "2020-06-24 04:37:52.324275: I tensorflow/stream_executor/platform/default/dso_loader.cc:44] Successfully opened dynamic library libcublas.so.10.0\n",
            "2020-06-24 04:37:52.324285: I tensorflow/stream_executor/platform/default/dso_loader.cc:44] Successfully opened dynamic library libcufft.so.10.0\n",
            "2020-06-24 04:37:52.324298: I tensorflow/stream_executor/platform/default/dso_loader.cc:44] Successfully opened dynamic library libcurand.so.10.0\n",
            "2020-06-24 04:37:52.324310: I tensorflow/stream_executor/platform/default/dso_loader.cc:44] Successfully opened dynamic library libcusolver.so.10.0\n",
            "2020-06-24 04:37:52.324322: I tensorflow/stream_executor/platform/default/dso_loader.cc:44] Successfully opened dynamic library libcusparse.so.10.0\n",
            "2020-06-24 04:37:52.324335: I tensorflow/stream_executor/platform/default/dso_loader.cc:44] Successfully opened dynamic library libcudnn.so.7\n",
            "2020-06-24 04:37:52.324404: I tensorflow/stream_executor/cuda/cuda_gpu_executor.cc:983] successful NUMA node read from SysFS had negative value (-1), but there must be at least one NUMA node, so returning NUMA node zero\n",
            "2020-06-24 04:37:52.324954: I tensorflow/stream_executor/cuda/cuda_gpu_executor.cc:983] successful NUMA node read from SysFS had negative value (-1), but there must be at least one NUMA node, so returning NUMA node zero\n",
            "2020-06-24 04:37:52.325468: I tensorflow/core/common_runtime/gpu/gpu_device.cc:1746] Adding visible gpu devices: 0\n",
            "2020-06-24 04:37:52.325530: I tensorflow/stream_executor/platform/default/dso_loader.cc:44] Successfully opened dynamic library libcudart.so.10.0\n",
            "2020-06-24 04:37:52.326839: I tensorflow/core/common_runtime/gpu/gpu_device.cc:1159] Device interconnect StreamExecutor with strength 1 edge matrix:\n",
            "2020-06-24 04:37:52.326869: I tensorflow/core/common_runtime/gpu/gpu_device.cc:1165]      0 \n",
            "2020-06-24 04:37:52.326877: I tensorflow/core/common_runtime/gpu/gpu_device.cc:1178] 0:   N \n",
            "2020-06-24 04:37:52.327024: I tensorflow/stream_executor/cuda/cuda_gpu_executor.cc:983] successful NUMA node read from SysFS had negative value (-1), but there must be at least one NUMA node, so returning NUMA node zero\n",
            "2020-06-24 04:37:52.327605: I tensorflow/stream_executor/cuda/cuda_gpu_executor.cc:983] successful NUMA node read from SysFS had negative value (-1), but there must be at least one NUMA node, so returning NUMA node zero\n",
            "2020-06-24 04:37:52.328090: W tensorflow/core/common_runtime/gpu/gpu_bfc_allocator.cc:39] Overriding allow_growth setting because the TF_FORCE_GPU_ALLOW_GROWTH environment variable is set. Original config value was 0.\n",
            "2020-06-24 04:37:52.328120: I tensorflow/core/common_runtime/gpu/gpu_device.cc:1304] Created TensorFlow device (/job:localhost/replica:0/task:0/device:GPU:0 with 15216 MB memory) -> physical GPU (device: 0, name: Tesla P100-PCIE-16GB, pci bus id: 0000:00:04.0, compute capability: 6.0)\n",
            "loading weights of convolution #0\n",
            "loading weights of convolution #1\n",
            "loading weights of convolution #2\n",
            "loading weights of convolution #3\n",
            "no convolution #4\n",
            "loading weights of convolution #5\n",
            "loading weights of convolution #6\n",
            "loading weights of convolution #7\n",
            "no convolution #8\n",
            "loading weights of convolution #9\n",
            "loading weights of convolution #10\n",
            "no convolution #11\n",
            "loading weights of convolution #12\n",
            "loading weights of convolution #13\n",
            "loading weights of convolution #14\n",
            "no convolution #15\n",
            "loading weights of convolution #16\n",
            "loading weights of convolution #17\n",
            "no convolution #18\n",
            "loading weights of convolution #19\n",
            "loading weights of convolution #20\n",
            "no convolution #21\n",
            "loading weights of convolution #22\n",
            "loading weights of convolution #23\n",
            "no convolution #24\n",
            "loading weights of convolution #25\n",
            "loading weights of convolution #26\n",
            "no convolution #27\n",
            "loading weights of convolution #28\n",
            "loading weights of convolution #29\n",
            "no convolution #30\n",
            "loading weights of convolution #31\n",
            "loading weights of convolution #32\n",
            "no convolution #33\n",
            "loading weights of convolution #34\n",
            "loading weights of convolution #35\n",
            "no convolution #36\n",
            "loading weights of convolution #37\n",
            "loading weights of convolution #38\n",
            "loading weights of convolution #39\n",
            "no convolution #40\n",
            "loading weights of convolution #41\n",
            "loading weights of convolution #42\n",
            "no convolution #43\n",
            "loading weights of convolution #44\n",
            "loading weights of convolution #45\n",
            "no convolution #46\n",
            "loading weights of convolution #47\n",
            "loading weights of convolution #48\n",
            "no convolution #49\n",
            "loading weights of convolution #50\n",
            "loading weights of convolution #51\n",
            "no convolution #52\n",
            "loading weights of convolution #53\n",
            "loading weights of convolution #54\n",
            "no convolution #55\n",
            "loading weights of convolution #56\n",
            "loading weights of convolution #57\n",
            "no convolution #58\n",
            "loading weights of convolution #59\n",
            "loading weights of convolution #60\n",
            "no convolution #61\n",
            "loading weights of convolution #62\n",
            "loading weights of convolution #63\n",
            "loading weights of convolution #64\n",
            "no convolution #65\n",
            "loading weights of convolution #66\n",
            "loading weights of convolution #67\n",
            "no convolution #68\n",
            "loading weights of convolution #69\n",
            "loading weights of convolution #70\n",
            "no convolution #71\n",
            "loading weights of convolution #72\n",
            "loading weights of convolution #73\n",
            "no convolution #74\n",
            "loading weights of convolution #75\n",
            "loading weights of convolution #76\n",
            "loading weights of convolution #77\n",
            "loading weights of convolution #78\n",
            "loading weights of convolution #79\n",
            "loading weights of convolution #80\n",
            "loading weights of convolution #81\n",
            "no convolution #82\n",
            "no convolution #83\n",
            "loading weights of convolution #84\n",
            "no convolution #85\n",
            "no convolution #86\n",
            "loading weights of convolution #87\n",
            "loading weights of convolution #88\n",
            "loading weights of convolution #89\n",
            "loading weights of convolution #90\n",
            "loading weights of convolution #91\n",
            "loading weights of convolution #92\n",
            "loading weights of convolution #93\n",
            "no convolution #94\n",
            "no convolution #95\n",
            "loading weights of convolution #96\n",
            "no convolution #97\n",
            "no convolution #98\n",
            "loading weights of convolution #99\n",
            "loading weights of convolution #100\n",
            "loading weights of convolution #101\n",
            "loading weights of convolution #102\n",
            "loading weights of convolution #103\n",
            "loading weights of convolution #104\n",
            "loading weights of convolution #105\n",
            "WARNING:tensorflow:From /usr/local/lib/python3.6/dist-packages/keras/backend/tensorflow_backend.py:422: The name tf.global_variables is deprecated. Please use tf.compat.v1.global_variables instead.\n",
            "\n",
            "2020-06-24 04:38:40.249875: I tensorflow/stream_executor/platform/default/dso_loader.cc:44] Successfully opened dynamic library libcudnn.so.7\n",
            "2020-06-24 04:38:44.583512: I tensorflow/stream_executor/platform/default/dso_loader.cc:44] Successfully opened dynamic library libcublas.so.10.0\n",
            "dog: 99.76491332054138%\n",
            "dog: 99.8070478439331%\n",
            "dog: 98.69624376296997%\n"
          ],
          "name": "stdout"
        }
      ]
    },
    {
      "cell_type": "markdown",
      "metadata": {
        "id": "w4CfG5t4B9cK",
        "colab_type": "text"
      },
      "source": [
        "# 학습 데이터 준비"
      ]
    },
    {
      "cell_type": "markdown",
      "metadata": {
        "id": "YDX2kPuqCBv9",
        "colab_type": "text"
      },
      "source": [
        "## 학습 데이터셋 다운로드"
      ]
    },
    {
      "cell_type": "code",
      "metadata": {
        "id": "dDjsMtVi3HEV",
        "colab_type": "code",
        "colab": {
          "base_uri": "https://localhost:8080/",
          "height": 106
        },
        "outputId": "37b26980-e92c-481d-e789-504c92585db2"
      },
      "source": [
        "!git clone https://github.com/experiencor/raccoon_dataset\n"
      ],
      "execution_count": 11,
      "outputs": [
        {
          "output_type": "stream",
          "text": [
            "Cloning into 'raccoon_dataset'...\n",
            "remote: Enumerating objects: 646, done.\u001b[K\n",
            "remote: Total 646 (delta 0), reused 0 (delta 0), pack-reused 646\u001b[K\n",
            "Receiving objects: 100% (646/646), 48.00 MiB | 10.78 MiB/s, done.\n",
            "Resolving deltas: 100% (412/412), done.\n"
          ],
          "name": "stdout"
        }
      ]
    },
    {
      "cell_type": "code",
      "metadata": {
        "id": "ElfnY1H5NiUo",
        "colab_type": "code",
        "colab": {
          "base_uri": "https://localhost:8080/",
          "height": 372
        },
        "outputId": "a73c1b8d-41ee-4338-d288-fc77a0fc8062"
      },
      "source": [
        "!ls -al raccoon_dataset/images | head\n",
        "!ls -al raccoon_dataset/annotations | head"
      ],
      "execution_count": 12,
      "outputs": [
        {
          "output_type": "stream",
          "text": [
            "total 13448\n",
            "drwxr-xr-x 2 root root  12288 Jun 24 04:40 .\n",
            "drwxr-xr-x 7 root root   4096 Jun 24 04:40 ..\n",
            "-rw-r--r-- 1 root root 118176 Jun 24 04:40 raccoon-100.jpg\n",
            "-rw-r--r-- 1 root root 124554 Jun 24 04:40 raccoon-101.jpg\n",
            "-rw-r--r-- 1 root root  17123 Jun 24 04:40 raccoon-102.jpg\n",
            "-rw-r--r-- 1 root root 173619 Jun 24 04:40 raccoon-103.jpg\n",
            "-rw-r--r-- 1 root root  41618 Jun 24 04:40 raccoon-104.jpg\n",
            "-rw-r--r-- 1 root root  99844 Jun 24 04:40 raccoon-105.jpg\n",
            "-rw-r--r-- 1 root root  13337 Jun 24 04:40 raccoon-106.jpg\n",
            "total 816\n",
            "drwxr-xr-x 2 root root 12288 Jun 24 04:40 .\n",
            "drwxr-xr-x 7 root root  4096 Jun 24 04:40 ..\n",
            "-rw-r--r-- 1 root root   559 Jun 24 04:40 raccoon-100.xml\n",
            "-rw-r--r-- 1 root root   558 Jun 24 04:40 raccoon-101.xml\n",
            "-rw-r--r-- 1 root root   556 Jun 24 04:40 raccoon-102.xml\n",
            "-rw-r--r-- 1 root root   558 Jun 24 04:40 raccoon-103.xml\n",
            "-rw-r--r-- 1 root root   559 Jun 24 04:40 raccoon-104.xml\n",
            "-rw-r--r-- 1 root root   559 Jun 24 04:40 raccoon-105.xml\n",
            "-rw-r--r-- 1 root root   558 Jun 24 04:40 raccoon-106.xml\n"
          ],
          "name": "stdout"
        }
      ]
    },
    {
      "cell_type": "code",
      "metadata": {
        "id": "emc4o6k1PCoV",
        "colab_type": "code",
        "colab": {
          "base_uri": "https://localhost:8080/",
          "height": 434
        },
        "outputId": "883a2b6b-9a30-4b55-c558-d24e3c1cd793"
      },
      "source": [
        "from IPython.display import Image, display\n",
        "display(Image('raccoon_dataset/images/raccoon-1.jpg'))"
      ],
      "execution_count": 13,
      "outputs": [
        {
          "output_type": "display_data",
          "data": {
            "image/jpeg": "[encoded data removed]",
            "text/plain": [
              "<IPython.core.display.Image object>"
            ]
          },
          "metadata": {
            "tags": []
          }
        }
      ]
    },
    {
      "cell_type": "code",
      "metadata": {
        "id": "LgqG7MeDQHCG",
        "colab_type": "code",
        "colab": {
          "base_uri": "https://localhost:8080/",
          "height": 479
        },
        "outputId": "c07b3aa5-2869-42b3-e985-0dddf97a57cc"
      },
      "source": [
        "!cat raccoon_dataset/annotations/raccoon-100.xml"
      ],
      "execution_count": 14,
      "outputs": [
        {
          "output_type": "stream",
          "text": [
            "<annotation verified=\"yes\">\n",
            "\t<folder>images</folder>\n",
            "\t<filename>raccoon-100.jpg</filename>\n",
            "\t<path>/Users/datitran/Desktop/raccoon/images/raccoon-100.jpg</path>\n",
            "\t<source>\n",
            "\t\t<database>Unknown</database>\n",
            "\t</source>\n",
            "\t<size>\n",
            "\t\t<width>960</width>\n",
            "\t\t<height>576</height>\n",
            "\t\t<depth>3</depth>\n",
            "\t</size>\n",
            "\t<segmented>0</segmented>\n",
            "\t<object>\n",
            "\t\t<name>raccoon</name>\n",
            "\t\t<pose>Unspecified</pose>\n",
            "\t\t<truncated>0</truncated>\n",
            "\t\t<difficult>0</difficult>\n",
            "\t\t<bndbox>\n",
            "\t\t\t<xmin>548</xmin>\n",
            "\t\t\t<ymin>10</ymin>\n",
            "\t\t\t<xmax>954</xmax>\n",
            "\t\t\t<ymax>520</ymax>\n",
            "\t\t</bndbox>\n",
            "\t</object>\n",
            "</annotation>\n"
          ],
          "name": "stdout"
        }
      ]
    },
    {
      "cell_type": "markdown",
      "metadata": {
        "id": "h3V9sVU3ND6m",
        "colab_type": "text"
      },
      "source": [
        "## 디렉토리 생성\n",
        "\n",
        "```\n",
        "data/\n",
        "  train/\n",
        "    images/\n",
        "    annotations/\n",
        "  test/\n",
        "    images/\n",
        "    annotations/\n",
        "\n",
        "```"
      ]
    },
    {
      "cell_type": "code",
      "metadata": {
        "id": "TtRE-H1HC9iA",
        "colab_type": "code",
        "colab": {}
      },
      "source": [
        "!mkdir -p data/train/images\n",
        "!mkdir -p data/train/annotations\n",
        "!mkdir -p data/test/images\n",
        "!mkdir -p data/test/annotations"
      ],
      "execution_count": 15,
      "outputs": []
    },
    {
      "cell_type": "markdown",
      "metadata": {
        "id": "6cfymyUXsKP3",
        "colab_type": "text"
      },
      "source": [
        "전체 데이터를 전부 train/ 밑으로 복사하고"
      ]
    },
    {
      "cell_type": "code",
      "metadata": {
        "id": "p7CbsIWsEIec",
        "colab_type": "code",
        "colab": {}
      },
      "source": [
        "!cp raccoon_dataset/images/* data/train/images\n",
        "!cp raccoon_dataset/annotations/* data/train/annotations"
      ],
      "execution_count": 16,
      "outputs": []
    },
    {
      "cell_type": "code",
      "metadata": {
        "id": "qXumVyDJEoWc",
        "colab_type": "code",
        "colab": {
          "base_uri": "https://localhost:8080/",
          "height": 390
        },
        "outputId": "2e42d171-0cd2-4544-ffb0-f1639c79fb5a"
      },
      "source": [
        "!ls -al data/train/images | head\n",
        "!ls -al data/train/annotations | head\n",
        "!ls data/train/images/*.jpg | wc"
      ],
      "execution_count": 17,
      "outputs": [
        {
          "output_type": "stream",
          "text": [
            "total 13448\n",
            "drwxr-xr-x 2 root root  12288 Jun 24 04:43 .\n",
            "drwxr-xr-x 4 root root   4096 Jun 24 04:43 ..\n",
            "-rw-r--r-- 1 root root 118176 Jun 24 04:43 raccoon-100.jpg\n",
            "-rw-r--r-- 1 root root 124554 Jun 24 04:43 raccoon-101.jpg\n",
            "-rw-r--r-- 1 root root  17123 Jun 24 04:43 raccoon-102.jpg\n",
            "-rw-r--r-- 1 root root 173619 Jun 24 04:43 raccoon-103.jpg\n",
            "-rw-r--r-- 1 root root  41618 Jun 24 04:43 raccoon-104.jpg\n",
            "-rw-r--r-- 1 root root  99844 Jun 24 04:43 raccoon-105.jpg\n",
            "-rw-r--r-- 1 root root  13337 Jun 24 04:43 raccoon-106.jpg\n",
            "total 816\n",
            "drwxr-xr-x 2 root root 12288 Jun 24 04:43 .\n",
            "drwxr-xr-x 4 root root  4096 Jun 24 04:43 ..\n",
            "-rw-r--r-- 1 root root   559 Jun 24 04:43 raccoon-100.xml\n",
            "-rw-r--r-- 1 root root   558 Jun 24 04:43 raccoon-101.xml\n",
            "-rw-r--r-- 1 root root   556 Jun 24 04:43 raccoon-102.xml\n",
            "-rw-r--r-- 1 root root   558 Jun 24 04:43 raccoon-103.xml\n",
            "-rw-r--r-- 1 root root   559 Jun 24 04:43 raccoon-104.xml\n",
            "-rw-r--r-- 1 root root   559 Jun 24 04:43 raccoon-105.xml\n",
            "-rw-r--r-- 1 root root   558 Jun 24 04:43 raccoon-106.xml\n",
            "    200     200    6692\n"
          ],
          "name": "stdout"
        }
      ]
    },
    {
      "cell_type": "markdown",
      "metadata": {
        "id": "F1NEiSEQsPFW",
        "colab_type": "text"
      },
      "source": [
        "0으로 끝나는, 1로 끝나는 일부 파일을 test 밑으로 이동"
      ]
    },
    {
      "cell_type": "code",
      "metadata": {
        "id": "E9-ADLlGEeYQ",
        "colab_type": "code",
        "colab": {}
      },
      "source": [
        "!mv data/train/images/*0.jpg data/test/images/\n",
        "!mv data/train/annotations/*0.xml data/test/annotations/\n",
        "!mv data/train/images/*1.jpg data/test/images/\n",
        "!mv data/train/annotations/*1.xml data/test/annotations/\n"
      ],
      "execution_count": 18,
      "outputs": []
    },
    {
      "cell_type": "markdown",
      "metadata": {
        "id": "1kWt4cd1sTG0",
        "colab_type": "text"
      },
      "source": [
        "데이터의 갯수 확인"
      ]
    },
    {
      "cell_type": "code",
      "metadata": {
        "id": "Qz4Fq2dAEYHq",
        "colab_type": "code",
        "colab": {
          "base_uri": "https://localhost:8080/",
          "height": 88
        },
        "outputId": "59664315-d001-4e88-f302-508f4dacff88"
      },
      "source": [
        "!ls data/train/images/*.jpg | wc\n",
        "!ls data/train/annotations/*.xml | wc\n",
        "!ls data/test/images/*.jpg | wc\n",
        "!ls data/test/annotations/*.xml | wc"
      ],
      "execution_count": 19,
      "outputs": [
        {
          "output_type": "stream",
          "text": [
            "    160     160    5352\n",
            "    160     160    6152\n",
            "     40      40    1300\n",
            "     40      40    1500\n"
          ],
          "name": "stdout"
        }
      ]
    },
    {
      "cell_type": "markdown",
      "metadata": {
        "id": "VFh-nrqQQmVz",
        "colab_type": "text"
      },
      "source": [
        "```\n",
        "data/\n",
        "  train/\n",
        "    images/       # 160개\n",
        "    annotations/  # 160개\n",
        "  test/\n",
        "    images/       # 40개\n",
        "    annotations/  # 40개\n",
        " \n",
        "```"
      ]
    },
    {
      "cell_type": "markdown",
      "metadata": {
        "id": "Y-yyPTttcYBC",
        "colab_type": "text"
      },
      "source": [
        "# 학습"
      ]
    },
    {
      "cell_type": "markdown",
      "metadata": {
        "id": "dSBIdFvxZXBs",
        "colab_type": "text"
      },
      "source": [
        "## 학습된 모델파일 다운로드"
      ]
    },
    {
      "cell_type": "code",
      "metadata": {
        "id": "KD7kac59Q9f3",
        "colab_type": "code",
        "colab": {
          "base_uri": "https://localhost:8080/",
          "height": 88
        },
        "outputId": "51fae08f-83de-40c5-e4b7-255d3e473896"
      },
      "source": [
        "!gdown https://drive.google.com/uc?id=1kaB6H0CqrzwDPtWedOqYVrVQ5hW36Bno"
      ],
      "execution_count": 20,
      "outputs": [
        {
          "output_type": "stream",
          "text": [
            "Downloading...\n",
            "From: https://drive.google.com/uc?id=1kaB6H0CqrzwDPtWedOqYVrVQ5hW36Bno\n",
            "To: /content/keras-yolo3/raccoon.h5\n",
            "247MB [00:00, 303MB/s]\n"
          ],
          "name": "stdout"
        }
      ]
    },
    {
      "cell_type": "markdown",
      "metadata": {
        "id": "fb8_QKrBdAsw",
        "colab_type": "text"
      },
      "source": [
        "## 설정 파일"
      ]
    },
    {
      "cell_type": "markdown",
      "metadata": {
        "id": "5XilF1m1peg3",
        "colab_type": "text"
      },
      "source": [
        "EunAh: keras yolo3 프로젝트를 만든 사람의 설정 파일. 일반적인 건 아님\n",
        "이대로 쓰면 뻑 날 수 있음"
      ]
    },
    {
      "cell_type": "code",
      "metadata": {
        "id": "kP_9N3VNc9AX",
        "colab_type": "code",
        "colab": {
          "base_uri": "https://localhost:8080/",
          "height": 728
        },
        "outputId": "850f8f11-7a1d-4762-9449-96ddd2953d07"
      },
      "source": [
        "!cat zoo/config_raccoon.json"
      ],
      "execution_count": 21,
      "outputs": [
        {
          "output_type": "stream",
          "text": [
            "{\n",
            "    \"model\" : {\n",
            "        \"min_input_size\":       288,\n",
            "        \"max_input_size\":       448,\n",
            "        \"anchors\":              [17,18, 28,24, 36,34, 42,44, 56,51, 72,66, 90,95, 92,154, 139,281],\n",
            "        \"labels\":               [\"raccoon\"]\n",
            "    },\n",
            "\n",
            "    \"train\": {\n",
            "        \"train_image_folder\":   \"/home/andy/Desktop/github/raccoon_dataset/images/\",\n",
            "        \"train_annot_folder\":   \"/home/andy/Desktop/github/raccoon_dataset/annotations/\",\n",
            "        \"cache_name\":           \"raccoon_train.pkl\",\n",
            "\n",
            "        \"train_times\":          3,\n",
            "        \"batch_size\":           16,\n",
            "        \"learning_rate\":        1e-4,\n",
            "        \"nb_epochs\":            100,\n",
            "        \"warmup_epochs\":        3,\n",
            "        \"ignore_thresh\":        0.5,\n",
            "        \"gpus\":                 \"0,1\",\n",
            "\n",
            "        \"grid_scales\":          [1,1,1],\n",
            "        \"obj_scale\":            5,\n",
            "        \"noobj_scale\":          1,\n",
            "        \"xywh_scale\":           1,\n",
            "        \"class_scale\":          1,\n",
            "\n",
            "        \"tensorboard_dir\":      \"log_raccoon\",\n",
            "        \"saved_weights_name\":   \"raccoon.h5\",\n",
            "        \"debug\":                true\n",
            "    },\n",
            "\n",
            "    \"valid\": {\n",
            "        \"valid_image_folder\":   \"\",\n",
            "        \"valid_annot_folder\":   \"\",\n",
            "        \"cache_name\":           \"\",\n",
            "\n",
            "        \"valid_times\":          1\n",
            "    }\n",
            "}\n"
          ],
          "name": "stdout"
        }
      ]
    },
    {
      "cell_type": "code",
      "metadata": {
        "id": "M3D81fuGdj74",
        "colab_type": "code",
        "colab": {}
      },
      "source": [
        "# 설정파일 설정\n",
        "!sed -i 's/\\/home\\/andy\\/Desktop\\/github\\/raccoon_dataset/data\\/train/g' zoo/config_raccoon.json\n",
        "\n",
        "# gpu 갯수 설정\n",
        "!sed -i 's/\\\"0\\,1\\\"\\,/\\\"0\\\"\\,/g' zoo/config_raccoon.json\n",
        "\n",
        "# batch 사이즈 설정\n",
        "!sed -i 's/16,/2,/g' zoo/config_raccoon.json"
      ],
      "execution_count": 22,
      "outputs": []
    },
    {
      "cell_type": "code",
      "metadata": {
        "id": "R4VRf0qteBtp",
        "colab_type": "code",
        "colab": {
          "base_uri": "https://localhost:8080/",
          "height": 728
        },
        "outputId": "c852e36e-716a-4f65-8a1e-2bcca6a86fb3"
      },
      "source": [
        "!cat zoo/config_raccoon.json #설정 바꿈"
      ],
      "execution_count": 23,
      "outputs": [
        {
          "output_type": "stream",
          "text": [
            "{\n",
            "    \"model\" : {\n",
            "        \"min_input_size\":       288,\n",
            "        \"max_input_size\":       448,\n",
            "        \"anchors\":              [17,18, 28,24, 36,34, 42,44, 56,51, 72,66, 90,95, 92,154, 139,281],\n",
            "        \"labels\":               [\"raccoon\"]\n",
            "    },\n",
            "\n",
            "    \"train\": {\n",
            "        \"train_image_folder\":   \"data/train/images/\",\n",
            "        \"train_annot_folder\":   \"data/train/annotations/\",\n",
            "        \"cache_name\":           \"raccoon_train.pkl\",\n",
            "\n",
            "        \"train_times\":          3,\n",
            "        \"batch_size\":           2,\n",
            "        \"learning_rate\":        1e-4,\n",
            "        \"nb_epochs\":            100,\n",
            "        \"warmup_epochs\":        3,\n",
            "        \"ignore_thresh\":        0.5,\n",
            "        \"gpus\":                 \"0\",\n",
            "\n",
            "        \"grid_scales\":          [1,1,1],\n",
            "        \"obj_scale\":            5,\n",
            "        \"noobj_scale\":          1,\n",
            "        \"xywh_scale\":           1,\n",
            "        \"class_scale\":          1,\n",
            "\n",
            "        \"tensorboard_dir\":      \"log_raccoon\",\n",
            "        \"saved_weights_name\":   \"raccoon.h5\",\n",
            "        \"debug\":                true\n",
            "    },\n",
            "\n",
            "    \"valid\": {\n",
            "        \"valid_image_folder\":   \"\",\n",
            "        \"valid_annot_folder\":   \"\",\n",
            "        \"cache_name\":           \"\",\n",
            "\n",
            "        \"valid_times\":          1\n",
            "    }\n",
            "}\n"
          ],
          "name": "stdout"
        }
      ]
    },
    {
      "cell_type": "markdown",
      "metadata": {
        "id": "BbNpGWiydDNB",
        "colab_type": "text"
      },
      "source": [
        "## 학습 실행"
      ]
    },
    {
      "cell_type": "code",
      "metadata": {
        "id": "NSak1j1DR_kJ",
        "colab_type": "code",
        "colab": {
          "base_uri": "https://localhost:8080/",
          "height": 1000
        },
        "outputId": "20268384-0293-4d4a-df26-603ec72dce4b"
      },
      "source": [
        "!python train.py -c zoo/config_raccoon.json"
      ],
      "execution_count": 25,
      "outputs": [
        {
          "output_type": "stream",
          "text": [
            "Using TensorFlow backend.\n",
            "2020-06-24 04:51:23.048530: I tensorflow/core/platform/cpu_feature_guard.cc:142] Your CPU supports instructions that this TensorFlow binary was not compiled to use: AVX2 FMA\n",
            "2020-06-24 04:51:23.052999: I tensorflow/core/platform/profile_utils/cpu_utils.cc:94] CPU Frequency: 2300000000 Hz\n",
            "2020-06-24 04:51:23.053251: I tensorflow/compiler/xla/service/service.cc:168] XLA service 0x1d9aa00 initialized for platform Host (this does not guarantee that XLA will be used). Devices:\n",
            "2020-06-24 04:51:23.053283: I tensorflow/compiler/xla/service/service.cc:176]   StreamExecutor device (0): Host, Default Version\n",
            "2020-06-24 04:51:23.055016: I tensorflow/stream_executor/platform/default/dso_loader.cc:44] Successfully opened dynamic library libcuda.so.1\n",
            "2020-06-24 04:51:23.154153: I tensorflow/stream_executor/cuda/cuda_gpu_executor.cc:983] successful NUMA node read from SysFS had negative value (-1), but there must be at least one NUMA node, so returning NUMA node zero\n",
            "2020-06-24 04:51:23.154991: I tensorflow/compiler/xla/service/service.cc:168] XLA service 0x1d9abc0 initialized for platform CUDA (this does not guarantee that XLA will be used). Devices:\n",
            "2020-06-24 04:51:23.155021: I tensorflow/compiler/xla/service/service.cc:176]   StreamExecutor device (0): Tesla P100-PCIE-16GB, Compute Capability 6.0\n",
            "2020-06-24 04:51:23.155200: I tensorflow/stream_executor/cuda/cuda_gpu_executor.cc:983] successful NUMA node read from SysFS had negative value (-1), but there must be at least one NUMA node, so returning NUMA node zero\n",
            "2020-06-24 04:51:23.155697: I tensorflow/core/common_runtime/gpu/gpu_device.cc:1618] Found device 0 with properties: \n",
            "name: Tesla P100-PCIE-16GB major: 6 minor: 0 memoryClockRate(GHz): 1.3285\n",
            "pciBusID: 0000:00:04.0\n",
            "2020-06-24 04:51:23.155992: I tensorflow/stream_executor/platform/default/dso_loader.cc:44] Successfully opened dynamic library libcudart.so.10.0\n",
            "2020-06-24 04:51:23.157041: I tensorflow/stream_executor/platform/default/dso_loader.cc:44] Successfully opened dynamic library libcublas.so.10.0\n",
            "2020-06-24 04:51:23.158077: I tensorflow/stream_executor/platform/default/dso_loader.cc:44] Successfully opened dynamic library libcufft.so.10.0\n",
            "2020-06-24 04:51:23.158468: I tensorflow/stream_executor/platform/default/dso_loader.cc:44] Successfully opened dynamic library libcurand.so.10.0\n",
            "2020-06-24 04:51:23.159850: I tensorflow/stream_executor/platform/default/dso_loader.cc:44] Successfully opened dynamic library libcusolver.so.10.0\n",
            "2020-06-24 04:51:23.160908: I tensorflow/stream_executor/platform/default/dso_loader.cc:44] Successfully opened dynamic library libcusparse.so.10.0\n",
            "2020-06-24 04:51:23.164191: I tensorflow/stream_executor/platform/default/dso_loader.cc:44] Successfully opened dynamic library libcudnn.so.7\n",
            "2020-06-24 04:51:23.164328: I tensorflow/stream_executor/cuda/cuda_gpu_executor.cc:983] successful NUMA node read from SysFS had negative value (-1), but there must be at least one NUMA node, so returning NUMA node zero\n",
            "2020-06-24 04:51:23.164985: I tensorflow/stream_executor/cuda/cuda_gpu_executor.cc:983] successful NUMA node read from SysFS had negative value (-1), but there must be at least one NUMA node, so returning NUMA node zero\n",
            "2020-06-24 04:51:23.165553: I tensorflow/core/common_runtime/gpu/gpu_device.cc:1746] Adding visible gpu devices: 0\n",
            "2020-06-24 04:51:23.165619: I tensorflow/stream_executor/platform/default/dso_loader.cc:44] Successfully opened dynamic library libcudart.so.10.0\n",
            "2020-06-24 04:51:23.166781: I tensorflow/core/common_runtime/gpu/gpu_device.cc:1159] Device interconnect StreamExecutor with strength 1 edge matrix:\n",
            "2020-06-24 04:51:23.166806: I tensorflow/core/common_runtime/gpu/gpu_device.cc:1165]      0 \n",
            "2020-06-24 04:51:23.166813: I tensorflow/core/common_runtime/gpu/gpu_device.cc:1178] 0:   N \n",
            "2020-06-24 04:51:23.166934: I tensorflow/stream_executor/cuda/cuda_gpu_executor.cc:983] successful NUMA node read from SysFS had negative value (-1), but there must be at least one NUMA node, so returning NUMA node zero\n",
            "2020-06-24 04:51:23.167559: I tensorflow/stream_executor/cuda/cuda_gpu_executor.cc:983] successful NUMA node read from SysFS had negative value (-1), but there must be at least one NUMA node, so returning NUMA node zero\n",
            "2020-06-24 04:51:23.168128: I tensorflow/core/common_runtime/gpu/gpu_device.cc:1304] Created TensorFlow device (/job:localhost/replica:0/task:0/device:GPU:0 with 14652 MB memory) -> physical GPU (device: 0, name: Tesla P100-PCIE-16GB, pci bus id: 0000:00:04.0, compute capability: 6.0)\n",
            "WARNING:tensorflow:From train.py:26: The name tf.keras.backend.set_session is deprecated. Please use tf.compat.v1.keras.backend.set_session instead.\n",
            "\n",
            "valid_annot_folder not exists. Spliting the trainining set.\n",
            "Seen labels: \t{'raccoon': 174}\n",
            "\n",
            "Given labels: \t['raccoon']\n",
            "\n",
            "Training on: \t['raccoon']\n",
            "\n",
            "WARNING:tensorflow:From /usr/local/lib/python3.6/dist-packages/tensorflow_core/python/ops/resource_variable_ops.py:1630: calling BaseResourceVariable.__init__ (from tensorflow.python.ops.resource_variable_ops) with constraint is deprecated and will be removed in a future version.\n",
            "Instructions for updating:\n",
            "If using Keras pass *_constraint arguments to layers.\n",
            "WARNING:tensorflow:From /content/keras-yolo3/yolo.py:26: to_float (from tensorflow.python.ops.math_ops) is deprecated and will be removed in a future version.\n",
            "Instructions for updating:\n",
            "Use `tf.cast` instead.\n",
            "WARNING:tensorflow:From /content/keras-yolo3/yolo.py:151: The name tf.assign_add is deprecated. Please use tf.compat.v1.assign_add instead.\n",
            "\n",
            "\n",
            "Loading pretrained weights.\n",
            "\n",
            "/usr/local/lib/python3.6/dist-packages/keras/callbacks/callbacks.py:998: UserWarning: `epsilon` argument is deprecated and will be removed, use `min_delta` instead.\n",
            "  warnings.warn('`epsilon` argument is deprecated and '\n",
            "WARNING:tensorflow:From /usr/local/lib/python3.6/dist-packages/keras/backend/tensorflow_backend.py:422: The name tf.global_variables is deprecated. Please use tf.compat.v1.global_variables instead.\n",
            "\n",
            "WARNING:tensorflow:From /usr/local/lib/python3.6/dist-packages/keras/backend/tensorflow_backend.py:431: The name tf.is_variable_initialized is deprecated. Please use tf.compat.v1.is_variable_initialized instead.\n",
            "\n",
            "WARNING:tensorflow:From /usr/local/lib/python3.6/dist-packages/keras/backend/tensorflow_backend.py:438: The name tf.variables_initializer is deprecated. Please use tf.compat.v1.variables_initializer instead.\n",
            "\n",
            "WARNING:tensorflow:From /usr/local/lib/python3.6/dist-packages/keras/callbacks/tensorboard_v1.py:200: The name tf.summary.merge_all is deprecated. Please use tf.compat.v1.summary.merge_all instead.\n",
            "\n",
            "WARNING:tensorflow:From /usr/local/lib/python3.6/dist-packages/keras/callbacks/tensorboard_v1.py:203: The name tf.summary.FileWriter is deprecated. Please use tf.compat.v1.summary.FileWriter instead.\n",
            "\n",
            "resizing:  384 384\n",
            "Epoch 1/100\n",
            "2020-06-24 04:52:12.162225: I tensorflow/stream_executor/platform/default/dso_loader.cc:44] Successfully opened dynamic library libcudnn.so.7\n",
            "2020-06-24 04:52:13.185268: I tensorflow/stream_executor/platform/default/dso_loader.cc:44] Successfully opened dynamic library libcublas.so.10.0\n",
            "WARNING:tensorflow:From /content/keras-yolo3/callbacks.py:19: The name tf.Summary is deprecated. Please use tf.compat.v1.Summary instead.\n",
            "\n",
            "resizing:  352 352\n",
            "resizing:  416 416\n",
            "resizing:  416 416\n",
            "resizing:  320 320\n",
            "resizing:  448 448\n",
            "resizing:  384 384\n",
            "resizing:  384 384\n",
            "resizing:  288 288\n",
            "resizing:  384 384\n",
            "resizing:  384 384\n",
            "resizing:  448 448\n",
            "resizing:  448 448\n",
            "resizing:  384 384\n",
            "resizing:  288 288\n",
            "resizing:  320 320\n",
            "resizing:  320 320\n",
            "resizing:  352 352\n",
            "resizing:  288 288\n",
            "resizing:  384 384\n",
            "resizing:  320 320\n",
            "resizing:  416 416\n",
            " - 56s - loss: 1.4283 - yolo_layer_1_loss: 1.2159 - yolo_layer_2_loss: 0.1734 - yolo_layer_3_loss: 0.0390\n",
            "\n",
            "Epoch 00001: loss improved from inf to 1.42832, saving model to raccoon.h5\n",
            "Epoch 2/100\n",
            "resizing:  352 352\n",
            "resizing:  320 320\n",
            "resizing:  448 448\n",
            "resizing:  320 320\n",
            "resizing:  320 320\n",
            "resizing:  320 320\n",
            "resizing:  352 352\n",
            "resizing:  352 352\n",
            "resizing:  384 384\n",
            "resizing:  352 352\n",
            "resizing:  320 320\n",
            "resizing:  288 288\n",
            "resizing:  352 352\n",
            "resizing:  384 384\n",
            "resizing:  288 288\n",
            "resizing:  320 320\n",
            "resizing:  416 416\n",
            "resizing:  384 384\n",
            "resizing:  384 384\n",
            "resizing:  416 416\n",
            " - 29s - loss: 1.6123 - yolo_layer_1_loss: 1.1859 - yolo_layer_2_loss: 0.3708 - yolo_layer_3_loss: 0.0556\n",
            "\n",
            "Epoch 00002: loss did not improve from 1.42832\n",
            "Epoch 3/100\n",
            "resizing:  352 352\n",
            "resizing:  288 288\n",
            "resizing:  448 448\n",
            "resizing:  416 416\n",
            "resizing:  352 352\n",
            "resizing:  352 352\n",
            "resizing:  288 288\n",
            "resizing:  384 384\n",
            "resizing:  384 384\n",
            "resizing:  288 288\n",
            "resizing:  320 320\n",
            "resizing:  448 448\n",
            "resizing:  288 288\n",
            "resizing:  384 384\n",
            "resizing:  320 320\n",
            "resizing:  320 320\n",
            "resizing:  320 320\n",
            "resizing:  384 384\n",
            "resizing:  416 416\n",
            "resizing:  320 320\n",
            "resizing:  416 416\n",
            " - 30s - loss: 1.6613 - yolo_layer_1_loss: 1.2452 - yolo_layer_2_loss: 0.4152 - yolo_layer_3_loss: 8.8329e-04\n",
            "\n",
            "Epoch 00003: loss did not improve from 1.42832\n",
            "\n",
            "Epoch 00003: ReduceLROnPlateau reducing learning rate to 9.999999747378752e-06.\n",
            "Epoch 4/100\n",
            "resizing:  416 416\n",
            "resizing:  288 288\n",
            "resizing:  448 448\n",
            "resizing:  320 320\n",
            "resizing:  384 384\n",
            "resizing:  352 352\n",
            "resizing:  448 448\n",
            "resizing:  416 416\n",
            "resizing:  384 384\n",
            "resizing:  384 384\n",
            "resizing:  320 320\n",
            "resizing:  352 352\n",
            "resizing:  320 320\n",
            "resizing:  416 416\n",
            "resizing:  416 416\n",
            "resizing:  384 384\n",
            "resizing:  384 384\n",
            "resizing:  416 416\n",
            "resizing:  384 384\n",
            "resizing:  448 448\n",
            "resizing:  448 448\n",
            "resizing:  288 288\n",
            " - 32s - loss: 1.2927 - yolo_layer_1_loss: 0.9607 - yolo_layer_2_loss: 0.2623 - yolo_layer_3_loss: 0.0696\n",
            "\n",
            "Epoch 00004: loss improved from 1.42832 to 1.29265, saving model to raccoon.h5\n",
            "resizing:  384 384\n",
            "Epoch 5/100\n",
            "resizing:  448 448\n",
            "resizing:  416 416\n",
            "resizing:  416 416\n",
            "resizing:  448 448\n",
            "resizing:  288 288\n",
            "resizing:  352 352\n",
            "resizing:  384 384\n",
            "resizing:  320 320\n",
            "resizing:  288 288\n",
            "resizing:  448 448\n",
            "resizing:  384 384\n",
            "resizing:  352 352\n",
            "resizing:  384 384\n",
            "resizing:  384 384\n",
            "resizing:  352 352\n",
            "resizing:  288 288\n",
            "resizing:  384 384\n",
            "resizing:  448 448\n",
            "resizing:  448 448\n",
            "resizing:  416 416\n",
            "resizing:  320 320\n",
            " - 31s - loss: 1.3440 - yolo_layer_1_loss: 0.9667 - yolo_layer_2_loss: 0.3487 - yolo_layer_3_loss: 0.0286\n",
            "\n",
            "Epoch 00005: loss did not improve from 1.29265\n",
            "Epoch 6/100\n",
            "resizing:  448 448\n",
            "resizing:  448 448\n",
            "resizing:  288 288\n",
            "resizing:  416 416\n",
            "resizing:  352 352\n",
            "resizing:  384 384\n",
            "resizing:  448 448\n",
            "resizing:  288 288\n",
            "resizing:  416 416\n",
            "resizing:  352 352\n",
            "resizing:  384 384\n",
            "resizing:  352 352\n",
            "resizing:  352 352\n",
            "resizing:  352 352\n",
            "resizing:  384 384\n",
            "resizing:  320 320\n",
            "resizing:  384 384\n",
            "resizing:  288 288\n",
            "resizing:  448 448\n",
            "resizing:  384 384\n",
            "resizing:  288 288\n",
            " - 31s - loss: 1.1914 - yolo_layer_1_loss: 0.8336 - yolo_layer_2_loss: 0.3194 - yolo_layer_3_loss: 0.0384\n",
            "\n",
            "Epoch 00006: loss improved from 1.29265 to 1.19139, saving model to raccoon.h5\n",
            "Epoch 7/100\n",
            "resizing:  320 320\n",
            "resizing:  448 448\n",
            "resizing:  352 352\n",
            "resizing:  352 352\n",
            "resizing:  416 416\n",
            "resizing:  320 320\n",
            "resizing:  352 352\n",
            "resizing:  288 288\n",
            "resizing:  352 352\n",
            "resizing:  448 448\n",
            "resizing:  320 320\n",
            "resizing:  448 448\n",
            "resizing:  416 416\n",
            "resizing:  288 288\n",
            "resizing:  416 416\n",
            "resizing:  384 384\n",
            "resizing:  448 448\n",
            "resizing:  384 384\n",
            "resizing:  416 416\n",
            " - 31s - loss: 1.2567 - yolo_layer_1_loss: 0.8882 - yolo_layer_2_loss: 0.2752 - yolo_layer_3_loss: 0.0933\n",
            "\n",
            "Epoch 00007: loss did not improve from 1.19139\n",
            "Epoch 8/100\n",
            "resizing:  352 352\n",
            "resizing:  448 448\n",
            "resizing:  384 384\n",
            "resizing:  416 416\n",
            "resizing:  320 320\n",
            "resizing:  320 320\n",
            "resizing:  416 416\n",
            "resizing:  288 288\n",
            "resizing:  320 320\n",
            "resizing:  448 448\n",
            "resizing:  448 448\n",
            "resizing:  416 416\n",
            "resizing:  320 320\n",
            "resizing:  448 448\n",
            "resizing:  320 320\n",
            "resizing:  320 320\n",
            "resizing:  288 288\n",
            "resizing:  320 320\n",
            "resizing:  384 384\n",
            "resizing:  288 288\n",
            "resizing:  288 288\n",
            "resizing:  384 384\n",
            "resizing:  448 448\n",
            " - 30s - loss: 1.1047 - yolo_layer_1_loss: 0.7905 - yolo_layer_2_loss: 0.2602 - yolo_layer_3_loss: 0.0539\n",
            "\n",
            "Epoch 00008: loss improved from 1.19139 to 1.10467, saving model to raccoon.h5\n",
            "Epoch 9/100\n",
            "resizing:  352 352\n",
            "resizing:  352 352\n",
            "resizing:  448 448\n",
            "resizing:  320 320\n",
            "resizing:  448 448\n",
            "resizing:  384 384\n",
            "resizing:  384 384\n",
            "resizing:  384 384\n",
            "resizing:  384 384\n",
            "resizing:  288 288\n",
            "resizing:  448 448\n",
            "resizing:  352 352\n",
            "resizing:  384 384\n",
            "resizing:  384 384\n",
            "resizing:  448 448\n",
            "resizing:  416 416\n",
            "resizing:  320 320\n",
            "resizing:  448 448\n",
            "resizing:  352 352\n",
            "resizing:  416 416\n",
            "resizing:  384 384\n",
            " - 31s - loss: 1.0871 - yolo_layer_1_loss: 0.8258 - yolo_layer_2_loss: 0.1963 - yolo_layer_3_loss: 0.0650\n",
            "\n",
            "Epoch 00009: loss improved from 1.10467 to 1.08713, saving model to raccoon.h5\n",
            "Epoch 10/100\n",
            "resizing:  288 288\n",
            "resizing:  416 416\n",
            "resizing:  288 288\n",
            "resizing:  352 352\n",
            "resizing:  416 416\n",
            "resizing:  320 320\n",
            "resizing:  352 352\n",
            "resizing:  448 448\n",
            "resizing:  416 416\n",
            "resizing:  352 352\n",
            "resizing:  416 416\n",
            "resizing:  288 288\n",
            "resizing:  320 320\n",
            "resizing:  288 288\n",
            "resizing:  384 384\n",
            "resizing:  320 320\n",
            "resizing:  352 352\n",
            "resizing:  384 384\n",
            "resizing:  448 448\n",
            "resizing:  384 384\n",
            "resizing:  320 320\n",
            " - 30s - loss: 1.1707 - yolo_layer_1_loss: 0.7338 - yolo_layer_2_loss: 0.3448 - yolo_layer_3_loss: 0.0921\n",
            "\n",
            "Epoch 00010: loss did not improve from 1.08713\n",
            "Epoch 11/100\n",
            "resizing:  448 448\n",
            "resizing:  352 352\n",
            "resizing:  448 448\n",
            "resizing:  320 320\n",
            "resizing:  352 352\n",
            "resizing:  320 320\n",
            "resizing:  320 320\n",
            "resizing:  288 288\n",
            "resizing:  384 384\n",
            "resizing:  448 448\n",
            "resizing:  320 320\n",
            "resizing:  384 384\n",
            "resizing:  288 288\n",
            "resizing:  448 448\n",
            "resizing:  320 320\n",
            "resizing:  288 288\n",
            "resizing:  384 384\n",
            "resizing:  384 384\n",
            "resizing:  384 384\n",
            "resizing:  384 384\n",
            " - 30s - loss: 1.0993 - yolo_layer_1_loss: 0.6859 - yolo_layer_2_loss: 0.3484 - yolo_layer_3_loss: 0.0649\n",
            "\n",
            "Epoch 00011: loss did not improve from 1.08713\n",
            "\n",
            "Epoch 00011: ReduceLROnPlateau reducing learning rate to 9.999999747378752e-07.\n",
            "Epoch 12/100\n",
            "resizing:  384 384\n",
            "resizing:  384 384\n",
            "resizing:  448 448\n",
            "resizing:  416 416\n",
            "resizing:  320 320\n",
            "resizing:  448 448\n",
            "resizing:  352 352\n",
            "resizing:  288 288\n",
            "resizing:  448 448\n",
            "resizing:  416 416\n",
            "resizing:  416 416\n",
            "resizing:  448 448\n",
            "resizing:  416 416\n",
            "resizing:  320 320\n",
            "resizing:  384 384\n",
            "resizing:  320 320\n",
            "resizing:  448 448\n",
            "resizing:  384 384\n",
            "resizing:  384 384\n",
            "resizing:  288 288\n",
            "resizing:  352 352\n",
            " - 31s - loss: 1.0074 - yolo_layer_1_loss: 0.6921 - yolo_layer_2_loss: 0.2886 - yolo_layer_3_loss: 0.0268\n",
            "\n",
            "Epoch 00012: loss improved from 1.08713 to 1.00744, saving model to raccoon.h5\n",
            "Epoch 13/100\n",
            "resizing:  288 288\n",
            "resizing:  288 288\n",
            "resizing:  352 352\n",
            "resizing:  288 288\n",
            "resizing:  352 352\n",
            "resizing:  448 448\n",
            "resizing:  352 352\n",
            "resizing:  288 288\n",
            "resizing:  288 288\n",
            "resizing:  448 448\n",
            "resizing:  448 448\n",
            "resizing:  448 448\n",
            "resizing:  320 320\n",
            "resizing:  416 416\n",
            "resizing:  416 416\n",
            "resizing:  448 448\n",
            "resizing:  384 384\n",
            "resizing:  384 384\n",
            "resizing:  320 320\n",
            "resizing:  448 448\n",
            "resizing:  352 352\n",
            " - 31s - loss: 1.0619 - yolo_layer_1_loss: 0.7359 - yolo_layer_2_loss: 0.2489 - yolo_layer_3_loss: 0.0771\n",
            "\n",
            "Epoch 00013: loss did not improve from 1.00744\n",
            "Epoch 14/100\n",
            "resizing:  416 416\n",
            "resizing:  288 288\n",
            "resizing:  384 384\n",
            "resizing:  384 384\n",
            "resizing:  352 352\n",
            "resizing:  288 288\n",
            "resizing:  416 416\n",
            "resizing:  384 384\n",
            "resizing:  448 448\n",
            "resizing:  448 448\n",
            "resizing:  320 320\n",
            "resizing:  352 352\n",
            "resizing:  416 416\n",
            "resizing:  384 384\n",
            "resizing:  320 320\n",
            "resizing:  384 384\n",
            "resizing:  416 416\n",
            "resizing:  320 320\n",
            "resizing:  352 352\n",
            "resizing:  416 416\n",
            "resizing:  416 416\n",
            " - 30s - loss: 1.1555 - yolo_layer_1_loss: 0.6868 - yolo_layer_2_loss: 0.4413 - yolo_layer_3_loss: 0.0274\n",
            "\n",
            "Epoch 00014: loss did not improve from 1.00744\n",
            "\n",
            "Epoch 00014: ReduceLROnPlateau reducing learning rate to 9.999999974752428e-08.\n",
            "Epoch 15/100\n",
            "resizing:  448 448\n",
            "resizing:  416 416\n",
            "resizing:  384 384\n",
            "resizing:  352 352\n",
            "resizing:  288 288\n",
            "resizing:  352 352\n",
            "resizing:  288 288\n",
            "resizing:  448 448\n",
            "resizing:  448 448\n",
            "resizing:  288 288\n",
            "resizing:  288 288\n",
            "resizing:  384 384\n",
            "resizing:  288 288\n",
            "resizing:  320 320\n",
            "resizing:  448 448\n",
            "resizing:  320 320\n",
            "resizing:  288 288\n",
            "resizing:  416 416\n",
            "resizing:  352 352\n",
            "resizing:  448 448\n",
            "resizing:  416 416\n",
            " - 30s - loss: 1.0565 - yolo_layer_1_loss: 0.6622 - yolo_layer_2_loss: 0.3406 - yolo_layer_3_loss: 0.0537\n",
            "\n",
            "Epoch 00015: loss did not improve from 1.00744\n",
            "Epoch 16/100\n",
            "resizing:  352 352\n",
            "resizing:  320 320\n",
            "resizing:  288 288\n",
            "resizing:  448 448\n",
            "resizing:  384 384\n",
            "resizing:  384 384\n",
            "resizing:  416 416\n",
            "resizing:  352 352\n",
            "resizing:  288 288\n",
            "resizing:  352 352\n",
            "resizing:  416 416\n",
            "resizing:  448 448\n",
            "resizing:  448 448\n",
            "resizing:  288 288\n",
            "resizing:  384 384\n",
            "resizing:  384 384\n",
            "resizing:  416 416\n",
            "resizing:  320 320\n",
            "resizing:  288 288\n",
            "resizing:  416 416\n",
            "resizing:  416 416\n",
            "resizing:  320 320\n",
            "resizing:  416 416\n",
            " - 31s - loss: 1.0677 - yolo_layer_1_loss: 0.6900 - yolo_layer_2_loss: 0.3126 - yolo_layer_3_loss: 0.0651\n",
            "\n",
            "Epoch 00016: loss did not improve from 1.00744\n",
            "\n",
            "Epoch 00016: ReduceLROnPlateau reducing learning rate to 1.0000000116860975e-08.\n",
            "Epoch 17/100\n",
            "resizing:  288 288\n",
            "resizing:  352 352\n",
            "resizing:  352 352\n",
            "resizing:  352 352\n",
            "resizing:  384 384\n",
            "resizing:  352 352\n",
            "resizing:  384 384\n",
            "resizing:  448 448\n",
            "resizing:  320 320\n",
            "resizing:  448 448\n",
            "resizing:  288 288\n",
            "resizing:  384 384\n",
            "resizing:  448 448\n",
            "resizing:  416 416\n",
            "resizing:  448 448\n",
            "resizing:  448 448\n",
            "resizing:  288 288\n",
            "resizing:  384 384\n",
            "resizing:  320 320\n",
            "resizing:  352 352\n",
            "resizing:  352 352\n",
            " - 31s - loss: 1.0386 - yolo_layer_1_loss: 0.7236 - yolo_layer_2_loss: 0.2770 - yolo_layer_3_loss: 0.0380\n",
            "\n",
            "Epoch 00017: loss did not improve from 1.00744\n",
            "Epoch 18/100\n",
            "resizing:  384 384\n",
            "resizing:  320 320\n",
            "resizing:  416 416\n",
            "resizing:  320 320\n",
            "resizing:  384 384\n",
            "resizing:  352 352\n",
            "resizing:  448 448\n",
            "resizing:  320 320\n",
            "resizing:  320 320\n",
            "resizing:  352 352\n",
            "resizing:  320 320\n",
            "resizing:  288 288\n",
            "resizing:  320 320\n",
            "resizing:  352 352\n",
            "resizing:  320 320\n",
            "resizing:  288 288\n",
            "resizing:  352 352\n",
            "resizing:  384 384\n",
            "resizing:  416 416\n",
            "resizing:  288 288\n",
            "resizing:  352 352\n",
            " - 29s - loss: 1.3291 - yolo_layer_1_loss: 0.7187 - yolo_layer_2_loss: 0.5020 - yolo_layer_3_loss: 0.1084\n",
            "\n",
            "Epoch 00018: loss did not improve from 1.00744\n",
            "\n",
            "Epoch 00018: ReduceLROnPlateau reducing learning rate to 9.999999939225292e-10.\n",
            "Epoch 19/100\n",
            "resizing:  416 416\n",
            "resizing:  320 320\n",
            "resizing:  320 320\n",
            "resizing:  320 320\n",
            "resizing:  416 416\n",
            "resizing:  288 288\n",
            "resizing:  416 416\n",
            "resizing:  448 448\n",
            "resizing:  448 448\n",
            "resizing:  448 448\n",
            "resizing:  288 288\n",
            "resizing:  320 320\n",
            "resizing:  320 320\n",
            "resizing:  384 384\n",
            "resizing:  288 288\n",
            "resizing:  416 416\n",
            "resizing:  448 448\n",
            "resizing:  320 320\n",
            " - 30s - loss: 1.1222 - yolo_layer_1_loss: 0.7266 - yolo_layer_2_loss: 0.3289 - yolo_layer_3_loss: 0.0667\n",
            "\n",
            "Epoch 00019: loss did not improve from 1.00744\n",
            "Epoch 00019: early stopping\n",
            "raccoon: 1.0000\n",
            "mAP: 1.0000\n"
          ],
          "name": "stdout"
        }
      ]
    },
    {
      "cell_type": "code",
      "metadata": {
        "id": "3WvcmOsvlcKR",
        "colab_type": "code",
        "colab": {
          "base_uri": "https://localhost:8080/",
          "height": 372
        },
        "outputId": "44c15967-f32e-41a4-99e5-279e38fba503"
      },
      "source": [
        "!nvidia-smi\n"
      ],
      "execution_count": 26,
      "outputs": [
        {
          "output_type": "stream",
          "text": [
            "Wed Jun 24 05:06:50 2020       \n",
            "+-----------------------------------------------------------------------------+\n",
            "| NVIDIA-SMI 450.36.06    Driver Version: 418.67       CUDA Version: 10.1     |\n",
            "|-------------------------------+----------------------+----------------------+\n",
            "| GPU  Name        Persistence-M| Bus-Id        Disp.A | Volatile Uncorr. ECC |\n",
            "| Fan  Temp  Perf  Pwr:Usage/Cap|         Memory-Usage | GPU-Util  Compute M. |\n",
            "|                               |                      |               MIG M. |\n",
            "|===============================+======================+======================|\n",
            "|   0  Tesla P100-PCIE...  Off  | 00000000:00:04.0 Off |                    0 |\n",
            "| N/A   38C    P0    28W / 250W |      0MiB / 16280MiB |      0%      Default |\n",
            "|                               |                      |                 ERR! |\n",
            "+-------------------------------+----------------------+----------------------+\n",
            "                                                                               \n",
            "+-----------------------------------------------------------------------------+\n",
            "| Processes:                                                                  |\n",
            "|  GPU   GI   CI        PID   Type   Process name                  GPU Memory |\n",
            "|        ID   ID                                                   Usage      |\n",
            "|=============================================================================|\n",
            "|  No running processes found                                                 |\n",
            "+-----------------------------------------------------------------------------+\n"
          ],
          "name": "stdout"
        }
      ]
    },
    {
      "cell_type": "code",
      "metadata": {
        "id": "kqiFh9W8ocst",
        "colab_type": "code",
        "colab": {}
      },
      "source": [
        ""
      ],
      "execution_count": null,
      "outputs": []
    }
  ]
}