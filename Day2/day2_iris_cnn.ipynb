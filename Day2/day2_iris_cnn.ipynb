{
  "nbformat": 4,
  "nbformat_minor": 0,
  "metadata": {
    "colab": {
      "name": "iris_cnn.ipynb",
      "provenance": [],
      "collapsed_sections": []
    },
    "kernelspec": {
      "name": "python3",
      "display_name": "Python 3"
    }
  },
  "cells": [
    {
      "cell_type": "markdown",
      "metadata": {
        "id": "5TzdGBkEtoXy",
        "colab_type": "text"
      },
      "source": [
        "# iris_cnn\n",
        "\n"
      ]
    },
    {
      "cell_type": "code",
      "metadata": {
        "id": "lYsbnMNQH5vB",
        "colab_type": "code",
        "colab": {
          "base_uri": "https://localhost:8080/",
          "height": 34
        },
        "outputId": "0e72d56f-69d7-48ff-c70d-179b83da4c56"
      },
      "source": [
        "%tensorflow_version 1.x"
      ],
      "execution_count": 1,
      "outputs": [
        {
          "output_type": "stream",
          "text": [
            "TensorFlow 1.x selected.\n"
          ],
          "name": "stdout"
        }
      ]
    },
    {
      "cell_type": "code",
      "metadata": {
        "id": "8QWhBiz9rICw",
        "colab_type": "code",
        "colab": {}
      },
      "source": [
        "import numpy as np\n",
        "import pandas as pd\n",
        "import matplotlib.pyplot as plt\n",
        "\n",
        "import tensorflow as tf\n",
        "\n",
        "from tensorflow import keras\n",
        "from tensorflow.keras import optimizers\n",
        "# from tensorflow.keras.layers import Dense\n",
        "from tensorflow.keras.layers import Dense, Conv1D, Flatten"
      ],
      "execution_count": 2,
      "outputs": []
    },
    {
      "cell_type": "code",
      "metadata": {
        "id": "jowO-zmzrObJ",
        "colab_type": "code",
        "colab": {
          "base_uri": "https://localhost:8080/",
          "height": 210
        },
        "outputId": "94c6edd2-ac0f-46b3-da0a-f64c7eb59ae2"
      },
      "source": [
        "!wget https://raw.githubusercontent.com/dhrim/wiset_2020_06/master/material/deep_learning/iris_with_category_index.csv\n",
        "  "
      ],
      "execution_count": 4,
      "outputs": [
        {
          "output_type": "stream",
          "text": [
            "--2020-06-22 08:24:17--  https://raw.githubusercontent.com/dhrim/wiset_2020_06/master/material/deep_learning/iris_with_category_index.csv\n",
            "Resolving raw.githubusercontent.com (raw.githubusercontent.com)... 151.101.0.133, 151.101.64.133, 151.101.128.133, ...\n",
            "Connecting to raw.githubusercontent.com (raw.githubusercontent.com)|151.101.0.133|:443... connected.\n",
            "HTTP request sent, awaiting response... 200 OK\n",
            "Length: 2218 (2.2K) [text/plain]\n",
            "Saving to: ‘iris_with_category_index.csv’\n",
            "\n",
            "\r          iris_with   0%[                    ]       0  --.-KB/s               \riris_with_category_ 100%[===================>]   2.17K  --.-KB/s    in 0s      \n",
            "\n",
            "2020-06-22 08:24:17 (11.9 MB/s) - ‘iris_with_category_index.csv’ saved [2218/2218]\n",
            "\n"
          ],
          "name": "stdout"
        }
      ]
    },
    {
      "cell_type": "code",
      "metadata": {
        "id": "95dRpZwmrirs",
        "colab_type": "code",
        "colab": {
          "base_uri": "https://localhost:8080/",
          "height": 195
        },
        "outputId": "aa66d244-421c-44fa-c4cd-e1cd485a9f02"
      },
      "source": [
        "iris = pd.read_csv(\"iris_with_category_index.csv\")\n",
        "iris.head()"
      ],
      "execution_count": 5,
      "outputs": [
        {
          "output_type": "execute_result",
          "data": {
            "text/html": [
              "<div>\n",
              "<style scoped>\n",
              "    .dataframe tbody tr th:only-of-type {\n",
              "        vertical-align: middle;\n",
              "    }\n",
              "\n",
              "    .dataframe tbody tr th {\n",
              "        vertical-align: top;\n",
              "    }\n",
              "\n",
              "    .dataframe thead th {\n",
              "        text-align: right;\n",
              "    }\n",
              "</style>\n",
              "<table border=\"1\" class=\"dataframe\">\n",
              "  <thead>\n",
              "    <tr style=\"text-align: right;\">\n",
              "      <th></th>\n",
              "      <th>septal_length</th>\n",
              "      <th>septal_width</th>\n",
              "      <th>petal_length</th>\n",
              "      <th>petal_width</th>\n",
              "      <th>class</th>\n",
              "    </tr>\n",
              "  </thead>\n",
              "  <tbody>\n",
              "    <tr>\n",
              "      <th>0</th>\n",
              "      <td>6.4</td>\n",
              "      <td>2.8</td>\n",
              "      <td>5.6</td>\n",
              "      <td>2.2</td>\n",
              "      <td>2</td>\n",
              "    </tr>\n",
              "    <tr>\n",
              "      <th>1</th>\n",
              "      <td>5.0</td>\n",
              "      <td>2.3</td>\n",
              "      <td>3.3</td>\n",
              "      <td>1.0</td>\n",
              "      <td>1</td>\n",
              "    </tr>\n",
              "    <tr>\n",
              "      <th>2</th>\n",
              "      <td>4.9</td>\n",
              "      <td>2.5</td>\n",
              "      <td>4.5</td>\n",
              "      <td>1.7</td>\n",
              "      <td>2</td>\n",
              "    </tr>\n",
              "    <tr>\n",
              "      <th>3</th>\n",
              "      <td>4.9</td>\n",
              "      <td>3.1</td>\n",
              "      <td>1.5</td>\n",
              "      <td>0.1</td>\n",
              "      <td>0</td>\n",
              "    </tr>\n",
              "    <tr>\n",
              "      <th>4</th>\n",
              "      <td>5.7</td>\n",
              "      <td>3.8</td>\n",
              "      <td>1.7</td>\n",
              "      <td>0.3</td>\n",
              "      <td>0</td>\n",
              "    </tr>\n",
              "  </tbody>\n",
              "</table>\n",
              "</div>"
            ],
            "text/plain": [
              "   septal_length  septal_width  petal_length  petal_width  class\n",
              "0            6.4           2.8           5.6          2.2      2\n",
              "1            5.0           2.3           3.3          1.0      1\n",
              "2            4.9           2.5           4.5          1.7      2\n",
              "3            4.9           3.1           1.5          0.1      0\n",
              "4            5.7           3.8           1.7          0.3      0"
            ]
          },
          "metadata": {
            "tags": []
          },
          "execution_count": 5
        }
      ]
    },
    {
      "cell_type": "code",
      "metadata": {
        "id": "P5OBkri2ssI2",
        "colab_type": "code",
        "colab": {
          "base_uri": "https://localhost:8080/",
          "height": 122
        },
        "outputId": "39148a34-ce53-42bf-ddf4-fd039d3c1f10"
      },
      "source": [
        "data = iris.to_numpy()\n",
        "print(data.shape)\n",
        "print(data[:5])"
      ],
      "execution_count": 6,
      "outputs": [
        {
          "output_type": "stream",
          "text": [
            "(120, 5)\n",
            "[[6.4 2.8 5.6 2.2 2. ]\n",
            " [5.  2.3 3.3 1.  1. ]\n",
            " [4.9 2.5 4.5 1.7 2. ]\n",
            " [4.9 3.1 1.5 0.1 0. ]\n",
            " [5.7 3.8 1.7 0.3 0. ]]\n"
          ],
          "name": "stdout"
        }
      ]
    },
    {
      "cell_type": "code",
      "metadata": {
        "id": "64VZ6W65sg5H",
        "colab_type": "code",
        "colab": {
          "base_uri": "https://localhost:8080/",
          "height": 122
        },
        "outputId": "28f110fd-818f-4187-90af-64a7bdddac1b"
      },
      "source": [
        "x = data[:,:4]\n",
        "y = data[:,4:]\n",
        "\n",
        "split_index = 100\n",
        "\n",
        "train_x, test_x = x[:split_index], x[split_index:]\n",
        "train_y, test_y = y[:split_index], y[split_index:]\n",
        "\n",
        "print(train_x.shape)\n",
        "print(train_y.shape)\n",
        "print(test_x.shape)\n",
        "print(test_y.shape)\n",
        "\n",
        "train_x = np.reshape(train_x, (100, 4, 1))  # ADD\n",
        "test_x = np.reshape(test_x, (20, 4, 1))     # ADD\n",
        "\n",
        "print(train_x.shape)  # ADD\n",
        "print(test_x.shape)   # ADD\n"
      ],
      "execution_count": 7,
      "outputs": [
        {
          "output_type": "stream",
          "text": [
            "(100, 4)\n",
            "(100, 1)\n",
            "(20, 4)\n",
            "(20, 1)\n",
            "(100, 4, 1)\n",
            "(20, 4, 1)\n"
          ],
          "name": "stdout"
        }
      ]
    },
    {
      "cell_type": "code",
      "metadata": {
        "id": "0SwCtBLbtCgt",
        "colab_type": "code",
        "colab": {
          "base_uri": "https://localhost:8080/",
          "height": 459
        },
        "outputId": "23e79723-8151-4c62-983e-cfef25c26449"
      },
      "source": [
        "model = keras.Sequential()\n",
        "model.add(Conv1D(4, 3, activation='relu', input_shape=(4,1))) # ADD  activation-'relu' 는 1D 이므로 없어도 되는 부분. 근데 있어도 에러가 안났음\n",
        "model.add(Flatten())  # ADD\n",
        "# model.add(Dense(10, activation='relu', input_shape=(4,)))\n",
        "model.add(Dense(10, activation='relu')) # modify\n",
        "model.add(Dense(10, activation='relu'))\n",
        "model.add(Dense(3, activation=\"softmax\")) # 1이 아니고 클래스 수 3이다\n",
        "\n",
        "model.compile(optimizer=\"SGD\", loss=\"sparse_categorical_crossentropy\", metrics=[\"accuracy\"])\n",
        "model.summary()\n",
        "\n",
        "model.fit(train_x, train_y, epochs=1000, verbose=0, batch_size=20)\n",
        "\n",
        "loss, acc = model.evaluate(test_x, test_y)\n",
        "print(\"loss=\", loss)\n",
        "print(\"acc=\", acc)\n"
      ],
      "execution_count": 8,
      "outputs": [
        {
          "output_type": "stream",
          "text": [
            "WARNING:tensorflow:From /tensorflow-1.15.2/python3.6/tensorflow_core/python/ops/resource_variable_ops.py:1630: calling BaseResourceVariable.__init__ (from tensorflow.python.ops.resource_variable_ops) with constraint is deprecated and will be removed in a future version.\n",
            "Instructions for updating:\n",
            "If using Keras pass *_constraint arguments to layers.\n",
            "Model: \"sequential\"\n",
            "_________________________________________________________________\n",
            "Layer (type)                 Output Shape              Param #   \n",
            "=================================================================\n",
            "conv1d (Conv1D)              (None, 2, 4)              16        \n",
            "_________________________________________________________________\n",
            "flatten (Flatten)            (None, 8)                 0         \n",
            "_________________________________________________________________\n",
            "dense (Dense)                (None, 10)                90        \n",
            "_________________________________________________________________\n",
            "dense_1 (Dense)              (None, 10)                110       \n",
            "_________________________________________________________________\n",
            "dense_2 (Dense)              (None, 3)                 33        \n",
            "=================================================================\n",
            "Total params: 249\n",
            "Trainable params: 249\n",
            "Non-trainable params: 0\n",
            "_________________________________________________________________\n",
            "20/20 [==============================] - 0s 2ms/sample - loss: 0.0560 - acc: 0.9500\n",
            "loss= 0.055983804166316986\n",
            "acc= 0.95\n"
          ],
          "name": "stdout"
        }
      ]
    },
    {
      "cell_type": "code",
      "metadata": {
        "id": "UbanwtJYuU3z",
        "colab_type": "code",
        "colab": {
          "base_uri": "https://localhost:8080/",
          "height": 386
        },
        "outputId": "f9263d1a-f9df-4958-9530-a56b88446c85"
      },
      "source": [
        "y_ = model.predict(test_x)\n",
        "print(y_)\n",
        "print(np.argmax(y_, axis=1))"
      ],
      "execution_count": 9,
      "outputs": [
        {
          "output_type": "stream",
          "text": [
            "[[9.9922991e-01 7.7004876e-04 4.4361993e-11]\n",
            " [5.3430619e-03 9.9458319e-01 7.3718111e-05]\n",
            " [9.9801922e-01 1.9807674e-03 8.5626617e-10]\n",
            " [2.7312705e-04 9.9965060e-01 7.6270779e-05]\n",
            " [9.9908340e-01 9.1657741e-04 4.9820398e-11]\n",
            " [9.9956065e-01 4.3929275e-04 6.3868993e-12]\n",
            " [9.9960297e-01 3.9709502e-04 3.7614178e-12]\n",
            " [9.9945611e-01 5.4383784e-04 1.0488147e-11]\n",
            " [7.8068785e-03 9.9216652e-01 2.6653775e-05]\n",
            " [9.9838138e-01 1.6185682e-03 1.2488670e-10]\n",
            " [2.6257758e-05 6.3346744e-01 3.6650631e-01]\n",
            " [3.6416494e-04 9.9909377e-01 5.4204097e-04]\n",
            " [9.9885201e-01 1.1479990e-03 6.4390854e-11]\n",
            " [1.1358751e-06 6.6246629e-02 9.3375224e-01]\n",
            " [9.9919754e-01 8.0242421e-04 6.4661040e-11]\n",
            " [5.9844519e-05 9.8063570e-01 1.9304480e-02]\n",
            " [2.0107500e-04 9.9953341e-01 2.6544381e-04]\n",
            " [9.9810779e-01 1.8921619e-03 4.0259540e-10]\n",
            " [9.9907589e-01 9.2409586e-04 5.2082030e-11]\n",
            " [1.3248803e-03 9.9862206e-01 5.3106560e-05]]\n",
            "[0 1 0 1 0 0 0 0 1 0 1 1 0 2 0 1 1 0 0 1]\n"
          ],
          "name": "stdout"
        }
      ]
    },
    {
      "cell_type": "code",
      "metadata": {
        "id": "5CyFXhlrubUQ",
        "colab_type": "code",
        "colab": {}
      },
      "source": [
        ""
      ],
      "execution_count": null,
      "outputs": []
    }
  ]
}