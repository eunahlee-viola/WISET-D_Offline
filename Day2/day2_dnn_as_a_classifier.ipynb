{
  "nbformat": 4,
  "nbformat_minor": 0,
  "metadata": {
    "colab": {
      "name": "dnn_as_a_classifier.ipynb",
      "provenance": [],
      "toc_visible": true
    },
    "kernelspec": {
      "name": "python3",
      "display_name": "Python 3"
    }
  },
  "cells": [
    {
      "cell_type": "markdown",
      "metadata": {
        "id": "bCKgjM9-xygH",
        "colab_type": "text"
      },
      "source": [
        "# 분류기로서의 DNN"
      ]
    },
    {
      "cell_type": "code",
      "metadata": {
        "id": "J3aftQjkbGFg",
        "colab_type": "code",
        "colab": {
          "base_uri": "https://localhost:8080/",
          "height": 34
        },
        "outputId": "bb09d431-efb2-48c0-8e98-938fe2681ad7"
      },
      "source": [
        "%tensorflow_version 1.x\n"
      ],
      "execution_count": 12,
      "outputs": [
        {
          "output_type": "stream",
          "text": [
            "TensorFlow is already loaded. Please restart the runtime to change versions.\n"
          ],
          "name": "stdout"
        }
      ]
    },
    {
      "cell_type": "code",
      "metadata": {
        "id": "etOyOaq6xxHv",
        "colab_type": "code",
        "colab": {}
      },
      "source": [
        "import numpy as np\n",
        "import pandas as pd\n",
        "\n",
        "import tensorflow as tf\n",
        "from tensorflow import keras\n",
        "\n",
        "import numpy as np\n",
        "import matplotlib.pyplot as plt\n",
        "\n",
        "import time"
      ],
      "execution_count": 1,
      "outputs": []
    },
    {
      "cell_type": "code",
      "metadata": {
        "id": "OmBdLDqix7Jh",
        "colab_type": "code",
        "colab": {}
      },
      "source": [
        "def build_square_data(all_low, all_high, square_low, square_high, zero_count, one_count):\n",
        "\n",
        "  x1 = np.random.rand(one_count)\n",
        "  x1 = x1*(square_high-square_low) + square_low\n",
        "\n",
        "  x0 = np.random.rand(zero_count*100)\n",
        "  x0 = x0[ (x0<square_low) | (square_high<x0) ]\n",
        "  x0 = x0[:zero_count]\n",
        "\n",
        "  x = np.append(x1, x0)\n",
        "\n",
        "  plt.hist(x)\n",
        "  plt.xlim(0, 1)\n",
        "  plt.show()\n",
        "\n",
        "  # 범위 안의 것을 1, 범위 밖의 것을 0으로 하고\n",
        "  all_data = np.ones((len(x),2))\n",
        "  all_data[:,0] = x\n",
        "\n",
        "  all_data[:len(x1),1] = 1\n",
        "  all_data[len(x1):,1] = 0\n",
        "\n",
        "  # 섞는다\n",
        "  np.random.shuffle(all_data)\n",
        "\n",
        "  # x, y로 분리하고\n",
        "  x = all_data[:,0]\n",
        "  y = all_data[:,1]\n",
        "\n",
        "  plt.xlim(0, 1)\n",
        "\n",
        "  plt.scatter(x, y)\n",
        "\n",
        "  return x, y"
      ],
      "execution_count": 2,
      "outputs": []
    },
    {
      "cell_type": "markdown",
      "metadata": {
        "id": "HJ5rov-EyCN4",
        "colab_type": "text"
      },
      "source": [
        "# 네모 함수의 학습\n",
        "\n",
        "특정 영역은 1, 이외의 영역은 0을 출력\n",
        "\n",
        "1개의 출력 노드를 갖는다."
      ]
    },
    {
      "cell_type": "code",
      "metadata": {
        "id": "10wyiaaEx_Eo",
        "colab_type": "code",
        "colab": {
          "base_uri": "https://localhost:8080/",
          "height": 513
        },
        "outputId": "3d759da1-952d-4bcd-a40b-a8081127f1c5"
      },
      "source": [
        "all_low = 0\n",
        "all_high = 1\n",
        "square_low = 0.5\n",
        "square_high = 0.6\n",
        "zero_count = 10000\n",
        "one_count = 10000\n",
        "\n",
        "train_x, train_y = build_square_data(all_low, all_high, square_low, square_high, zero_count, one_count)"
      ],
      "execution_count": 3,
      "outputs": [
        {
          "output_type": "display_data",
          "data": {
            "image/png": "[encoded data removed]",
            "text/plain": [
              "<Figure size 432x288 with 1 Axes>"
            ]
          },
          "metadata": {
            "tags": [],
            "needs_background": "light"
          }
        },
        {
          "output_type": "display_data",
          "data": {
            "image/png": "[encoded data removed]",
            "text/plain": [
              "<Figure size 432x288 with 1 Axes>"
            ]
          },
          "metadata": {
            "tags": [],
            "needs_background": "light"
          }
        }
      ]
    },
    {
      "cell_type": "code",
      "metadata": {
        "id": "K7fuP8OIyJBP",
        "colab_type": "code",
        "colab": {
          "base_uri": "https://localhost:8080/",
          "height": 3802
        },
        "outputId": "b305052e-31a4-44c0-9f74-64084eaf65e3"
      },
      "source": [
        "from tensorflow import keras\n",
        "from tensorflow.keras import optimizers\n",
        "from tensorflow.keras.layers import Dense\n",
        "from tensorflow.keras.optimizers import SGD\n",
        "\n",
        "\n",
        "model = keras.Sequential()\n",
        "model.add(Dense(10, activation='relu', input_shape=(1,)))\n",
        "model.add(Dense(10, activation='relu'))\n",
        "model.add(Dense(10, activation='relu'))\n",
        "model.add(Dense(1, activation=\"sigmoid\"))\n",
        "\n",
        "\n",
        "model.compile(optimizer=\"SGD\", loss=\"mse\")\n",
        "model.fit(train_x, train_y, epochs=100, verbose=1, batch_size=128, validation_split=0.1)\n",
        "\n",
        "x_ = np.arange(all_low, all_high, 0.01)\n",
        "y_ = model.predict(x_)\n",
        "plt.scatter(x_, y_)"
      ],
      "execution_count": 5,
      "outputs": [
        {
          "output_type": "stream",
          "text": [
            "Epoch 1/100\n",
            "141/141 [==============================] - 0s 2ms/step - loss: 0.2513 - val_loss: 0.2500\n",
            "Epoch 2/100\n",
            "141/141 [==============================] - 0s 1ms/step - loss: 0.2477 - val_loss: 0.2468\n",
            "Epoch 3/100\n",
            "141/141 [==============================] - 0s 2ms/step - loss: 0.2465 - val_loss: 0.2460\n",
            "Epoch 4/100\n",
            "141/141 [==============================] - 0s 1ms/step - loss: 0.2457 - val_loss: 0.2452\n",
            "Epoch 5/100\n",
            "141/141 [==============================] - 0s 1ms/step - loss: 0.2449 - val_loss: 0.2444\n",
            "Epoch 6/100\n",
            "141/141 [==============================] - 0s 1ms/step - loss: 0.2440 - val_loss: 0.2435\n",
            "Epoch 7/100\n",
            "141/141 [==============================] - 0s 2ms/step - loss: 0.2431 - val_loss: 0.2425\n",
            "Epoch 8/100\n",
            "141/141 [==============================] - 0s 2ms/step - loss: 0.2421 - val_loss: 0.2415\n",
            "Epoch 9/100\n",
            "141/141 [==============================] - 0s 1ms/step - loss: 0.2410 - val_loss: 0.2403\n",
            "Epoch 10/100\n",
            "141/141 [==============================] - 0s 2ms/step - loss: 0.2397 - val_loss: 0.2390\n",
            "Epoch 11/100\n",
            "141/141 [==============================] - 0s 1ms/step - loss: 0.2383 - val_loss: 0.2377\n",
            "Epoch 12/100\n",
            "141/141 [==============================] - 0s 2ms/step - loss: 0.2370 - val_loss: 0.2363\n",
            "Epoch 13/100\n",
            "141/141 [==============================] - 0s 2ms/step - loss: 0.2356 - val_loss: 0.2349\n",
            "Epoch 14/100\n",
            "141/141 [==============================] - 0s 1ms/step - loss: 0.2341 - val_loss: 0.2333\n",
            "Epoch 15/100\n",
            "141/141 [==============================] - 0s 1ms/step - loss: 0.2325 - val_loss: 0.2316\n",
            "Epoch 16/100\n",
            "141/141 [==============================] - 0s 1ms/step - loss: 0.2307 - val_loss: 0.2298\n",
            "Epoch 17/100\n",
            "141/141 [==============================] - 0s 1ms/step - loss: 0.2289 - val_loss: 0.2279\n",
            "Epoch 18/100\n",
            "141/141 [==============================] - 0s 1ms/step - loss: 0.2268 - val_loss: 0.2257\n",
            "Epoch 19/100\n",
            "141/141 [==============================] - 0s 1ms/step - loss: 0.2246 - val_loss: 0.2234\n",
            "Epoch 20/100\n",
            "141/141 [==============================] - 0s 2ms/step - loss: 0.2221 - val_loss: 0.2208\n",
            "Epoch 21/100\n",
            "141/141 [==============================] - 0s 2ms/step - loss: 0.2194 - val_loss: 0.2181\n",
            "Epoch 22/100\n",
            "141/141 [==============================] - 0s 1ms/step - loss: 0.2165 - val_loss: 0.2150\n",
            "Epoch 23/100\n",
            "141/141 [==============================] - 0s 1ms/step - loss: 0.2132 - val_loss: 0.2117\n",
            "Epoch 24/100\n",
            "141/141 [==============================] - 0s 1ms/step - loss: 0.2097 - val_loss: 0.2080\n",
            "Epoch 25/100\n",
            "141/141 [==============================] - 0s 1ms/step - loss: 0.2059 - val_loss: 0.2041\n",
            "Epoch 26/100\n",
            "141/141 [==============================] - 0s 2ms/step - loss: 0.2018 - val_loss: 0.1998\n",
            "Epoch 27/100\n",
            "141/141 [==============================] - 0s 1ms/step - loss: 0.1973 - val_loss: 0.1952\n",
            "Epoch 28/100\n",
            "141/141 [==============================] - 0s 1ms/step - loss: 0.1925 - val_loss: 0.1903\n",
            "Epoch 29/100\n",
            "141/141 [==============================] - 0s 1ms/step - loss: 0.1874 - val_loss: 0.1851\n",
            "Epoch 30/100\n",
            "141/141 [==============================] - 0s 1ms/step - loss: 0.1820 - val_loss: 0.1796\n",
            "Epoch 31/100\n",
            "141/141 [==============================] - 0s 1ms/step - loss: 0.1764 - val_loss: 0.1739\n",
            "Epoch 32/100\n",
            "141/141 [==============================] - 0s 1ms/step - loss: 0.1704 - val_loss: 0.1678\n",
            "Epoch 33/100\n",
            "141/141 [==============================] - 0s 1ms/step - loss: 0.1644 - val_loss: 0.1617\n",
            "Epoch 34/100\n",
            "141/141 [==============================] - 0s 1ms/step - loss: 0.1581 - val_loss: 0.1555\n",
            "Epoch 35/100\n",
            "141/141 [==============================] - 0s 1ms/step - loss: 0.1518 - val_loss: 0.1492\n",
            "Epoch 36/100\n",
            "141/141 [==============================] - 0s 1ms/step - loss: 0.1455 - val_loss: 0.1430\n",
            "Epoch 37/100\n",
            "141/141 [==============================] - 0s 1ms/step - loss: 0.1392 - val_loss: 0.1368\n",
            "Epoch 38/100\n",
            "141/141 [==============================] - 0s 2ms/step - loss: 0.1331 - val_loss: 0.1308\n",
            "Epoch 39/100\n",
            "141/141 [==============================] - 0s 1ms/step - loss: 0.1271 - val_loss: 0.1250\n",
            "Epoch 40/100\n",
            "141/141 [==============================] - 0s 1ms/step - loss: 0.1213 - val_loss: 0.1193\n",
            "Epoch 41/100\n",
            "141/141 [==============================] - 0s 1ms/step - loss: 0.1158 - val_loss: 0.1139\n",
            "Epoch 42/100\n",
            "141/141 [==============================] - 0s 1ms/step - loss: 0.1105 - val_loss: 0.1088\n",
            "Epoch 43/100\n",
            "141/141 [==============================] - 0s 1ms/step - loss: 0.1055 - val_loss: 0.1040\n",
            "Epoch 44/100\n",
            "141/141 [==============================] - 0s 1ms/step - loss: 0.1008 - val_loss: 0.0996\n",
            "Epoch 45/100\n",
            "141/141 [==============================] - 0s 2ms/step - loss: 0.0964 - val_loss: 0.0953\n",
            "Epoch 46/100\n",
            "141/141 [==============================] - 0s 2ms/step - loss: 0.0923 - val_loss: 0.0913\n",
            "Epoch 47/100\n",
            "141/141 [==============================] - 0s 1ms/step - loss: 0.0885 - val_loss: 0.0877\n",
            "Epoch 48/100\n",
            "141/141 [==============================] - 0s 1ms/step - loss: 0.0849 - val_loss: 0.0843\n",
            "Epoch 49/100\n",
            "141/141 [==============================] - 0s 1ms/step - loss: 0.0816 - val_loss: 0.0810\n",
            "Epoch 50/100\n",
            "141/141 [==============================] - 0s 1ms/step - loss: 0.0785 - val_loss: 0.0780\n",
            "Epoch 51/100\n",
            "141/141 [==============================] - 0s 1ms/step - loss: 0.0756 - val_loss: 0.0753\n",
            "Epoch 52/100\n",
            "141/141 [==============================] - 0s 2ms/step - loss: 0.0728 - val_loss: 0.0726\n",
            "Epoch 53/100\n",
            "141/141 [==============================] - 0s 1ms/step - loss: 0.0703 - val_loss: 0.0702\n",
            "Epoch 54/100\n",
            "141/141 [==============================] - 0s 1ms/step - loss: 0.0679 - val_loss: 0.0680\n",
            "Epoch 55/100\n",
            "141/141 [==============================] - 0s 1ms/step - loss: 0.0657 - val_loss: 0.0658\n",
            "Epoch 56/100\n",
            "141/141 [==============================] - 0s 1ms/step - loss: 0.0636 - val_loss: 0.0638\n",
            "Epoch 57/100\n",
            "141/141 [==============================] - 0s 1ms/step - loss: 0.0617 - val_loss: 0.0620\n",
            "Epoch 58/100\n",
            "141/141 [==============================] - 0s 2ms/step - loss: 0.0598 - val_loss: 0.0602\n",
            "Epoch 59/100\n",
            "141/141 [==============================] - 0s 1ms/step - loss: 0.0581 - val_loss: 0.0586\n",
            "Epoch 60/100\n",
            "141/141 [==============================] - 0s 1ms/step - loss: 0.0565 - val_loss: 0.0570\n",
            "Epoch 61/100\n",
            "141/141 [==============================] - 0s 1ms/step - loss: 0.0549 - val_loss: 0.0555\n",
            "Epoch 62/100\n",
            "141/141 [==============================] - 0s 1ms/step - loss: 0.0535 - val_loss: 0.0541\n",
            "Epoch 63/100\n",
            "141/141 [==============================] - 0s 1ms/step - loss: 0.0521 - val_loss: 0.0528\n",
            "Epoch 64/100\n",
            "141/141 [==============================] - 0s 1ms/step - loss: 0.0508 - val_loss: 0.0515\n",
            "Epoch 65/100\n",
            "141/141 [==============================] - 0s 1ms/step - loss: 0.0495 - val_loss: 0.0504\n",
            "Epoch 66/100\n",
            "141/141 [==============================] - 0s 1ms/step - loss: 0.0483 - val_loss: 0.0493\n",
            "Epoch 67/100\n",
            "141/141 [==============================] - 0s 2ms/step - loss: 0.0472 - val_loss: 0.0481\n",
            "Epoch 68/100\n",
            "141/141 [==============================] - 0s 1ms/step - loss: 0.0461 - val_loss: 0.0472\n",
            "Epoch 69/100\n",
            "141/141 [==============================] - 0s 2ms/step - loss: 0.0451 - val_loss: 0.0462\n",
            "Epoch 70/100\n",
            "141/141 [==============================] - 0s 1ms/step - loss: 0.0442 - val_loss: 0.0452\n",
            "Epoch 71/100\n",
            "141/141 [==============================] - 0s 1ms/step - loss: 0.0432 - val_loss: 0.0443\n",
            "Epoch 72/100\n",
            "141/141 [==============================] - 0s 1ms/step - loss: 0.0423 - val_loss: 0.0434\n",
            "Epoch 73/100\n",
            "141/141 [==============================] - 0s 1ms/step - loss: 0.0415 - val_loss: 0.0426\n",
            "Epoch 74/100\n",
            "141/141 [==============================] - 0s 1ms/step - loss: 0.0407 - val_loss: 0.0419\n",
            "Epoch 75/100\n",
            "141/141 [==============================] - 0s 1ms/step - loss: 0.0399 - val_loss: 0.0411\n",
            "Epoch 76/100\n",
            "141/141 [==============================] - 0s 2ms/step - loss: 0.0391 - val_loss: 0.0403\n",
            "Epoch 77/100\n",
            "141/141 [==============================] - 0s 1ms/step - loss: 0.0384 - val_loss: 0.0397\n",
            "Epoch 78/100\n",
            "141/141 [==============================] - 0s 1ms/step - loss: 0.0377 - val_loss: 0.0390\n",
            "Epoch 79/100\n",
            "141/141 [==============================] - 0s 1ms/step - loss: 0.0370 - val_loss: 0.0385\n",
            "Epoch 80/100\n",
            "141/141 [==============================] - 0s 1ms/step - loss: 0.0364 - val_loss: 0.0377\n",
            "Epoch 81/100\n",
            "141/141 [==============================] - 0s 2ms/step - loss: 0.0358 - val_loss: 0.0372\n",
            "Epoch 82/100\n",
            "141/141 [==============================] - 0s 1ms/step - loss: 0.0352 - val_loss: 0.0367\n",
            "Epoch 83/100\n",
            "141/141 [==============================] - 0s 1ms/step - loss: 0.0346 - val_loss: 0.0360\n",
            "Epoch 84/100\n",
            "141/141 [==============================] - 0s 1ms/step - loss: 0.0341 - val_loss: 0.0354\n",
            "Epoch 85/100\n",
            "141/141 [==============================] - 0s 1ms/step - loss: 0.0335 - val_loss: 0.0349\n",
            "Epoch 86/100\n",
            "141/141 [==============================] - 0s 1ms/step - loss: 0.0330 - val_loss: 0.0345\n",
            "Epoch 87/100\n",
            "141/141 [==============================] - 0s 1ms/step - loss: 0.0325 - val_loss: 0.0339\n",
            "Epoch 88/100\n",
            "141/141 [==============================] - 0s 1ms/step - loss: 0.0320 - val_loss: 0.0334\n",
            "Epoch 89/100\n",
            "141/141 [==============================] - 0s 1ms/step - loss: 0.0316 - val_loss: 0.0329\n",
            "Epoch 90/100\n",
            "141/141 [==============================] - 0s 1ms/step - loss: 0.0311 - val_loss: 0.0325\n",
            "Epoch 91/100\n",
            "141/141 [==============================] - 0s 1ms/step - loss: 0.0307 - val_loss: 0.0320\n",
            "Epoch 92/100\n",
            "141/141 [==============================] - 0s 1ms/step - loss: 0.0302 - val_loss: 0.0317\n",
            "Epoch 93/100\n",
            "141/141 [==============================] - 0s 1ms/step - loss: 0.0298 - val_loss: 0.0312\n",
            "Epoch 94/100\n",
            "141/141 [==============================] - 0s 1ms/step - loss: 0.0294 - val_loss: 0.0308\n",
            "Epoch 95/100\n",
            "141/141 [==============================] - 0s 2ms/step - loss: 0.0290 - val_loss: 0.0304\n",
            "Epoch 96/100\n",
            "141/141 [==============================] - 0s 1ms/step - loss: 0.0287 - val_loss: 0.0300\n",
            "Epoch 97/100\n",
            "141/141 [==============================] - 0s 1ms/step - loss: 0.0283 - val_loss: 0.0297\n",
            "Epoch 98/100\n",
            "141/141 [==============================] - 0s 2ms/step - loss: 0.0279 - val_loss: 0.0293\n",
            "Epoch 99/100\n",
            "141/141 [==============================] - 0s 1ms/step - loss: 0.0276 - val_loss: 0.0289\n",
            "Epoch 100/100\n",
            "141/141 [==============================] - 0s 1ms/step - loss: 0.0273 - val_loss: 0.0286\n"
          ],
          "name": "stdout"
        },
        {
          "output_type": "execute_result",
          "data": {
            "text/plain": [
              "<matplotlib.collections.PathCollection at 0x7fd26557e0f0>"
            ]
          },
          "metadata": {
            "tags": []
          },
          "execution_count": 5
        },
        {
          "output_type": "display_data",
          "data": {
            "image/png": "[encoded data removed]",
            "text/plain": [
              "<Figure size 432x288 with 1 Axes>"
            ]
          },
          "metadata": {
            "tags": [],
            "needs_background": "light"
          }
        }
      ]
    },
    {
      "cell_type": "markdown",
      "metadata": {
        "id": "rKbC_Lnyyavy",
        "colab_type": "text"
      },
      "source": [
        "특정 패턴인 경우 1, 다른 경우인 경우 0으로 분류한다.\n",
        "\n",
        "출력된 값이 0.5보다 크면 1로, 0.5보다 작으면 0으로 간주한다."
      ]
    },
    {
      "cell_type": "markdown",
      "metadata": {
        "id": "xjdw0YWYzOzf",
        "colab_type": "text"
      },
      "source": [
        "# 클래스 2개, 출력 노드 2개\n",
        "\n",
        "분류 카테고리의 개수 대로 출력노드를 갖고, one-hot-encoding된 값을 출력하면, 변별력이 커진다."
      ]
    },
    {
      "cell_type": "code",
      "metadata": {
        "id": "2LM2kPa60My1",
        "colab_type": "code",
        "colab": {
          "base_uri": "https://localhost:8080/",
          "height": 513
        },
        "outputId": "098a518d-7a23-418e-bd60-676d2bd9051f"
      },
      "source": [
        "all_low = 0\n",
        "all_high = 1\n",
        "square_low = 0.5\n",
        "square_high = 0.6\n",
        "zero_count = 10000\n",
        "one_count = 10000\n",
        "\n",
        "train_x, train_y = build_square_data(all_low, all_high, square_low, square_high, zero_count, one_count)"
      ],
      "execution_count": 6,
      "outputs": [
        {
          "output_type": "display_data",
          "data": {
            "image/png": "[encoded data removed]",
            "text/plain": [
              "<Figure size 432x288 with 1 Axes>"
            ]
          },
          "metadata": {
            "tags": [],
            "needs_background": "light"
          }
        },
        {
          "output_type": "display_data",
          "data": {
            "image/png": "[encoded data removed]",
            "text/plain": [
              "<Figure size 432x288 with 1 Axes>"
            ]
          },
          "metadata": {
            "tags": [],
            "needs_background": "light"
          }
        }
      ]
    },
    {
      "cell_type": "code",
      "metadata": {
        "id": "PiFWYY4Z1B2D",
        "colab_type": "code",
        "colab": {}
      },
      "source": [
        "# ADD START\n",
        "reshaped_y = train_y.reshape((train_y.shape[0],1))\n",
        "train_y = np.append(reshaped_y, reshaped_y, axis=1)\n",
        "train_y[:,1] = 1-train_y[:,0]\n",
        "# ADD END"
      ],
      "execution_count": 8,
      "outputs": []
    },
    {
      "cell_type": "code",
      "metadata": {
        "id": "JaSmFCECWV98",
        "colab_type": "code",
        "colab": {
          "base_uri": "https://localhost:8080/",
          "height": 193
        },
        "outputId": "8aa65af2-bef5-4b08-e5dd-91e14d707c5f"
      },
      "source": [
        "print(train_y[:10])"
      ],
      "execution_count": 9,
      "outputs": [
        {
          "output_type": "stream",
          "text": [
            "[[0. 1.]\n",
            " [1. 0.]\n",
            " [1. 0.]\n",
            " [1. 0.]\n",
            " [1. 0.]\n",
            " [1. 0.]\n",
            " [1. 0.]\n",
            " [0. 1.]\n",
            " [0. 1.]\n",
            " [1. 0.]]\n"
          ],
          "name": "stdout"
        }
      ]
    },
    {
      "cell_type": "code",
      "metadata": {
        "id": "1yBDVshEyMxb",
        "colab_type": "code",
        "colab": {
          "base_uri": "https://localhost:8080/",
          "height": 3802
        },
        "outputId": "750d2f90-e90f-420f-b5b1-36e1d9d695f8"
      },
      "source": [
        "from tensorflow import keras\n",
        "from tensorflow.keras import optimizers\n",
        "from tensorflow.keras.layers import Dense\n",
        "from tensorflow.keras.optimizers import SGD\n",
        "\n",
        "\n",
        "model = keras.Sequential()\n",
        "model.add(Dense(10, activation='relu', input_shape=(1,)))\n",
        "model.add(Dense(10, activation='relu'))\n",
        "model.add(Dense(10, activation='relu'))\n",
        "# model.add(Dense(1))\n",
        "model.add(Dense(2))\n",
        "\n",
        "model.compile(optimizer=\"SGD\", loss=\"mse\")\n",
        "model.fit(train_x, train_y, epochs=100, verbose=1, batch_size=32, validation_split=0.1)\n",
        "\n",
        "x_ = np.arange(all_low, all_high, 0.01)\n",
        "y_ = model.predict(x_)\n",
        "plt.scatter(x_, y_[:,0])"
      ],
      "execution_count": 7,
      "outputs": [
        {
          "output_type": "stream",
          "text": [
            "Epoch 1/100\n",
            "563/563 [==============================] - 1s 1ms/step - loss: 0.2449 - val_loss: 0.2244\n",
            "Epoch 2/100\n",
            "563/563 [==============================] - 1s 1ms/step - loss: 0.2100 - val_loss: 0.1926\n",
            "Epoch 3/100\n",
            "563/563 [==============================] - 1s 1ms/step - loss: 0.1713 - val_loss: 0.1453\n",
            "Epoch 4/100\n",
            "563/563 [==============================] - 1s 1ms/step - loss: 0.1191 - val_loss: 0.0948\n",
            "Epoch 5/100\n",
            "563/563 [==============================] - 1s 1ms/step - loss: 0.0810 - val_loss: 0.0710\n",
            "Epoch 6/100\n",
            "563/563 [==============================] - 1s 1ms/step - loss: 0.0671 - val_loss: 0.0630\n",
            "Epoch 7/100\n",
            "563/563 [==============================] - 1s 1ms/step - loss: 0.0618 - val_loss: 0.0589\n",
            "Epoch 8/100\n",
            "563/563 [==============================] - 1s 1ms/step - loss: 0.0585 - val_loss: 0.0566\n",
            "Epoch 9/100\n",
            "563/563 [==============================] - 1s 1ms/step - loss: 0.0560 - val_loss: 0.0544\n",
            "Epoch 10/100\n",
            "563/563 [==============================] - 1s 1ms/step - loss: 0.0541 - val_loss: 0.0530\n",
            "Epoch 11/100\n",
            "563/563 [==============================] - 1s 1ms/step - loss: 0.0524 - val_loss: 0.0528\n",
            "Epoch 12/100\n",
            "563/563 [==============================] - 1s 1ms/step - loss: 0.0510 - val_loss: 0.0498\n",
            "Epoch 13/100\n",
            "563/563 [==============================] - 1s 1ms/step - loss: 0.0498 - val_loss: 0.0483\n",
            "Epoch 14/100\n",
            "563/563 [==============================] - 1s 1ms/step - loss: 0.0487 - val_loss: 0.0485\n",
            "Epoch 15/100\n",
            "563/563 [==============================] - 1s 1ms/step - loss: 0.0476 - val_loss: 0.0461\n",
            "Epoch 16/100\n",
            "563/563 [==============================] - 1s 1ms/step - loss: 0.0466 - val_loss: 0.0455\n",
            "Epoch 17/100\n",
            "563/563 [==============================] - 1s 1ms/step - loss: 0.0457 - val_loss: 0.0444\n",
            "Epoch 18/100\n",
            "563/563 [==============================] - 1s 1ms/step - loss: 0.0446 - val_loss: 0.0432\n",
            "Epoch 19/100\n",
            "563/563 [==============================] - 1s 1ms/step - loss: 0.0436 - val_loss: 0.0423\n",
            "Epoch 20/100\n",
            "563/563 [==============================] - 1s 1ms/step - loss: 0.0425 - val_loss: 0.0412\n",
            "Epoch 21/100\n",
            "563/563 [==============================] - 1s 1ms/step - loss: 0.0414 - val_loss: 0.0413\n",
            "Epoch 22/100\n",
            "563/563 [==============================] - 1s 1ms/step - loss: 0.0403 - val_loss: 0.0390\n",
            "Epoch 23/100\n",
            "563/563 [==============================] - 1s 1ms/step - loss: 0.0391 - val_loss: 0.0390\n",
            "Epoch 24/100\n",
            "563/563 [==============================] - 1s 1ms/step - loss: 0.0377 - val_loss: 0.0367\n",
            "Epoch 25/100\n",
            "563/563 [==============================] - 1s 1ms/step - loss: 0.0364 - val_loss: 0.0355\n",
            "Epoch 26/100\n",
            "563/563 [==============================] - 1s 1ms/step - loss: 0.0349 - val_loss: 0.0339\n",
            "Epoch 27/100\n",
            "563/563 [==============================] - 1s 1ms/step - loss: 0.0335 - val_loss: 0.0330\n",
            "Epoch 28/100\n",
            "563/563 [==============================] - 1s 1ms/step - loss: 0.0320 - val_loss: 0.0309\n",
            "Epoch 29/100\n",
            "563/563 [==============================] - 1s 1ms/step - loss: 0.0304 - val_loss: 0.0302\n",
            "Epoch 30/100\n",
            "563/563 [==============================] - 1s 1ms/step - loss: 0.0289 - val_loss: 0.0282\n",
            "Epoch 31/100\n",
            "563/563 [==============================] - 1s 1ms/step - loss: 0.0274 - val_loss: 0.0266\n",
            "Epoch 32/100\n",
            "563/563 [==============================] - 1s 1ms/step - loss: 0.0258 - val_loss: 0.0252\n",
            "Epoch 33/100\n",
            "563/563 [==============================] - 1s 1ms/step - loss: 0.0244 - val_loss: 0.0239\n",
            "Epoch 34/100\n",
            "563/563 [==============================] - 1s 1ms/step - loss: 0.0231 - val_loss: 0.0227\n",
            "Epoch 35/100\n",
            "563/563 [==============================] - 1s 1ms/step - loss: 0.0218 - val_loss: 0.0236\n",
            "Epoch 36/100\n",
            "563/563 [==============================] - 1s 1ms/step - loss: 0.0206 - val_loss: 0.0214\n",
            "Epoch 37/100\n",
            "563/563 [==============================] - 1s 1ms/step - loss: 0.0195 - val_loss: 0.0197\n",
            "Epoch 38/100\n",
            "563/563 [==============================] - 1s 1ms/step - loss: 0.0186 - val_loss: 0.0186\n",
            "Epoch 39/100\n",
            "563/563 [==============================] - 1s 1ms/step - loss: 0.0177 - val_loss: 0.0187\n",
            "Epoch 40/100\n",
            "563/563 [==============================] - 1s 1ms/step - loss: 0.0168 - val_loss: 0.0171\n",
            "Epoch 41/100\n",
            "563/563 [==============================] - 1s 1ms/step - loss: 0.0161 - val_loss: 0.0168\n",
            "Epoch 42/100\n",
            "563/563 [==============================] - 1s 1ms/step - loss: 0.0155 - val_loss: 0.0165\n",
            "Epoch 43/100\n",
            "563/563 [==============================] - 1s 1ms/step - loss: 0.0148 - val_loss: 0.0155\n",
            "Epoch 44/100\n",
            "563/563 [==============================] - 1s 1ms/step - loss: 0.0142 - val_loss: 0.0156\n",
            "Epoch 45/100\n",
            "563/563 [==============================] - 1s 1ms/step - loss: 0.0137 - val_loss: 0.0146\n",
            "Epoch 46/100\n",
            "563/563 [==============================] - 1s 1ms/step - loss: 0.0133 - val_loss: 0.0151\n",
            "Epoch 47/100\n",
            "563/563 [==============================] - 1s 1ms/step - loss: 0.0128 - val_loss: 0.0135\n",
            "Epoch 48/100\n",
            "563/563 [==============================] - 1s 1ms/step - loss: 0.0124 - val_loss: 0.0137\n",
            "Epoch 49/100\n",
            "563/563 [==============================] - 1s 1ms/step - loss: 0.0121 - val_loss: 0.0130\n",
            "Epoch 50/100\n",
            "563/563 [==============================] - 1s 1ms/step - loss: 0.0118 - val_loss: 0.0126\n",
            "Epoch 51/100\n",
            "563/563 [==============================] - 1s 1ms/step - loss: 0.0115 - val_loss: 0.0130\n",
            "Epoch 52/100\n",
            "563/563 [==============================] - 1s 1ms/step - loss: 0.0112 - val_loss: 0.0122\n",
            "Epoch 53/100\n",
            "563/563 [==============================] - 1s 1ms/step - loss: 0.0109 - val_loss: 0.0115\n",
            "Epoch 54/100\n",
            "563/563 [==============================] - 1s 1ms/step - loss: 0.0107 - val_loss: 0.0113\n",
            "Epoch 55/100\n",
            "563/563 [==============================] - 1s 1ms/step - loss: 0.0104 - val_loss: 0.0115\n",
            "Epoch 56/100\n",
            "563/563 [==============================] - 1s 1ms/step - loss: 0.0102 - val_loss: 0.0111\n",
            "Epoch 57/100\n",
            "563/563 [==============================] - 1s 1ms/step - loss: 0.0101 - val_loss: 0.0111\n",
            "Epoch 58/100\n",
            "563/563 [==============================] - 1s 1ms/step - loss: 0.0099 - val_loss: 0.0108\n",
            "Epoch 59/100\n",
            "563/563 [==============================] - 1s 1ms/step - loss: 0.0097 - val_loss: 0.0103\n",
            "Epoch 60/100\n",
            "563/563 [==============================] - 1s 1ms/step - loss: 0.0095 - val_loss: 0.0110\n",
            "Epoch 61/100\n",
            "563/563 [==============================] - 1s 1ms/step - loss: 0.0093 - val_loss: 0.0099\n",
            "Epoch 62/100\n",
            "563/563 [==============================] - 1s 1ms/step - loss: 0.0092 - val_loss: 0.0098\n",
            "Epoch 63/100\n",
            "563/563 [==============================] - 1s 1ms/step - loss: 0.0091 - val_loss: 0.0099\n",
            "Epoch 64/100\n",
            "563/563 [==============================] - 1s 1ms/step - loss: 0.0089 - val_loss: 0.0097\n",
            "Epoch 65/100\n",
            "563/563 [==============================] - 1s 1ms/step - loss: 0.0088 - val_loss: 0.0104\n",
            "Epoch 66/100\n",
            "563/563 [==============================] - 1s 1ms/step - loss: 0.0086 - val_loss: 0.0094\n",
            "Epoch 67/100\n",
            "563/563 [==============================] - 1s 1ms/step - loss: 0.0085 - val_loss: 0.0091\n",
            "Epoch 68/100\n",
            "563/563 [==============================] - 1s 1ms/step - loss: 0.0084 - val_loss: 0.0091\n",
            "Epoch 69/100\n",
            "563/563 [==============================] - 1s 1ms/step - loss: 0.0082 - val_loss: 0.0103\n",
            "Epoch 70/100\n",
            "563/563 [==============================] - 1s 1ms/step - loss: 0.0083 - val_loss: 0.0093\n",
            "Epoch 71/100\n",
            "563/563 [==============================] - 1s 1ms/step - loss: 0.0082 - val_loss: 0.0086\n",
            "Epoch 72/100\n",
            "563/563 [==============================] - 1s 1ms/step - loss: 0.0081 - val_loss: 0.0087\n",
            "Epoch 73/100\n",
            "563/563 [==============================] - 1s 1ms/step - loss: 0.0080 - val_loss: 0.0085\n",
            "Epoch 74/100\n",
            "563/563 [==============================] - 1s 1ms/step - loss: 0.0079 - val_loss: 0.0083\n",
            "Epoch 75/100\n",
            "563/563 [==============================] - 1s 1ms/step - loss: 0.0078 - val_loss: 0.0085\n",
            "Epoch 76/100\n",
            "563/563 [==============================] - 1s 1ms/step - loss: 0.0077 - val_loss: 0.0087\n",
            "Epoch 77/100\n",
            "563/563 [==============================] - 1s 2ms/step - loss: 0.0076 - val_loss: 0.0080\n",
            "Epoch 78/100\n",
            "563/563 [==============================] - 1s 1ms/step - loss: 0.0075 - val_loss: 0.0080\n",
            "Epoch 79/100\n",
            "563/563 [==============================] - 1s 1ms/step - loss: 0.0074 - val_loss: 0.0080\n",
            "Epoch 80/100\n",
            "563/563 [==============================] - 1s 1ms/step - loss: 0.0073 - val_loss: 0.0078\n",
            "Epoch 81/100\n",
            "563/563 [==============================] - 1s 1ms/step - loss: 0.0073 - val_loss: 0.0081\n",
            "Epoch 82/100\n",
            "563/563 [==============================] - 1s 1ms/step - loss: 0.0072 - val_loss: 0.0075\n",
            "Epoch 83/100\n",
            "563/563 [==============================] - 1s 1ms/step - loss: 0.0071 - val_loss: 0.0078\n",
            "Epoch 84/100\n",
            "563/563 [==============================] - 1s 1ms/step - loss: 0.0071 - val_loss: 0.0074\n",
            "Epoch 85/100\n",
            "563/563 [==============================] - 1s 1ms/step - loss: 0.0070 - val_loss: 0.0073\n",
            "Epoch 86/100\n",
            "563/563 [==============================] - 1s 1ms/step - loss: 0.0070 - val_loss: 0.0084\n",
            "Epoch 87/100\n",
            "563/563 [==============================] - 1s 1ms/step - loss: 0.0069 - val_loss: 0.0074\n",
            "Epoch 88/100\n",
            "563/563 [==============================] - 1s 1ms/step - loss: 0.0068 - val_loss: 0.0088\n",
            "Epoch 89/100\n",
            "563/563 [==============================] - 1s 1ms/step - loss: 0.0067 - val_loss: 0.0071\n",
            "Epoch 90/100\n",
            "563/563 [==============================] - 1s 1ms/step - loss: 0.0068 - val_loss: 0.0072\n",
            "Epoch 91/100\n",
            "563/563 [==============================] - 1s 1ms/step - loss: 0.0067 - val_loss: 0.0071\n",
            "Epoch 92/100\n",
            "563/563 [==============================] - 1s 1ms/step - loss: 0.0065 - val_loss: 0.0077\n",
            "Epoch 93/100\n",
            "563/563 [==============================] - 1s 1ms/step - loss: 0.0065 - val_loss: 0.0087\n",
            "Epoch 94/100\n",
            "563/563 [==============================] - 1s 1ms/step - loss: 0.0065 - val_loss: 0.0069\n",
            "Epoch 95/100\n",
            "563/563 [==============================] - 1s 1ms/step - loss: 0.0065 - val_loss: 0.0086\n",
            "Epoch 96/100\n",
            "563/563 [==============================] - 1s 1ms/step - loss: 0.0064 - val_loss: 0.0071\n",
            "Epoch 97/100\n",
            "563/563 [==============================] - 1s 1ms/step - loss: 0.0064 - val_loss: 0.0080\n",
            "Epoch 98/100\n",
            "563/563 [==============================] - 1s 1ms/step - loss: 0.0062 - val_loss: 0.0088\n",
            "Epoch 99/100\n",
            "563/563 [==============================] - 1s 1ms/step - loss: 0.0062 - val_loss: 0.0073\n",
            "Epoch 100/100\n",
            "563/563 [==============================] - 1s 1ms/step - loss: 0.0062 - val_loss: 0.0069\n"
          ],
          "name": "stdout"
        },
        {
          "output_type": "execute_result",
          "data": {
            "text/plain": [
              "<matplotlib.collections.PathCollection at 0x7fd2728d5cf8>"
            ]
          },
          "metadata": {
            "tags": []
          },
          "execution_count": 7
        },
        {
          "output_type": "display_data",
          "data": {
            "image/png": "[encoded data removed]",
            "text/plain": [
              "<Figure size 432x288 with 1 Axes>"
            ]
          },
          "metadata": {
            "tags": [],
            "needs_background": "light"
          }
        }
      ]
    },
    {
      "cell_type": "markdown",
      "metadata": {
        "id": "KzTg8ocJ11NI",
        "colab_type": "text"
      },
      "source": [
        "출력 노드의 값은 0과 1이 서로 상반된다.\n",
        "\n",
        "하지만 이렇게 카테고리 개수 만큼 출력 노드가 있는 경우, 카테고리를 2개 이상으로 해도 처리가 가능해 진다."
      ]
    },
    {
      "cell_type": "markdown",
      "metadata": {
        "id": "MckR3PraC79y",
        "colab_type": "text"
      },
      "source": [
        "# 클래스 4개, 출력 노드 4개"
      ]
    },
    {
      "cell_type": "code",
      "metadata": {
        "id": "s5MGpN31104d",
        "colab_type": "code",
        "colab": {
          "base_uri": "https://localhost:8080/",
          "height": 441
        },
        "outputId": "08a65af5-abb1-492c-ab63-0390e528432b"
      },
      "source": [
        "train_x = np.arange(0, 1, 0.001)\n",
        "\n",
        "class_index = np.zeros_like(train_x, dtype=np.int)\n",
        "class_index[:250] = 0\n",
        "class_index[250:500] = 1\n",
        "class_index[500:750] = 2\n",
        "class_index[750:] = 3\n",
        "\n",
        "\n",
        "plt.scatter(train_x, class_index)\n",
        "plt.show()\n",
        "\n",
        "train_y = np.zeros((1000, 4))\n",
        "train_y[np.arange(1000), class_index] = 1 # one-hot 인코딩\n",
        "\n",
        "print(train_y[245:255])"
      ],
      "execution_count": 10,
      "outputs": [
        {
          "output_type": "display_data",
          "data": {
            "image/png": "[encoded data removed]",
            "text/plain": [
              "<Figure size 432x288 with 1 Axes>"
            ]
          },
          "metadata": {
            "tags": [],
            "needs_background": "light"
          }
        },
        {
          "output_type": "stream",
          "text": [
            "[[1. 0. 0. 0.]\n",
            " [1. 0. 0. 0.]\n",
            " [1. 0. 0. 0.]\n",
            " [1. 0. 0. 0.]\n",
            " [1. 0. 0. 0.]\n",
            " [0. 1. 0. 0.]\n",
            " [0. 1. 0. 0.]\n",
            " [0. 1. 0. 0.]\n",
            " [0. 1. 0. 0.]\n",
            " [0. 1. 0. 0.]]\n"
          ],
          "name": "stdout"
        }
      ]
    },
    {
      "cell_type": "code",
      "metadata": {
        "id": "yueRB3TCGBVx",
        "colab_type": "code",
        "colab": {
          "base_uri": "https://localhost:8080/",
          "height": 4529
        },
        "outputId": "5fa024d1-add3-4987-c00e-aef089cba50d"
      },
      "source": [
        "from tensorflow import keras\n",
        "from tensorflow.keras import optimizers\n",
        "from tensorflow.keras.layers import Dense\n",
        "from tensorflow.keras.optimizers import SGD\n",
        "\n",
        "\n",
        "model = keras.Sequential()\n",
        "model.add(Dense(10, activation='relu', input_shape=(1,)))\n",
        "model.add(Dense(10, activation='relu'))\n",
        "model.add(Dense(10, activation='relu'))\n",
        "model.add(Dense(4))\n",
        "\n",
        "model.compile(optimizer=\"SGD\", loss=\"mse\")\n",
        "model.fit(train_x, train_y, epochs=100, verbose=1, batch_size=1, validation_split=0.1)\n",
        "\n",
        "x_ = np.arange(0, 1, 0.01)\n",
        "y_ = model.predict(x_)\n",
        "for i in range(4):\n",
        "  plt.scatter(x_, y_[:,i])\n",
        "  plt.show()\n"
      ],
      "execution_count": 11,
      "outputs": [
        {
          "output_type": "stream",
          "text": [
            "Epoch 1/100\n",
            "900/900 [==============================] - 1s 1ms/step - loss: 0.1886 - val_loss: 0.2223\n",
            "Epoch 2/100\n",
            "900/900 [==============================] - 1s 1ms/step - loss: 0.1754 - val_loss: 0.2130\n",
            "Epoch 3/100\n",
            "900/900 [==============================] - 1s 1ms/step - loss: 0.1657 - val_loss: 0.2062\n",
            "Epoch 4/100\n",
            "900/900 [==============================] - 1s 1ms/step - loss: 0.1514 - val_loss: 0.1911\n",
            "Epoch 5/100\n",
            "900/900 [==============================] - 1s 1ms/step - loss: 0.1377 - val_loss: 0.1784\n",
            "Epoch 6/100\n",
            "900/900 [==============================] - 1s 1ms/step - loss: 0.1297 - val_loss: 0.1807\n",
            "Epoch 7/100\n",
            "900/900 [==============================] - 1s 1ms/step - loss: 0.1264 - val_loss: 0.1763\n",
            "Epoch 8/100\n",
            "900/900 [==============================] - 1s 1ms/step - loss: 0.1242 - val_loss: 0.1814\n",
            "Epoch 9/100\n",
            "900/900 [==============================] - 1s 1ms/step - loss: 0.1226 - val_loss: 0.1764\n",
            "Epoch 10/100\n",
            "900/900 [==============================] - 1s 1ms/step - loss: 0.1207 - val_loss: 0.1729\n",
            "Epoch 11/100\n",
            "900/900 [==============================] - 1s 1ms/step - loss: 0.1172 - val_loss: 0.1643\n",
            "Epoch 12/100\n",
            "900/900 [==============================] - 1s 1ms/step - loss: 0.1136 - val_loss: 0.1350\n",
            "Epoch 13/100\n",
            "900/900 [==============================] - 1s 1ms/step - loss: 0.1073 - val_loss: 0.1093\n",
            "Epoch 14/100\n",
            "900/900 [==============================] - 1s 1ms/step - loss: 0.0992 - val_loss: 0.0834\n",
            "Epoch 15/100\n",
            "900/900 [==============================] - 1s 1ms/step - loss: 0.0892 - val_loss: 0.0629\n",
            "Epoch 16/100\n",
            "900/900 [==============================] - 1s 1ms/step - loss: 0.0802 - val_loss: 0.0428\n",
            "Epoch 17/100\n",
            "900/900 [==============================] - 1s 1ms/step - loss: 0.0717 - val_loss: 0.0408\n",
            "Epoch 18/100\n",
            "900/900 [==============================] - 1s 1ms/step - loss: 0.0651 - val_loss: 0.0406\n",
            "Epoch 19/100\n",
            "900/900 [==============================] - 1s 1ms/step - loss: 0.0594 - val_loss: 0.0371\n",
            "Epoch 20/100\n",
            "900/900 [==============================] - 1s 1ms/step - loss: 0.0548 - val_loss: 0.0405\n",
            "Epoch 21/100\n",
            "900/900 [==============================] - 1s 1ms/step - loss: 0.0502 - val_loss: 0.0395\n",
            "Epoch 22/100\n",
            "900/900 [==============================] - 1s 1ms/step - loss: 0.0457 - val_loss: 0.0270\n",
            "Epoch 23/100\n",
            "900/900 [==============================] - 1s 1ms/step - loss: 0.0409 - val_loss: 0.0318\n",
            "Epoch 24/100\n",
            "900/900 [==============================] - 1s 1ms/step - loss: 0.0374 - val_loss: 0.0530\n",
            "Epoch 25/100\n",
            "900/900 [==============================] - 1s 1ms/step - loss: 0.0340 - val_loss: 0.0773\n",
            "Epoch 26/100\n",
            "900/900 [==============================] - 1s 1ms/step - loss: 0.0313 - val_loss: 0.0393\n",
            "Epoch 27/100\n",
            "900/900 [==============================] - 1s 1ms/step - loss: 0.0296 - val_loss: 0.0298\n",
            "Epoch 28/100\n",
            "900/900 [==============================] - 1s 1ms/step - loss: 0.0283 - val_loss: 0.0500\n",
            "Epoch 29/100\n",
            "900/900 [==============================] - 1s 1ms/step - loss: 0.0266 - val_loss: 0.0878\n",
            "Epoch 30/100\n",
            "900/900 [==============================] - 1s 1ms/step - loss: 0.0254 - val_loss: 0.0955\n",
            "Epoch 31/100\n",
            "900/900 [==============================] - 1s 1ms/step - loss: 0.0253 - val_loss: 0.1160\n",
            "Epoch 32/100\n",
            "900/900 [==============================] - 1s 1ms/step - loss: 0.0247 - val_loss: 0.0541\n",
            "Epoch 33/100\n",
            "900/900 [==============================] - 1s 1ms/step - loss: 0.0235 - val_loss: 0.0446\n",
            "Epoch 34/100\n",
            "900/900 [==============================] - 1s 1ms/step - loss: 0.0233 - val_loss: 0.0650\n",
            "Epoch 35/100\n",
            "900/900 [==============================] - 1s 1ms/step - loss: 0.0228 - val_loss: 0.0640\n",
            "Epoch 36/100\n",
            "900/900 [==============================] - 1s 1ms/step - loss: 0.0223 - val_loss: 0.0625\n",
            "Epoch 37/100\n",
            "900/900 [==============================] - 1s 1ms/step - loss: 0.0221 - val_loss: 0.1592\n",
            "Epoch 38/100\n",
            "900/900 [==============================] - 1s 1ms/step - loss: 0.0221 - val_loss: 0.0640\n",
            "Epoch 39/100\n",
            "900/900 [==============================] - 1s 1ms/step - loss: 0.0211 - val_loss: 0.1364\n",
            "Epoch 40/100\n",
            "900/900 [==============================] - 1s 1ms/step - loss: 0.0210 - val_loss: 0.0737\n",
            "Epoch 41/100\n",
            "900/900 [==============================] - 1s 1ms/step - loss: 0.0210 - val_loss: 0.1300\n",
            "Epoch 42/100\n",
            "900/900 [==============================] - 1s 1ms/step - loss: 0.0215 - val_loss: 0.1199\n",
            "Epoch 43/100\n",
            "900/900 [==============================] - 1s 1ms/step - loss: 0.0213 - val_loss: 0.0855\n",
            "Epoch 44/100\n",
            "900/900 [==============================] - 1s 1ms/step - loss: 0.0209 - val_loss: 0.1320\n",
            "Epoch 45/100\n",
            "900/900 [==============================] - 1s 1ms/step - loss: 0.0203 - val_loss: 0.1212\n",
            "Epoch 46/100\n",
            "900/900 [==============================] - 1s 1ms/step - loss: 0.0195 - val_loss: 0.1297\n",
            "Epoch 47/100\n",
            "900/900 [==============================] - 1s 1ms/step - loss: 0.0191 - val_loss: 0.1285\n",
            "Epoch 48/100\n",
            "900/900 [==============================] - 1s 1ms/step - loss: 0.0190 - val_loss: 0.1047\n",
            "Epoch 49/100\n",
            "900/900 [==============================] - 1s 1ms/step - loss: 0.0195 - val_loss: 0.1755\n",
            "Epoch 50/100\n",
            "900/900 [==============================] - 1s 1ms/step - loss: 0.0182 - val_loss: 0.0600\n",
            "Epoch 51/100\n",
            "900/900 [==============================] - 1s 1ms/step - loss: 0.0188 - val_loss: 0.0868\n",
            "Epoch 52/100\n",
            "900/900 [==============================] - 1s 1ms/step - loss: 0.0191 - val_loss: 0.0944\n",
            "Epoch 53/100\n",
            "900/900 [==============================] - 1s 1ms/step - loss: 0.0182 - val_loss: 0.0990\n",
            "Epoch 54/100\n",
            "900/900 [==============================] - 1s 1ms/step - loss: 0.0189 - val_loss: 0.0882\n",
            "Epoch 55/100\n",
            "900/900 [==============================] - 1s 1ms/step - loss: 0.0176 - val_loss: 0.1837\n",
            "Epoch 56/100\n",
            "900/900 [==============================] - 1s 1ms/step - loss: 0.0185 - val_loss: 0.1421\n",
            "Epoch 57/100\n",
            "900/900 [==============================] - 1s 1ms/step - loss: 0.0175 - val_loss: 0.1038\n",
            "Epoch 58/100\n",
            "900/900 [==============================] - 1s 1ms/step - loss: 0.0170 - val_loss: 0.0911\n",
            "Epoch 59/100\n",
            "900/900 [==============================] - 1s 1ms/step - loss: 0.0177 - val_loss: 0.0453\n",
            "Epoch 60/100\n",
            "900/900 [==============================] - 1s 1ms/step - loss: 0.0182 - val_loss: 0.1375\n",
            "Epoch 61/100\n",
            "900/900 [==============================] - 1s 1ms/step - loss: 0.0174 - val_loss: 0.0854\n",
            "Epoch 62/100\n",
            "900/900 [==============================] - 1s 1ms/step - loss: 0.0175 - val_loss: 0.1122\n",
            "Epoch 63/100\n",
            "900/900 [==============================] - 1s 1ms/step - loss: 0.0178 - val_loss: 0.1320\n",
            "Epoch 64/100\n",
            "900/900 [==============================] - 1s 1ms/step - loss: 0.0174 - val_loss: 0.0679\n",
            "Epoch 65/100\n",
            "900/900 [==============================] - 1s 1ms/step - loss: 0.0157 - val_loss: 0.2014\n",
            "Epoch 66/100\n",
            "900/900 [==============================] - 1s 1ms/step - loss: 0.0161 - val_loss: 0.1241\n",
            "Epoch 67/100\n",
            "900/900 [==============================] - 1s 1ms/step - loss: 0.0161 - val_loss: 0.0986\n",
            "Epoch 68/100\n",
            "900/900 [==============================] - 1s 1ms/step - loss: 0.0166 - val_loss: 0.1859\n",
            "Epoch 69/100\n",
            "900/900 [==============================] - 1s 1ms/step - loss: 0.0168 - val_loss: 0.0901\n",
            "Epoch 70/100\n",
            "900/900 [==============================] - 1s 1ms/step - loss: 0.0160 - val_loss: 0.1098\n",
            "Epoch 71/100\n",
            "900/900 [==============================] - 1s 1ms/step - loss: 0.0150 - val_loss: 0.1269\n",
            "Epoch 72/100\n",
            "900/900 [==============================] - 1s 1ms/step - loss: 0.0164 - val_loss: 0.1170\n",
            "Epoch 73/100\n",
            "900/900 [==============================] - 1s 1ms/step - loss: 0.0160 - val_loss: 0.1312\n",
            "Epoch 74/100\n",
            "900/900 [==============================] - 1s 1ms/step - loss: 0.0156 - val_loss: 0.0552\n",
            "Epoch 75/100\n",
            "900/900 [==============================] - 1s 1ms/step - loss: 0.0143 - val_loss: 0.0558\n",
            "Epoch 76/100\n",
            "900/900 [==============================] - 1s 1ms/step - loss: 0.0155 - val_loss: 0.0655\n",
            "Epoch 77/100\n",
            "900/900 [==============================] - 1s 1ms/step - loss: 0.0152 - val_loss: 0.1018\n",
            "Epoch 78/100\n",
            "900/900 [==============================] - 1s 1ms/step - loss: 0.0146 - val_loss: 0.0335\n",
            "Epoch 79/100\n",
            "900/900 [==============================] - 1s 1ms/step - loss: 0.0154 - val_loss: 0.1045\n",
            "Epoch 80/100\n",
            "900/900 [==============================] - 1s 1ms/step - loss: 0.0157 - val_loss: 0.0514\n",
            "Epoch 81/100\n",
            "900/900 [==============================] - 1s 1ms/step - loss: 0.0163 - val_loss: 0.0651\n",
            "Epoch 82/100\n",
            "900/900 [==============================] - 1s 1ms/step - loss: 0.0157 - val_loss: 0.0779\n",
            "Epoch 83/100\n",
            "900/900 [==============================] - 1s 1ms/step - loss: 0.0145 - val_loss: 0.1306\n",
            "Epoch 84/100\n",
            "900/900 [==============================] - 1s 1ms/step - loss: 0.0141 - val_loss: 0.1170\n",
            "Epoch 85/100\n",
            "900/900 [==============================] - 1s 1ms/step - loss: 0.0154 - val_loss: 0.0856\n",
            "Epoch 86/100\n",
            "900/900 [==============================] - 1s 1ms/step - loss: 0.0143 - val_loss: 0.0717\n",
            "Epoch 87/100\n",
            "900/900 [==============================] - 1s 1ms/step - loss: 0.0157 - val_loss: 0.1334\n",
            "Epoch 88/100\n",
            "900/900 [==============================] - 1s 1ms/step - loss: 0.0142 - val_loss: 0.0541\n",
            "Epoch 89/100\n",
            "900/900 [==============================] - 1s 1ms/step - loss: 0.0152 - val_loss: 0.0361\n",
            "Epoch 90/100\n",
            "900/900 [==============================] - 1s 1ms/step - loss: 0.0147 - val_loss: 0.1191\n",
            "Epoch 91/100\n",
            "900/900 [==============================] - 1s 1ms/step - loss: 0.0137 - val_loss: 0.0977\n",
            "Epoch 92/100\n",
            "900/900 [==============================] - 1s 1ms/step - loss: 0.0148 - val_loss: 0.0464\n",
            "Epoch 93/100\n",
            "900/900 [==============================] - 1s 1ms/step - loss: 0.0144 - val_loss: 0.0570\n",
            "Epoch 94/100\n",
            "900/900 [==============================] - 1s 1ms/step - loss: 0.0141 - val_loss: 0.0710\n",
            "Epoch 95/100\n",
            "900/900 [==============================] - 1s 1ms/step - loss: 0.0139 - val_loss: 0.0570\n",
            "Epoch 96/100\n",
            "900/900 [==============================] - 1s 1ms/step - loss: 0.0132 - val_loss: 0.0528\n",
            "Epoch 97/100\n",
            "900/900 [==============================] - 1s 1ms/step - loss: 0.0151 - val_loss: 0.1007\n",
            "Epoch 98/100\n",
            "900/900 [==============================] - 1s 1ms/step - loss: 0.0141 - val_loss: 0.0766\n",
            "Epoch 99/100\n",
            "900/900 [==============================] - 1s 1ms/step - loss: 0.0141 - val_loss: 0.0182\n",
            "Epoch 100/100\n",
            "900/900 [==============================] - 1s 1ms/step - loss: 0.0139 - val_loss: 0.1209\n"
          ],
          "name": "stdout"
        },
        {
          "output_type": "display_data",
          "data": {
            "image/png": "[encoded data removed]",
            "text/plain": [
              "<Figure size 432x288 with 1 Axes>"
            ]
          },
          "metadata": {
            "tags": [],
            "needs_background": "light"
          }
        },
        {
          "output_type": "display_data",
          "data": {
            "image/png": "[encoded data removed]",
            "text/plain": [
              "<Figure size 432x288 with 1 Axes>"
            ]
          },
          "metadata": {
            "tags": [],
            "needs_background": "light"
          }
        },
        {
          "output_type": "display_data",
          "data": {
            "image/png": "[encoded data removed]",
            "text/plain": [
              "<Figure size 432x288 with 1 Axes>"
            ]
          },
          "metadata": {
            "tags": [],
            "needs_background": "light"
          }
        },
        {
          "output_type": "display_data",
          "data": {
            "image/png": "[encoded data removed]",
            "text/plain": [
              "<Figure size 432x288 with 1 Axes>"
            ]
          },
          "metadata": {
            "tags": [],
            "needs_background": "light"
          }
        }
      ]
    },
    {
      "cell_type": "code",
      "metadata": {
        "id": "82mnxtU0OqBH",
        "colab_type": "code",
        "colab": {}
      },
      "source": [
        ""
      ],
      "execution_count": 11,
      "outputs": []
    }
  ]
}